{
 "cells": [
  {
   "cell_type": "code",
   "execution_count": 135,
   "metadata": {},
   "outputs": [],
   "source": [
    "import pandas as pd\n",
    "from sklearn import preprocessing, preprocessing\n",
    "import matplotlib.dates as mdates"
   ]
  },
  {
   "cell_type": "code",
   "execution_count": 136,
   "metadata": {},
   "outputs": [],
   "source": [
    "tweets = pd.read_pickle('tweets_processed.pkl')\n",
    "stocks = pd.read_pickle('stocks_processed.pkl')"
   ]
  },
  {
   "cell_type": "code",
   "execution_count": 137,
   "metadata": {},
   "outputs": [],
   "source": [
    "stocks.index.rename(tweets.index.name, inplace=True)"
   ]
  },
  {
   "cell_type": "code",
   "execution_count": 138,
   "metadata": {},
   "outputs": [],
   "source": [
    "df = pd.merge(tweets, stocks, on=[tweets.index.name])"
   ]
  },
  {
   "cell_type": "code",
   "execution_count": 139,
   "metadata": {},
   "outputs": [],
   "source": [
    "df.columns = [str(name) for name in tweets.columns] + [name[0] for name in df.columns[10:]]"
   ]
  },
  {
   "cell_type": "code",
   "execution_count": 140,
   "metadata": {},
   "outputs": [
    {
     "output_type": "execute_result",
     "data": {
      "text/plain": "                           retweets  favorites  replies  is_retweet  \\\ndate                                                                  \n2016-01-11 00:00:00-05:00     12040      23921     1333           2   \n2016-01-12 00:00:00-05:00       856       2098      124           1   \n2016-01-15 00:00:00-05:00      1559       5520      322           1   \n2016-01-20 00:00:00-05:00        47        242       53           1   \n2016-01-25 00:00:00-05:00       263       1262       71           1   \n...                             ...        ...      ...         ...   \n2020-04-27 00:00:00-05:00     81131     738373    22426          43   \n2020-04-28 00:00:00-05:00      1119      21631      322           1   \n2020-04-29 00:00:00-05:00    137456     781791    77666           8   \n2020-04-30 00:00:00-05:00     57024     289003    20880          11   \n2020-05-01 00:00:00-05:00    124550    1156410    95075          16   \n\n                           closely_related  money_related  other_related  \\\ndate                                                                       \n2016-01-11 00:00:00-05:00                2              0              1   \n2016-01-12 00:00:00-05:00                0              0              1   \n2016-01-15 00:00:00-05:00                0              0              0   \n2016-01-20 00:00:00-05:00                2              0              0   \n2016-01-25 00:00:00-05:00                0              0              0   \n...                                    ...            ...            ...   \n2020-04-27 00:00:00-05:00                2              0              3   \n2020-04-28 00:00:00-05:00                0              0              0   \n2020-04-29 00:00:00-05:00                0              0              0   \n2020-04-30 00:00:00-05:00                0              0              2   \n2020-05-01 00:00:00-05:00                1              2              2   \n\n                           tesla  polarity  subjectivity  TSLA_close_%  \\\ndate                                                                     \n2016-01-11 00:00:00-05:00      1  0.092000      0.473000     -0.014929   \n2016-01-12 00:00:00-05:00      0  0.000000      0.000000      0.010200   \n2016-01-15 00:00:00-05:00      0  0.425000      0.400000     -0.005772   \n2016-01-20 00:00:00-05:00      0  0.000000      0.100000     -0.029406   \n2016-01-25 00:00:00-05:00      0  0.500000      0.500000     -0.030462   \n...                          ...       ...           ...           ...   \n2020-04-27 00:00:00-05:00      0  0.147439      0.298169      0.101496   \n2020-04-28 00:00:00-05:00      0  0.000000      0.000000     -0.037095   \n2020-04-29 00:00:00-05:00      0  0.082341      0.175397      0.040813   \n2020-04-30 00:00:00-05:00      0  0.112500      0.212473     -0.023273   \n2020-05-01 00:00:00-05:00      2  0.111959      0.309485     -0.103034   \n\n                           NASDAQ_close_%  net_close_%  net_diff   net_vol  \ndate                                                                        \n2016-01-11 00:00:00-05:00       -0.001214    -0.013714 -0.007236 -0.116908  \n2016-01-12 00:00:00-05:00        0.010334    -0.000135 -0.021131 -0.086477  \n2016-01-15 00:00:00-05:00       -0.027428     0.021656  0.073313 -0.174806  \n2016-01-20 00:00:00-05:00       -0.001175    -0.028231 -0.017651 -0.245248  \n2016-01-25 00:00:00-05:00       -0.015833    -0.014629  0.022848 -0.070090  \n...                                   ...          ...       ...       ...  \n2020-04-27 00:00:00-05:00        0.011077     0.090420  0.203501 -0.086932  \n2020-04-28 00:00:00-05:00       -0.014024    -0.023072 -0.030139 -0.184673  \n2020-04-29 00:00:00-05:00        0.035663     0.005150 -0.074893 -0.298152  \n2020-04-30 00:00:00-05:00       -0.002822    -0.020450 -0.050292 -0.079338  \n2020-05-01 00:00:00-05:00       -0.032015    -0.071019 -0.112195  0.103543  \n\n[863 rows x 15 columns]",
      "text/html": "<div>\n<style scoped>\n    .dataframe tbody tr th:only-of-type {\n        vertical-align: middle;\n    }\n\n    .dataframe tbody tr th {\n        vertical-align: top;\n    }\n\n    .dataframe thead th {\n        text-align: right;\n    }\n</style>\n<table border=\"1\" class=\"dataframe\">\n  <thead>\n    <tr style=\"text-align: right;\">\n      <th></th>\n      <th>retweets</th>\n      <th>favorites</th>\n      <th>replies</th>\n      <th>is_retweet</th>\n      <th>closely_related</th>\n      <th>money_related</th>\n      <th>other_related</th>\n      <th>tesla</th>\n      <th>polarity</th>\n      <th>subjectivity</th>\n      <th>TSLA_close_%</th>\n      <th>NASDAQ_close_%</th>\n      <th>net_close_%</th>\n      <th>net_diff</th>\n      <th>net_vol</th>\n    </tr>\n    <tr>\n      <th>date</th>\n      <th></th>\n      <th></th>\n      <th></th>\n      <th></th>\n      <th></th>\n      <th></th>\n      <th></th>\n      <th></th>\n      <th></th>\n      <th></th>\n      <th></th>\n      <th></th>\n      <th></th>\n      <th></th>\n      <th></th>\n    </tr>\n  </thead>\n  <tbody>\n    <tr>\n      <th>2016-01-11 00:00:00-05:00</th>\n      <td>12040</td>\n      <td>23921</td>\n      <td>1333</td>\n      <td>2</td>\n      <td>2</td>\n      <td>0</td>\n      <td>1</td>\n      <td>1</td>\n      <td>0.092000</td>\n      <td>0.473000</td>\n      <td>-0.014929</td>\n      <td>-0.001214</td>\n      <td>-0.013714</td>\n      <td>-0.007236</td>\n      <td>-0.116908</td>\n    </tr>\n    <tr>\n      <th>2016-01-12 00:00:00-05:00</th>\n      <td>856</td>\n      <td>2098</td>\n      <td>124</td>\n      <td>1</td>\n      <td>0</td>\n      <td>0</td>\n      <td>1</td>\n      <td>0</td>\n      <td>0.000000</td>\n      <td>0.000000</td>\n      <td>0.010200</td>\n      <td>0.010334</td>\n      <td>-0.000135</td>\n      <td>-0.021131</td>\n      <td>-0.086477</td>\n    </tr>\n    <tr>\n      <th>2016-01-15 00:00:00-05:00</th>\n      <td>1559</td>\n      <td>5520</td>\n      <td>322</td>\n      <td>1</td>\n      <td>0</td>\n      <td>0</td>\n      <td>0</td>\n      <td>0</td>\n      <td>0.425000</td>\n      <td>0.400000</td>\n      <td>-0.005772</td>\n      <td>-0.027428</td>\n      <td>0.021656</td>\n      <td>0.073313</td>\n      <td>-0.174806</td>\n    </tr>\n    <tr>\n      <th>2016-01-20 00:00:00-05:00</th>\n      <td>47</td>\n      <td>242</td>\n      <td>53</td>\n      <td>1</td>\n      <td>2</td>\n      <td>0</td>\n      <td>0</td>\n      <td>0</td>\n      <td>0.000000</td>\n      <td>0.100000</td>\n      <td>-0.029406</td>\n      <td>-0.001175</td>\n      <td>-0.028231</td>\n      <td>-0.017651</td>\n      <td>-0.245248</td>\n    </tr>\n    <tr>\n      <th>2016-01-25 00:00:00-05:00</th>\n      <td>263</td>\n      <td>1262</td>\n      <td>71</td>\n      <td>1</td>\n      <td>0</td>\n      <td>0</td>\n      <td>0</td>\n      <td>0</td>\n      <td>0.500000</td>\n      <td>0.500000</td>\n      <td>-0.030462</td>\n      <td>-0.015833</td>\n      <td>-0.014629</td>\n      <td>0.022848</td>\n      <td>-0.070090</td>\n    </tr>\n    <tr>\n      <th>...</th>\n      <td>...</td>\n      <td>...</td>\n      <td>...</td>\n      <td>...</td>\n      <td>...</td>\n      <td>...</td>\n      <td>...</td>\n      <td>...</td>\n      <td>...</td>\n      <td>...</td>\n      <td>...</td>\n      <td>...</td>\n      <td>...</td>\n      <td>...</td>\n      <td>...</td>\n    </tr>\n    <tr>\n      <th>2020-04-27 00:00:00-05:00</th>\n      <td>81131</td>\n      <td>738373</td>\n      <td>22426</td>\n      <td>43</td>\n      <td>2</td>\n      <td>0</td>\n      <td>3</td>\n      <td>0</td>\n      <td>0.147439</td>\n      <td>0.298169</td>\n      <td>0.101496</td>\n      <td>0.011077</td>\n      <td>0.090420</td>\n      <td>0.203501</td>\n      <td>-0.086932</td>\n    </tr>\n    <tr>\n      <th>2020-04-28 00:00:00-05:00</th>\n      <td>1119</td>\n      <td>21631</td>\n      <td>322</td>\n      <td>1</td>\n      <td>0</td>\n      <td>0</td>\n      <td>0</td>\n      <td>0</td>\n      <td>0.000000</td>\n      <td>0.000000</td>\n      <td>-0.037095</td>\n      <td>-0.014024</td>\n      <td>-0.023072</td>\n      <td>-0.030139</td>\n      <td>-0.184673</td>\n    </tr>\n    <tr>\n      <th>2020-04-29 00:00:00-05:00</th>\n      <td>137456</td>\n      <td>781791</td>\n      <td>77666</td>\n      <td>8</td>\n      <td>0</td>\n      <td>0</td>\n      <td>0</td>\n      <td>0</td>\n      <td>0.082341</td>\n      <td>0.175397</td>\n      <td>0.040813</td>\n      <td>0.035663</td>\n      <td>0.005150</td>\n      <td>-0.074893</td>\n      <td>-0.298152</td>\n    </tr>\n    <tr>\n      <th>2020-04-30 00:00:00-05:00</th>\n      <td>57024</td>\n      <td>289003</td>\n      <td>20880</td>\n      <td>11</td>\n      <td>0</td>\n      <td>0</td>\n      <td>2</td>\n      <td>0</td>\n      <td>0.112500</td>\n      <td>0.212473</td>\n      <td>-0.023273</td>\n      <td>-0.002822</td>\n      <td>-0.020450</td>\n      <td>-0.050292</td>\n      <td>-0.079338</td>\n    </tr>\n    <tr>\n      <th>2020-05-01 00:00:00-05:00</th>\n      <td>124550</td>\n      <td>1156410</td>\n      <td>95075</td>\n      <td>16</td>\n      <td>1</td>\n      <td>2</td>\n      <td>2</td>\n      <td>2</td>\n      <td>0.111959</td>\n      <td>0.309485</td>\n      <td>-0.103034</td>\n      <td>-0.032015</td>\n      <td>-0.071019</td>\n      <td>-0.112195</td>\n      <td>0.103543</td>\n    </tr>\n  </tbody>\n</table>\n<p>863 rows × 15 columns</p>\n</div>"
     },
     "metadata": {},
     "execution_count": 140
    }
   ],
   "source": [
    "df.dropna(inplace=True)\n",
    "df"
   ]
  }
 ],
 "metadata": {
  "language_info": {
   "codemirror_mode": {
    "name": "ipython",
    "version": 3
   },
   "file_extension": ".py",
   "mimetype": "text/x-python",
   "name": "python",
   "nbconvert_exporter": "python",
   "pygments_lexer": "ipython3",
   "version": "3.8.2-final"
  },
  "orig_nbformat": 2,
  "kernelspec": {
   "name": "python38264bitelonmusktweetsvsteslastockpipenvf8b8e951f16b4655a48ec4c89fae8154",
   "display_name": "Python 3.8.2 64-bit ('Elon-Musk-Tweets-VS-Tesla-Stock': pipenv)"
  }
 },
 "nbformat": 4,
 "nbformat_minor": 2
}