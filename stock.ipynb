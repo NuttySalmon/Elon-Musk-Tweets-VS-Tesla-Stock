{
 "cells": [
  {
   "cell_type": "code",
   "execution_count": 57,
   "metadata": {},
   "outputs": [],
   "source": [
    "import pandas as pd\n",
    "from sklearn import preprocessing"
   ]
  },
  {
   "cell_type": "code",
   "execution_count": 58,
   "metadata": {},
   "outputs": [],
   "source": [
    "df = pd.read_pickle('tsla.pkl')"
   ]
  },
  {
   "cell_type": "code",
   "execution_count": 59,
   "metadata": {},
   "outputs": [
    {
     "output_type": "execute_result",
     "data": {
      "text/plain": "             Adj Close                    Close                     High  \\\n                  TSLA        ^IXIC        TSLA        ^IXIC        TSLA   \nDate                                                                       \n2016-01-04  223.410004  4903.089844  223.410004  4903.089844  231.380005   \n2016-01-05  223.429993  4891.430176  223.429993  4891.430176  226.889999   \n2016-01-06  219.039993  4835.759766  219.039993  4835.759766  220.050003   \n2016-01-07  215.649994  4689.430176  215.649994  4689.430176  218.440002   \n2016-01-08  211.000000  4643.629883  211.000000  4643.629883  220.440002   \n...                ...          ...         ...          ...         ...   \n2019-04-25  247.630005  8118.680176  247.630005  8118.680176  259.000000   \n2019-04-26  235.139999  8146.399902  235.139999  8146.399902  246.679993   \n2019-04-29  241.470001  8161.850098  241.470001  8161.850098  243.979996   \n2019-04-30  238.690002  8095.390137  238.690002  8095.390137  244.210007   \n2019-05-01  234.009995  8049.640137  234.009995  8049.640137  240.000000   \n\n                                Low                     Open               \\\n                  ^IXIC        TSLA        ^IXIC        TSLA        ^IXIC   \nDate                                                                        \n2016-01-04  4903.089844  219.000000  4846.979980  230.720001  4897.649902   \n2016-01-05  4926.729980  220.000000  4872.740234  226.360001  4917.839844   \n2016-01-06  4866.040039  215.979996  4804.689941  220.000000  4813.759766   \n2016-01-07  4788.020020  213.669998  4688.169922  214.190002  4736.399902   \n2016-01-08  4742.569824  210.770004  4637.850098  217.860001  4722.020020   \n...                 ...         ...          ...         ...          ...   \n2019-04-25  8151.839844  246.070007  8075.410156  255.000000  8150.850098   \n2019-04-26  8146.419922  231.130005  8060.890137  246.500000  8100.279785   \n2019-04-29  8176.080078  232.169998  8136.410156  235.860001  8147.649902   \n2019-04-30  8124.609863  237.000000  8050.549805  242.059998  8104.910156   \n2019-05-01  8146.000000  231.500000  8048.229980  238.850006  8132.930176   \n\n              Volume              \n                TSLA       ^IXIC  \nDate                              \n2016-01-04   6827100  2218420000  \n2016-01-05   3186800  1927380000  \n2016-01-06   3779100  2168620000  \n2016-01-07   3554300  2552590000  \n2016-01-08   3628100  2288750000  \n...              ...         ...  \n2019-04-25  21849400  2063270000  \n2019-04-26  22360700  1971270000  \n2019-04-29  16714500  1761110000  \n2019-04-30   9464600  2115770000  \n2019-05-01  10704400  2247420000  \n\n[837 rows x 12 columns]",
      "text/html": "<div>\n<style scoped>\n    .dataframe tbody tr th:only-of-type {\n        vertical-align: middle;\n    }\n\n    .dataframe tbody tr th {\n        vertical-align: top;\n    }\n\n    .dataframe thead tr th {\n        text-align: left;\n    }\n\n    .dataframe thead tr:last-of-type th {\n        text-align: right;\n    }\n</style>\n<table border=\"1\" class=\"dataframe\">\n  <thead>\n    <tr>\n      <th></th>\n      <th colspan=\"2\" halign=\"left\">Adj Close</th>\n      <th colspan=\"2\" halign=\"left\">Close</th>\n      <th colspan=\"2\" halign=\"left\">High</th>\n      <th colspan=\"2\" halign=\"left\">Low</th>\n      <th colspan=\"2\" halign=\"left\">Open</th>\n      <th colspan=\"2\" halign=\"left\">Volume</th>\n    </tr>\n    <tr>\n      <th></th>\n      <th>TSLA</th>\n      <th>^IXIC</th>\n      <th>TSLA</th>\n      <th>^IXIC</th>\n      <th>TSLA</th>\n      <th>^IXIC</th>\n      <th>TSLA</th>\n      <th>^IXIC</th>\n      <th>TSLA</th>\n      <th>^IXIC</th>\n      <th>TSLA</th>\n      <th>^IXIC</th>\n    </tr>\n    <tr>\n      <th>Date</th>\n      <th></th>\n      <th></th>\n      <th></th>\n      <th></th>\n      <th></th>\n      <th></th>\n      <th></th>\n      <th></th>\n      <th></th>\n      <th></th>\n      <th></th>\n      <th></th>\n    </tr>\n  </thead>\n  <tbody>\n    <tr>\n      <th>2016-01-04</th>\n      <td>223.410004</td>\n      <td>4903.089844</td>\n      <td>223.410004</td>\n      <td>4903.089844</td>\n      <td>231.380005</td>\n      <td>4903.089844</td>\n      <td>219.000000</td>\n      <td>4846.979980</td>\n      <td>230.720001</td>\n      <td>4897.649902</td>\n      <td>6827100</td>\n      <td>2218420000</td>\n    </tr>\n    <tr>\n      <th>2016-01-05</th>\n      <td>223.429993</td>\n      <td>4891.430176</td>\n      <td>223.429993</td>\n      <td>4891.430176</td>\n      <td>226.889999</td>\n      <td>4926.729980</td>\n      <td>220.000000</td>\n      <td>4872.740234</td>\n      <td>226.360001</td>\n      <td>4917.839844</td>\n      <td>3186800</td>\n      <td>1927380000</td>\n    </tr>\n    <tr>\n      <th>2016-01-06</th>\n      <td>219.039993</td>\n      <td>4835.759766</td>\n      <td>219.039993</td>\n      <td>4835.759766</td>\n      <td>220.050003</td>\n      <td>4866.040039</td>\n      <td>215.979996</td>\n      <td>4804.689941</td>\n      <td>220.000000</td>\n      <td>4813.759766</td>\n      <td>3779100</td>\n      <td>2168620000</td>\n    </tr>\n    <tr>\n      <th>2016-01-07</th>\n      <td>215.649994</td>\n      <td>4689.430176</td>\n      <td>215.649994</td>\n      <td>4689.430176</td>\n      <td>218.440002</td>\n      <td>4788.020020</td>\n      <td>213.669998</td>\n      <td>4688.169922</td>\n      <td>214.190002</td>\n      <td>4736.399902</td>\n      <td>3554300</td>\n      <td>2552590000</td>\n    </tr>\n    <tr>\n      <th>2016-01-08</th>\n      <td>211.000000</td>\n      <td>4643.629883</td>\n      <td>211.000000</td>\n      <td>4643.629883</td>\n      <td>220.440002</td>\n      <td>4742.569824</td>\n      <td>210.770004</td>\n      <td>4637.850098</td>\n      <td>217.860001</td>\n      <td>4722.020020</td>\n      <td>3628100</td>\n      <td>2288750000</td>\n    </tr>\n    <tr>\n      <th>...</th>\n      <td>...</td>\n      <td>...</td>\n      <td>...</td>\n      <td>...</td>\n      <td>...</td>\n      <td>...</td>\n      <td>...</td>\n      <td>...</td>\n      <td>...</td>\n      <td>...</td>\n      <td>...</td>\n      <td>...</td>\n    </tr>\n    <tr>\n      <th>2019-04-25</th>\n      <td>247.630005</td>\n      <td>8118.680176</td>\n      <td>247.630005</td>\n      <td>8118.680176</td>\n      <td>259.000000</td>\n      <td>8151.839844</td>\n      <td>246.070007</td>\n      <td>8075.410156</td>\n      <td>255.000000</td>\n      <td>8150.850098</td>\n      <td>21849400</td>\n      <td>2063270000</td>\n    </tr>\n    <tr>\n      <th>2019-04-26</th>\n      <td>235.139999</td>\n      <td>8146.399902</td>\n      <td>235.139999</td>\n      <td>8146.399902</td>\n      <td>246.679993</td>\n      <td>8146.419922</td>\n      <td>231.130005</td>\n      <td>8060.890137</td>\n      <td>246.500000</td>\n      <td>8100.279785</td>\n      <td>22360700</td>\n      <td>1971270000</td>\n    </tr>\n    <tr>\n      <th>2019-04-29</th>\n      <td>241.470001</td>\n      <td>8161.850098</td>\n      <td>241.470001</td>\n      <td>8161.850098</td>\n      <td>243.979996</td>\n      <td>8176.080078</td>\n      <td>232.169998</td>\n      <td>8136.410156</td>\n      <td>235.860001</td>\n      <td>8147.649902</td>\n      <td>16714500</td>\n      <td>1761110000</td>\n    </tr>\n    <tr>\n      <th>2019-04-30</th>\n      <td>238.690002</td>\n      <td>8095.390137</td>\n      <td>238.690002</td>\n      <td>8095.390137</td>\n      <td>244.210007</td>\n      <td>8124.609863</td>\n      <td>237.000000</td>\n      <td>8050.549805</td>\n      <td>242.059998</td>\n      <td>8104.910156</td>\n      <td>9464600</td>\n      <td>2115770000</td>\n    </tr>\n    <tr>\n      <th>2019-05-01</th>\n      <td>234.009995</td>\n      <td>8049.640137</td>\n      <td>234.009995</td>\n      <td>8049.640137</td>\n      <td>240.000000</td>\n      <td>8146.000000</td>\n      <td>231.500000</td>\n      <td>8048.229980</td>\n      <td>238.850006</td>\n      <td>8132.930176</td>\n      <td>10704400</td>\n      <td>2247420000</td>\n    </tr>\n  </tbody>\n</table>\n<p>837 rows × 12 columns</p>\n</div>"
     },
     "metadata": {},
     "execution_count": 59
    }
   ],
   "source": [
    "df"
   ]
  },
  {
   "cell_type": "code",
   "execution_count": 60,
   "metadata": {},
   "outputs": [
    {
     "output_type": "execute_result",
     "data": {
      "text/plain": "        Adj Close                    Close                     High  \\\n             TSLA        ^IXIC        TSLA        ^IXIC        TSLA   \ncount  837.000000   837.000000  837.000000   837.000000  837.000000   \nmean   281.483190  6343.850872  281.483190  6343.850872  286.194612   \nstd     56.785764  1084.177147   56.785764  1084.177147   57.625461   \nmin    143.669998  4266.839844  143.669998  4266.839844  154.970001   \n25%    226.889999  5283.930176  226.889999  5283.930176  229.869995   \n50%    294.089996  6383.770020  294.089996  6383.770020  299.660004   \n75%    329.100006  7328.850098  329.100006  7328.850098  334.660004   \nmax    385.000000  8161.850098  385.000000  8161.850098  389.609985   \n\n                           Low                     Open               \\\n             ^IXIC        TSLA        ^IXIC        TSLA        ^IXIC   \ncount   837.000000  837.000000   837.000000  837.000000   837.000000   \nmean   6375.346832  276.482604  6306.667105  281.512413  6342.813797   \nstd    1091.541954   55.814878  1077.320703   56.761963  1085.445093   \nmin    4293.220215  141.050003  4209.759766  142.320007  4218.810059   \n25%    5308.600098  224.039993  5254.959961  227.369995  5283.580078   \n50%    6408.049805  288.200012  6355.879883  294.339996  6393.100098   \n75%    7363.520020  323.160004  7259.899902  328.440002  7316.500000   \nmax    8176.080078  379.350006  8136.410156  386.690002  8150.850098   \n\n             Volume                \n               TSLA         ^IXIC  \ncount  8.370000e+02  8.370000e+02  \nmean   6.778363e+06  2.037786e+09  \nstd    4.101262e+06  3.843703e+08  \nmin    1.659500e+06  7.680700e+08  \n25%    4.204300e+06  1.792610e+09  \n50%    5.727400e+06  1.979540e+09  \n75%    7.880900e+06  2.211460e+09  \nmax    3.364970e+07  4.534120e+09  ",
      "text/html": "<div>\n<style scoped>\n    .dataframe tbody tr th:only-of-type {\n        vertical-align: middle;\n    }\n\n    .dataframe tbody tr th {\n        vertical-align: top;\n    }\n\n    .dataframe thead tr th {\n        text-align: left;\n    }\n</style>\n<table border=\"1\" class=\"dataframe\">\n  <thead>\n    <tr>\n      <th></th>\n      <th colspan=\"2\" halign=\"left\">Adj Close</th>\n      <th colspan=\"2\" halign=\"left\">Close</th>\n      <th colspan=\"2\" halign=\"left\">High</th>\n      <th colspan=\"2\" halign=\"left\">Low</th>\n      <th colspan=\"2\" halign=\"left\">Open</th>\n      <th colspan=\"2\" halign=\"left\">Volume</th>\n    </tr>\n    <tr>\n      <th></th>\n      <th>TSLA</th>\n      <th>^IXIC</th>\n      <th>TSLA</th>\n      <th>^IXIC</th>\n      <th>TSLA</th>\n      <th>^IXIC</th>\n      <th>TSLA</th>\n      <th>^IXIC</th>\n      <th>TSLA</th>\n      <th>^IXIC</th>\n      <th>TSLA</th>\n      <th>^IXIC</th>\n    </tr>\n  </thead>\n  <tbody>\n    <tr>\n      <th>count</th>\n      <td>837.000000</td>\n      <td>837.000000</td>\n      <td>837.000000</td>\n      <td>837.000000</td>\n      <td>837.000000</td>\n      <td>837.000000</td>\n      <td>837.000000</td>\n      <td>837.000000</td>\n      <td>837.000000</td>\n      <td>837.000000</td>\n      <td>8.370000e+02</td>\n      <td>8.370000e+02</td>\n    </tr>\n    <tr>\n      <th>mean</th>\n      <td>281.483190</td>\n      <td>6343.850872</td>\n      <td>281.483190</td>\n      <td>6343.850872</td>\n      <td>286.194612</td>\n      <td>6375.346832</td>\n      <td>276.482604</td>\n      <td>6306.667105</td>\n      <td>281.512413</td>\n      <td>6342.813797</td>\n      <td>6.778363e+06</td>\n      <td>2.037786e+09</td>\n    </tr>\n    <tr>\n      <th>std</th>\n      <td>56.785764</td>\n      <td>1084.177147</td>\n      <td>56.785764</td>\n      <td>1084.177147</td>\n      <td>57.625461</td>\n      <td>1091.541954</td>\n      <td>55.814878</td>\n      <td>1077.320703</td>\n      <td>56.761963</td>\n      <td>1085.445093</td>\n      <td>4.101262e+06</td>\n      <td>3.843703e+08</td>\n    </tr>\n    <tr>\n      <th>min</th>\n      <td>143.669998</td>\n      <td>4266.839844</td>\n      <td>143.669998</td>\n      <td>4266.839844</td>\n      <td>154.970001</td>\n      <td>4293.220215</td>\n      <td>141.050003</td>\n      <td>4209.759766</td>\n      <td>142.320007</td>\n      <td>4218.810059</td>\n      <td>1.659500e+06</td>\n      <td>7.680700e+08</td>\n    </tr>\n    <tr>\n      <th>25%</th>\n      <td>226.889999</td>\n      <td>5283.930176</td>\n      <td>226.889999</td>\n      <td>5283.930176</td>\n      <td>229.869995</td>\n      <td>5308.600098</td>\n      <td>224.039993</td>\n      <td>5254.959961</td>\n      <td>227.369995</td>\n      <td>5283.580078</td>\n      <td>4.204300e+06</td>\n      <td>1.792610e+09</td>\n    </tr>\n    <tr>\n      <th>50%</th>\n      <td>294.089996</td>\n      <td>6383.770020</td>\n      <td>294.089996</td>\n      <td>6383.770020</td>\n      <td>299.660004</td>\n      <td>6408.049805</td>\n      <td>288.200012</td>\n      <td>6355.879883</td>\n      <td>294.339996</td>\n      <td>6393.100098</td>\n      <td>5.727400e+06</td>\n      <td>1.979540e+09</td>\n    </tr>\n    <tr>\n      <th>75%</th>\n      <td>329.100006</td>\n      <td>7328.850098</td>\n      <td>329.100006</td>\n      <td>7328.850098</td>\n      <td>334.660004</td>\n      <td>7363.520020</td>\n      <td>323.160004</td>\n      <td>7259.899902</td>\n      <td>328.440002</td>\n      <td>7316.500000</td>\n      <td>7.880900e+06</td>\n      <td>2.211460e+09</td>\n    </tr>\n    <tr>\n      <th>max</th>\n      <td>385.000000</td>\n      <td>8161.850098</td>\n      <td>385.000000</td>\n      <td>8161.850098</td>\n      <td>389.609985</td>\n      <td>8176.080078</td>\n      <td>379.350006</td>\n      <td>8136.410156</td>\n      <td>386.690002</td>\n      <td>8150.850098</td>\n      <td>3.364970e+07</td>\n      <td>4.534120e+09</td>\n    </tr>\n  </tbody>\n</table>\n</div>"
     },
     "metadata": {},
     "execution_count": 60
    }
   ],
   "source": [
    "df.describe()"
   ]
  },
  {
   "cell_type": "code",
   "execution_count": 61,
   "metadata": {},
   "outputs": [
    {
     "output_type": "stream",
     "name": "stdout",
     "text": "<class 'pandas.core.frame.DataFrame'>\nDatetimeIndex: 837 entries, 2016-01-04 to 2019-05-01\nData columns (total 12 columns):\n #   Column              Non-Null Count  Dtype  \n---  ------              --------------  -----  \n 0   (Adj Close, TSLA)   837 non-null    float64\n 1   (Adj Close, ^IXIC)  837 non-null    float64\n 2   (Close, TSLA)       837 non-null    float64\n 3   (Close, ^IXIC)      837 non-null    float64\n 4   (High, TSLA)        837 non-null    float64\n 5   (High, ^IXIC)       837 non-null    float64\n 6   (Low, TSLA)         837 non-null    float64\n 7   (Low, ^IXIC)        837 non-null    float64\n 8   (Open, TSLA)        837 non-null    float64\n 9   (Open, ^IXIC)       837 non-null    float64\n 10  (Volume, TSLA)      837 non-null    int64  \n 11  (Volume, ^IXIC)     837 non-null    int64  \ndtypes: float64(10), int64(2)\nmemory usage: 85.0 KB\n"
    }
   ],
   "source": [
    "df.info()"
   ]
  },
  {
   "cell_type": "code",
   "execution_count": null,
   "metadata": {},
   "outputs": [],
   "source": []
  },
  {
   "cell_type": "code",
   "execution_count": 62,
   "metadata": {},
   "outputs": [],
   "source": [
    "min_max_scaler = preprocessing.MinMaxScaler(feature_range=(-1, 1))"
   ]
  },
  {
   "cell_type": "code",
   "execution_count": 63,
   "metadata": {},
   "outputs": [],
   "source": [
    "x_scaled = min_max_scaler.fit_transform(df['Adj Close']['TSLA'].values.reshape(1,-1))"
   ]
  },
  {
   "cell_type": "code",
   "execution_count": 64,
   "metadata": {},
   "outputs": [],
   "source": [
    "df['TSLA_diff'] = df['Adj Close']['TSLA'].diff()\n",
    "df['NASDAQ_diff'] = df['Adj Close']['^IXIC'].diff()"
   ]
  },
  {
   "cell_type": "code",
   "execution_count": 65,
   "metadata": {},
   "outputs": [
    {
     "output_type": "execute_result",
     "data": {
      "text/plain": "             Adj Close                    Close                     High  \\\n                  TSLA        ^IXIC        TSLA        ^IXIC        TSLA   \nDate                                                                       \n2016-01-04  223.410004  4903.089844  223.410004  4903.089844  231.380005   \n2016-01-05  223.429993  4891.430176  223.429993  4891.430176  226.889999   \n2016-01-06  219.039993  4835.759766  219.039993  4835.759766  220.050003   \n2016-01-07  215.649994  4689.430176  215.649994  4689.430176  218.440002   \n2016-01-08  211.000000  4643.629883  211.000000  4643.629883  220.440002   \n...                ...          ...         ...          ...         ...   \n2019-04-25  247.630005  8118.680176  247.630005  8118.680176  259.000000   \n2019-04-26  235.139999  8146.399902  235.139999  8146.399902  246.679993   \n2019-04-29  241.470001  8161.850098  241.470001  8161.850098  243.979996   \n2019-04-30  238.690002  8095.390137  238.690002  8095.390137  244.210007   \n2019-05-01  234.009995  8049.640137  234.009995  8049.640137  240.000000   \n\n                                Low                     Open               \\\n                  ^IXIC        TSLA        ^IXIC        TSLA        ^IXIC   \nDate                                                                        \n2016-01-04  4903.089844  219.000000  4846.979980  230.720001  4897.649902   \n2016-01-05  4926.729980  220.000000  4872.740234  226.360001  4917.839844   \n2016-01-06  4866.040039  215.979996  4804.689941  220.000000  4813.759766   \n2016-01-07  4788.020020  213.669998  4688.169922  214.190002  4736.399902   \n2016-01-08  4742.569824  210.770004  4637.850098  217.860001  4722.020020   \n...                 ...         ...          ...         ...          ...   \n2019-04-25  8151.839844  246.070007  8075.410156  255.000000  8150.850098   \n2019-04-26  8146.419922  231.130005  8060.890137  246.500000  8100.279785   \n2019-04-29  8176.080078  232.169998  8136.410156  235.860001  8147.649902   \n2019-04-30  8124.609863  237.000000  8050.549805  242.059998  8104.910156   \n2019-05-01  8146.000000  231.500000  8048.229980  238.850006  8132.930176   \n\n              Volume              TSLA_diff NASDAQ_diff  \n                TSLA       ^IXIC                         \nDate                                                     \n2016-01-04   6827100  2218420000        NaN         NaN  \n2016-01-05   3186800  1927380000   0.019989  -11.659668  \n2016-01-06   3779100  2168620000  -4.389999  -55.670410  \n2016-01-07   3554300  2552590000  -3.389999 -146.329590  \n2016-01-08   3628100  2288750000  -4.649994  -45.800293  \n...              ...         ...        ...         ...  \n2019-04-25  21849400  2063270000 -11.029999   16.670410  \n2019-04-26  22360700  1971270000 -12.490005   27.719727  \n2019-04-29  16714500  1761110000   6.330002   15.450195  \n2019-04-30   9464600  2115770000  -2.779999  -66.459961  \n2019-05-01  10704400  2247420000  -4.680008  -45.750000  \n\n[837 rows x 14 columns]",
      "text/html": "<div>\n<style scoped>\n    .dataframe tbody tr th:only-of-type {\n        vertical-align: middle;\n    }\n\n    .dataframe tbody tr th {\n        vertical-align: top;\n    }\n\n    .dataframe thead tr th {\n        text-align: left;\n    }\n\n    .dataframe thead tr:last-of-type th {\n        text-align: right;\n    }\n</style>\n<table border=\"1\" class=\"dataframe\">\n  <thead>\n    <tr>\n      <th></th>\n      <th colspan=\"2\" halign=\"left\">Adj Close</th>\n      <th colspan=\"2\" halign=\"left\">Close</th>\n      <th colspan=\"2\" halign=\"left\">High</th>\n      <th colspan=\"2\" halign=\"left\">Low</th>\n      <th colspan=\"2\" halign=\"left\">Open</th>\n      <th colspan=\"2\" halign=\"left\">Volume</th>\n      <th>TSLA_diff</th>\n      <th>NASDAQ_diff</th>\n    </tr>\n    <tr>\n      <th></th>\n      <th>TSLA</th>\n      <th>^IXIC</th>\n      <th>TSLA</th>\n      <th>^IXIC</th>\n      <th>TSLA</th>\n      <th>^IXIC</th>\n      <th>TSLA</th>\n      <th>^IXIC</th>\n      <th>TSLA</th>\n      <th>^IXIC</th>\n      <th>TSLA</th>\n      <th>^IXIC</th>\n      <th></th>\n      <th></th>\n    </tr>\n    <tr>\n      <th>Date</th>\n      <th></th>\n      <th></th>\n      <th></th>\n      <th></th>\n      <th></th>\n      <th></th>\n      <th></th>\n      <th></th>\n      <th></th>\n      <th></th>\n      <th></th>\n      <th></th>\n      <th></th>\n      <th></th>\n    </tr>\n  </thead>\n  <tbody>\n    <tr>\n      <th>2016-01-04</th>\n      <td>223.410004</td>\n      <td>4903.089844</td>\n      <td>223.410004</td>\n      <td>4903.089844</td>\n      <td>231.380005</td>\n      <td>4903.089844</td>\n      <td>219.000000</td>\n      <td>4846.979980</td>\n      <td>230.720001</td>\n      <td>4897.649902</td>\n      <td>6827100</td>\n      <td>2218420000</td>\n      <td>NaN</td>\n      <td>NaN</td>\n    </tr>\n    <tr>\n      <th>2016-01-05</th>\n      <td>223.429993</td>\n      <td>4891.430176</td>\n      <td>223.429993</td>\n      <td>4891.430176</td>\n      <td>226.889999</td>\n      <td>4926.729980</td>\n      <td>220.000000</td>\n      <td>4872.740234</td>\n      <td>226.360001</td>\n      <td>4917.839844</td>\n      <td>3186800</td>\n      <td>1927380000</td>\n      <td>0.019989</td>\n      <td>-11.659668</td>\n    </tr>\n    <tr>\n      <th>2016-01-06</th>\n      <td>219.039993</td>\n      <td>4835.759766</td>\n      <td>219.039993</td>\n      <td>4835.759766</td>\n      <td>220.050003</td>\n      <td>4866.040039</td>\n      <td>215.979996</td>\n      <td>4804.689941</td>\n      <td>220.000000</td>\n      <td>4813.759766</td>\n      <td>3779100</td>\n      <td>2168620000</td>\n      <td>-4.389999</td>\n      <td>-55.670410</td>\n    </tr>\n    <tr>\n      <th>2016-01-07</th>\n      <td>215.649994</td>\n      <td>4689.430176</td>\n      <td>215.649994</td>\n      <td>4689.430176</td>\n      <td>218.440002</td>\n      <td>4788.020020</td>\n      <td>213.669998</td>\n      <td>4688.169922</td>\n      <td>214.190002</td>\n      <td>4736.399902</td>\n      <td>3554300</td>\n      <td>2552590000</td>\n      <td>-3.389999</td>\n      <td>-146.329590</td>\n    </tr>\n    <tr>\n      <th>2016-01-08</th>\n      <td>211.000000</td>\n      <td>4643.629883</td>\n      <td>211.000000</td>\n      <td>4643.629883</td>\n      <td>220.440002</td>\n      <td>4742.569824</td>\n      <td>210.770004</td>\n      <td>4637.850098</td>\n      <td>217.860001</td>\n      <td>4722.020020</td>\n      <td>3628100</td>\n      <td>2288750000</td>\n      <td>-4.649994</td>\n      <td>-45.800293</td>\n    </tr>\n    <tr>\n      <th>...</th>\n      <td>...</td>\n      <td>...</td>\n      <td>...</td>\n      <td>...</td>\n      <td>...</td>\n      <td>...</td>\n      <td>...</td>\n      <td>...</td>\n      <td>...</td>\n      <td>...</td>\n      <td>...</td>\n      <td>...</td>\n      <td>...</td>\n      <td>...</td>\n    </tr>\n    <tr>\n      <th>2019-04-25</th>\n      <td>247.630005</td>\n      <td>8118.680176</td>\n      <td>247.630005</td>\n      <td>8118.680176</td>\n      <td>259.000000</td>\n      <td>8151.839844</td>\n      <td>246.070007</td>\n      <td>8075.410156</td>\n      <td>255.000000</td>\n      <td>8150.850098</td>\n      <td>21849400</td>\n      <td>2063270000</td>\n      <td>-11.029999</td>\n      <td>16.670410</td>\n    </tr>\n    <tr>\n      <th>2019-04-26</th>\n      <td>235.139999</td>\n      <td>8146.399902</td>\n      <td>235.139999</td>\n      <td>8146.399902</td>\n      <td>246.679993</td>\n      <td>8146.419922</td>\n      <td>231.130005</td>\n      <td>8060.890137</td>\n      <td>246.500000</td>\n      <td>8100.279785</td>\n      <td>22360700</td>\n      <td>1971270000</td>\n      <td>-12.490005</td>\n      <td>27.719727</td>\n    </tr>\n    <tr>\n      <th>2019-04-29</th>\n      <td>241.470001</td>\n      <td>8161.850098</td>\n      <td>241.470001</td>\n      <td>8161.850098</td>\n      <td>243.979996</td>\n      <td>8176.080078</td>\n      <td>232.169998</td>\n      <td>8136.410156</td>\n      <td>235.860001</td>\n      <td>8147.649902</td>\n      <td>16714500</td>\n      <td>1761110000</td>\n      <td>6.330002</td>\n      <td>15.450195</td>\n    </tr>\n    <tr>\n      <th>2019-04-30</th>\n      <td>238.690002</td>\n      <td>8095.390137</td>\n      <td>238.690002</td>\n      <td>8095.390137</td>\n      <td>244.210007</td>\n      <td>8124.609863</td>\n      <td>237.000000</td>\n      <td>8050.549805</td>\n      <td>242.059998</td>\n      <td>8104.910156</td>\n      <td>9464600</td>\n      <td>2115770000</td>\n      <td>-2.779999</td>\n      <td>-66.459961</td>\n    </tr>\n    <tr>\n      <th>2019-05-01</th>\n      <td>234.009995</td>\n      <td>8049.640137</td>\n      <td>234.009995</td>\n      <td>8049.640137</td>\n      <td>240.000000</td>\n      <td>8146.000000</td>\n      <td>231.500000</td>\n      <td>8048.229980</td>\n      <td>238.850006</td>\n      <td>8132.930176</td>\n      <td>10704400</td>\n      <td>2247420000</td>\n      <td>-4.680008</td>\n      <td>-45.750000</td>\n    </tr>\n  </tbody>\n</table>\n<p>837 rows × 14 columns</p>\n</div>"
     },
     "metadata": {},
     "execution_count": 65
    }
   ],
   "source": [
    "df"
   ]
  },
  {
   "cell_type": "code",
   "execution_count": 66,
   "metadata": {},
   "outputs": [],
   "source": [
    "df.drop(['Adj Close', 'Close', 'High', 'Low', 'Open', 'Volume'], axis=1, inplace=True)"
   ]
  },
  {
   "cell_type": "code",
   "execution_count": 67,
   "metadata": {},
   "outputs": [
    {
     "output_type": "execute_result",
     "data": {
      "text/plain": "            TSLA_diff NASDAQ_diff\n                                 \nDate                             \n2016-01-04        NaN         NaN\n2016-01-05   0.019989  -11.659668\n2016-01-06  -4.389999  -55.670410\n2016-01-07  -3.389999 -146.329590\n2016-01-08  -4.649994  -45.800293\n...               ...         ...\n2019-04-25 -11.029999   16.670410\n2019-04-26 -12.490005   27.719727\n2019-04-29   6.330002   15.450195\n2019-04-30  -2.779999  -66.459961\n2019-05-01  -4.680008  -45.750000\n\n[837 rows x 2 columns]",
      "text/html": "<div>\n<style scoped>\n    .dataframe tbody tr th:only-of-type {\n        vertical-align: middle;\n    }\n\n    .dataframe tbody tr th {\n        vertical-align: top;\n    }\n\n    .dataframe thead tr th {\n        text-align: left;\n    }\n\n    .dataframe thead tr:last-of-type th {\n        text-align: right;\n    }\n</style>\n<table border=\"1\" class=\"dataframe\">\n  <thead>\n    <tr>\n      <th></th>\n      <th>TSLA_diff</th>\n      <th>NASDAQ_diff</th>\n    </tr>\n    <tr>\n      <th></th>\n      <th></th>\n      <th></th>\n    </tr>\n    <tr>\n      <th>Date</th>\n      <th></th>\n      <th></th>\n    </tr>\n  </thead>\n  <tbody>\n    <tr>\n      <th>2016-01-04</th>\n      <td>NaN</td>\n      <td>NaN</td>\n    </tr>\n    <tr>\n      <th>2016-01-05</th>\n      <td>0.019989</td>\n      <td>-11.659668</td>\n    </tr>\n    <tr>\n      <th>2016-01-06</th>\n      <td>-4.389999</td>\n      <td>-55.670410</td>\n    </tr>\n    <tr>\n      <th>2016-01-07</th>\n      <td>-3.389999</td>\n      <td>-146.329590</td>\n    </tr>\n    <tr>\n      <th>2016-01-08</th>\n      <td>-4.649994</td>\n      <td>-45.800293</td>\n    </tr>\n    <tr>\n      <th>...</th>\n      <td>...</td>\n      <td>...</td>\n    </tr>\n    <tr>\n      <th>2019-04-25</th>\n      <td>-11.029999</td>\n      <td>16.670410</td>\n    </tr>\n    <tr>\n      <th>2019-04-26</th>\n      <td>-12.490005</td>\n      <td>27.719727</td>\n    </tr>\n    <tr>\n      <th>2019-04-29</th>\n      <td>6.330002</td>\n      <td>15.450195</td>\n    </tr>\n    <tr>\n      <th>2019-04-30</th>\n      <td>-2.779999</td>\n      <td>-66.459961</td>\n    </tr>\n    <tr>\n      <th>2019-05-01</th>\n      <td>-4.680008</td>\n      <td>-45.750000</td>\n    </tr>\n  </tbody>\n</table>\n<p>837 rows × 2 columns</p>\n</div>"
     },
     "metadata": {},
     "execution_count": 67
    }
   ],
   "source": [
    "df"
   ]
  }
 ],
 "metadata": {
  "language_info": {
   "codemirror_mode": {
    "name": "ipython",
    "version": 3
   },
   "file_extension": ".py",
   "mimetype": "text/x-python",
   "name": "python",
   "nbconvert_exporter": "python",
   "pygments_lexer": "ipython3",
   "version": "3.8.2-final"
  },
  "orig_nbformat": 2,
  "kernelspec": {
   "name": "python38264bitelonmusktweetsvsteslastockpipenvf8b8e951f16b4655a48ec4c89fae8154",
   "display_name": "Python 3.8.2 64-bit ('Elon-Musk-Tweets-VS-Tesla-Stock': pipenv)"
  }
 },
 "nbformat": 4,
 "nbformat_minor": 2
}