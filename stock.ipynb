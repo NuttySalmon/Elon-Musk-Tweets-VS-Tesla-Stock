{
 "cells": [
  {
   "cell_type": "code",
   "execution_count": 42,
   "metadata": {},
   "outputs": [],
   "source": [
    "import pandas as pd\n",
    "from sklearn import preprocessing"
   ]
  },
  {
   "cell_type": "code",
   "execution_count": 43,
   "metadata": {},
   "outputs": [],
   "source": [
    "df = pd.read_pickle('tsla.pkl')"
   ]
  },
  {
   "cell_type": "code",
   "execution_count": 44,
   "metadata": {},
   "outputs": [
    {
     "output_type": "execute_result",
     "data": {
      "text/plain": "             Adj Close                    Close                     High  \\\n                  TSLA        ^IXIC        TSLA        ^IXIC        TSLA   \nDate                                                                       \n2016-01-04  223.410004  4903.089844  223.410004  4903.089844  231.380005   \n2016-01-05  223.429993  4891.430176  223.429993  4891.430176  226.889999   \n2016-01-06  219.039993  4835.759766  219.039993  4835.759766  220.050003   \n2016-01-07  215.649994  4689.430176  215.649994  4689.430176  218.440002   \n2016-01-08  211.000000  4643.629883  211.000000  4643.629883  220.440002   \n...                ...          ...         ...          ...         ...   \n2019-10-31  314.920013  8292.360352  314.920013  8292.360352  319.000000   \n2019-11-01  313.309998  8386.400391  313.309998  8386.400391  316.480011   \n2019-11-04  317.470001  8433.200195  317.470001  8433.200195  321.940002   \n2019-11-05  317.220001  8434.679688  317.220001  8434.679688  323.510010   \n2019-11-06  326.579987  8410.629883  326.579987  8410.629883  326.720001   \n\n                                Low                     Open               \\\n                  ^IXIC        TSLA        ^IXIC        TSLA        ^IXIC   \nDate                                                                        \n2016-01-04  4903.089844  219.000000  4846.979980  230.720001  4897.649902   \n2016-01-05  4926.729980  220.000000  4872.740234  226.360001  4917.839844   \n2016-01-06  4866.040039  215.979996  4804.689941  220.000000  4813.759766   \n2016-01-07  4788.020020  213.669998  4688.169922  214.190002  4736.399902   \n2016-01-08  4742.569824  210.770004  4637.850098  217.860001  4722.020020   \n...                 ...         ...          ...         ...          ...   \n2019-10-31  8321.799805  313.000000  8248.809570  313.100006  8314.379883   \n2019-11-01  8386.750000  309.799988  8326.559570  316.320007  8335.049805   \n2019-11-04  8451.370117  309.260010  8421.299805  314.799988  8445.500000   \n2019-11-05  8457.389648  316.119995  8421.049805  319.619995  8446.620117   \n2019-11-06  8426.570312  314.500000  8379.330078  318.000000  8426.570312   \n\n             Volume              \n               TSLA       ^IXIC  \nDate                             \n2016-01-04  6827100  2218420000  \n2016-01-05  3186800  1927380000  \n2016-01-06  3779100  2168620000  \n2016-01-07  3554300  2552590000  \n2016-01-08  3628100  2288750000  \n...             ...         ...  \n2019-10-31  5059900  2258270000  \n2019-11-01  6380900  2057310000  \n2019-11-04  8787000  2149910000  \n2019-11-05  6943400  2316710000  \n2019-11-06  7940900  2332650000  \n\n[969 rows x 12 columns]",
      "text/html": "<div>\n<style scoped>\n    .dataframe tbody tr th:only-of-type {\n        vertical-align: middle;\n    }\n\n    .dataframe tbody tr th {\n        vertical-align: top;\n    }\n\n    .dataframe thead tr th {\n        text-align: left;\n    }\n\n    .dataframe thead tr:last-of-type th {\n        text-align: right;\n    }\n</style>\n<table border=\"1\" class=\"dataframe\">\n  <thead>\n    <tr>\n      <th></th>\n      <th colspan=\"2\" halign=\"left\">Adj Close</th>\n      <th colspan=\"2\" halign=\"left\">Close</th>\n      <th colspan=\"2\" halign=\"left\">High</th>\n      <th colspan=\"2\" halign=\"left\">Low</th>\n      <th colspan=\"2\" halign=\"left\">Open</th>\n      <th colspan=\"2\" halign=\"left\">Volume</th>\n    </tr>\n    <tr>\n      <th></th>\n      <th>TSLA</th>\n      <th>^IXIC</th>\n      <th>TSLA</th>\n      <th>^IXIC</th>\n      <th>TSLA</th>\n      <th>^IXIC</th>\n      <th>TSLA</th>\n      <th>^IXIC</th>\n      <th>TSLA</th>\n      <th>^IXIC</th>\n      <th>TSLA</th>\n      <th>^IXIC</th>\n    </tr>\n    <tr>\n      <th>Date</th>\n      <th></th>\n      <th></th>\n      <th></th>\n      <th></th>\n      <th></th>\n      <th></th>\n      <th></th>\n      <th></th>\n      <th></th>\n      <th></th>\n      <th></th>\n      <th></th>\n    </tr>\n  </thead>\n  <tbody>\n    <tr>\n      <th>2016-01-04</th>\n      <td>223.410004</td>\n      <td>4903.089844</td>\n      <td>223.410004</td>\n      <td>4903.089844</td>\n      <td>231.380005</td>\n      <td>4903.089844</td>\n      <td>219.000000</td>\n      <td>4846.979980</td>\n      <td>230.720001</td>\n      <td>4897.649902</td>\n      <td>6827100</td>\n      <td>2218420000</td>\n    </tr>\n    <tr>\n      <th>2016-01-05</th>\n      <td>223.429993</td>\n      <td>4891.430176</td>\n      <td>223.429993</td>\n      <td>4891.430176</td>\n      <td>226.889999</td>\n      <td>4926.729980</td>\n      <td>220.000000</td>\n      <td>4872.740234</td>\n      <td>226.360001</td>\n      <td>4917.839844</td>\n      <td>3186800</td>\n      <td>1927380000</td>\n    </tr>\n    <tr>\n      <th>2016-01-06</th>\n      <td>219.039993</td>\n      <td>4835.759766</td>\n      <td>219.039993</td>\n      <td>4835.759766</td>\n      <td>220.050003</td>\n      <td>4866.040039</td>\n      <td>215.979996</td>\n      <td>4804.689941</td>\n      <td>220.000000</td>\n      <td>4813.759766</td>\n      <td>3779100</td>\n      <td>2168620000</td>\n    </tr>\n    <tr>\n      <th>2016-01-07</th>\n      <td>215.649994</td>\n      <td>4689.430176</td>\n      <td>215.649994</td>\n      <td>4689.430176</td>\n      <td>218.440002</td>\n      <td>4788.020020</td>\n      <td>213.669998</td>\n      <td>4688.169922</td>\n      <td>214.190002</td>\n      <td>4736.399902</td>\n      <td>3554300</td>\n      <td>2552590000</td>\n    </tr>\n    <tr>\n      <th>2016-01-08</th>\n      <td>211.000000</td>\n      <td>4643.629883</td>\n      <td>211.000000</td>\n      <td>4643.629883</td>\n      <td>220.440002</td>\n      <td>4742.569824</td>\n      <td>210.770004</td>\n      <td>4637.850098</td>\n      <td>217.860001</td>\n      <td>4722.020020</td>\n      <td>3628100</td>\n      <td>2288750000</td>\n    </tr>\n    <tr>\n      <th>...</th>\n      <td>...</td>\n      <td>...</td>\n      <td>...</td>\n      <td>...</td>\n      <td>...</td>\n      <td>...</td>\n      <td>...</td>\n      <td>...</td>\n      <td>...</td>\n      <td>...</td>\n      <td>...</td>\n      <td>...</td>\n    </tr>\n    <tr>\n      <th>2019-10-31</th>\n      <td>314.920013</td>\n      <td>8292.360352</td>\n      <td>314.920013</td>\n      <td>8292.360352</td>\n      <td>319.000000</td>\n      <td>8321.799805</td>\n      <td>313.000000</td>\n      <td>8248.809570</td>\n      <td>313.100006</td>\n      <td>8314.379883</td>\n      <td>5059900</td>\n      <td>2258270000</td>\n    </tr>\n    <tr>\n      <th>2019-11-01</th>\n      <td>313.309998</td>\n      <td>8386.400391</td>\n      <td>313.309998</td>\n      <td>8386.400391</td>\n      <td>316.480011</td>\n      <td>8386.750000</td>\n      <td>309.799988</td>\n      <td>8326.559570</td>\n      <td>316.320007</td>\n      <td>8335.049805</td>\n      <td>6380900</td>\n      <td>2057310000</td>\n    </tr>\n    <tr>\n      <th>2019-11-04</th>\n      <td>317.470001</td>\n      <td>8433.200195</td>\n      <td>317.470001</td>\n      <td>8433.200195</td>\n      <td>321.940002</td>\n      <td>8451.370117</td>\n      <td>309.260010</td>\n      <td>8421.299805</td>\n      <td>314.799988</td>\n      <td>8445.500000</td>\n      <td>8787000</td>\n      <td>2149910000</td>\n    </tr>\n    <tr>\n      <th>2019-11-05</th>\n      <td>317.220001</td>\n      <td>8434.679688</td>\n      <td>317.220001</td>\n      <td>8434.679688</td>\n      <td>323.510010</td>\n      <td>8457.389648</td>\n      <td>316.119995</td>\n      <td>8421.049805</td>\n      <td>319.619995</td>\n      <td>8446.620117</td>\n      <td>6943400</td>\n      <td>2316710000</td>\n    </tr>\n    <tr>\n      <th>2019-11-06</th>\n      <td>326.579987</td>\n      <td>8410.629883</td>\n      <td>326.579987</td>\n      <td>8410.629883</td>\n      <td>326.720001</td>\n      <td>8426.570312</td>\n      <td>314.500000</td>\n      <td>8379.330078</td>\n      <td>318.000000</td>\n      <td>8426.570312</td>\n      <td>7940900</td>\n      <td>2332650000</td>\n    </tr>\n  </tbody>\n</table>\n<p>969 rows × 12 columns</p>\n</div>"
     },
     "metadata": {},
     "execution_count": 44
    }
   ],
   "source": [
    "df"
   ]
  },
  {
   "cell_type": "code",
   "execution_count": 45,
   "metadata": {},
   "outputs": [
    {
     "output_type": "execute_result",
     "data": {
      "text/plain": "        Adj Close                    Close                     High  \\\n             TSLA        ^IXIC        TSLA        ^IXIC        TSLA   \ncount  969.000000   969.000000  969.000000   969.000000  969.000000   \nmean   275.444923  6569.427029  275.444923  6569.427029  280.032786   \nstd     55.965862  1159.490346   55.965862  1159.490346   56.780860   \nmin    143.669998  4266.839844  143.669998  4266.839844  154.970001   \n25%    225.119995  5437.160156  225.119995  5437.160156  228.889999   \n50%    278.299988  6775.370117  278.299988  6775.370117  282.239990   \n75%    322.470001  7615.549805  322.470001  7615.549805  327.100006   \nmax    385.000000  8434.679688  385.000000  8434.679688  389.609985   \n\n                           Low                     Open               \\\n             ^IXIC        TSLA        ^IXIC        TSLA        ^IXIC   \ncount   969.000000  969.000000   969.000000  969.000000   969.000000   \nmean   6602.308926  270.521321  6530.827146  275.400619  6568.588017   \nstd    1166.931460   55.004143  1152.331525   55.926529  1160.730088   \nmin    4293.220215  141.050003  4209.759766  142.320007  4218.810059   \n25%    5462.689941  222.050003  5426.009766  226.000000  5440.169922   \n50%    6795.830078  274.390015  6734.129883  278.399994  6763.299805   \n75%    7653.100098  315.660004  7563.089844  321.000000  7621.359863   \nmax    8457.389648  379.350006  8421.299805  386.690002  8446.620117   \n\n             Volume                \n               TSLA         ^IXIC  \ncount  9.690000e+02  9.690000e+02  \nmean   7.107600e+06  2.038095e+09  \nstd    4.325133e+06  3.868762e+08  \nmin    1.659500e+06  1.494100e+08  \n25%    4.365800e+06  1.801790e+09  \n50%    5.972000e+06  1.983340e+09  \n75%    8.238000e+06  2.209400e+09  \nmax    3.364970e+07  4.534120e+09  ",
      "text/html": "<div>\n<style scoped>\n    .dataframe tbody tr th:only-of-type {\n        vertical-align: middle;\n    }\n\n    .dataframe tbody tr th {\n        vertical-align: top;\n    }\n\n    .dataframe thead tr th {\n        text-align: left;\n    }\n</style>\n<table border=\"1\" class=\"dataframe\">\n  <thead>\n    <tr>\n      <th></th>\n      <th colspan=\"2\" halign=\"left\">Adj Close</th>\n      <th colspan=\"2\" halign=\"left\">Close</th>\n      <th colspan=\"2\" halign=\"left\">High</th>\n      <th colspan=\"2\" halign=\"left\">Low</th>\n      <th colspan=\"2\" halign=\"left\">Open</th>\n      <th colspan=\"2\" halign=\"left\">Volume</th>\n    </tr>\n    <tr>\n      <th></th>\n      <th>TSLA</th>\n      <th>^IXIC</th>\n      <th>TSLA</th>\n      <th>^IXIC</th>\n      <th>TSLA</th>\n      <th>^IXIC</th>\n      <th>TSLA</th>\n      <th>^IXIC</th>\n      <th>TSLA</th>\n      <th>^IXIC</th>\n      <th>TSLA</th>\n      <th>^IXIC</th>\n    </tr>\n  </thead>\n  <tbody>\n    <tr>\n      <th>count</th>\n      <td>969.000000</td>\n      <td>969.000000</td>\n      <td>969.000000</td>\n      <td>969.000000</td>\n      <td>969.000000</td>\n      <td>969.000000</td>\n      <td>969.000000</td>\n      <td>969.000000</td>\n      <td>969.000000</td>\n      <td>969.000000</td>\n      <td>9.690000e+02</td>\n      <td>9.690000e+02</td>\n    </tr>\n    <tr>\n      <th>mean</th>\n      <td>275.444923</td>\n      <td>6569.427029</td>\n      <td>275.444923</td>\n      <td>6569.427029</td>\n      <td>280.032786</td>\n      <td>6602.308926</td>\n      <td>270.521321</td>\n      <td>6530.827146</td>\n      <td>275.400619</td>\n      <td>6568.588017</td>\n      <td>7.107600e+06</td>\n      <td>2.038095e+09</td>\n    </tr>\n    <tr>\n      <th>std</th>\n      <td>55.965862</td>\n      <td>1159.490346</td>\n      <td>55.965862</td>\n      <td>1159.490346</td>\n      <td>56.780860</td>\n      <td>1166.931460</td>\n      <td>55.004143</td>\n      <td>1152.331525</td>\n      <td>55.926529</td>\n      <td>1160.730088</td>\n      <td>4.325133e+06</td>\n      <td>3.868762e+08</td>\n    </tr>\n    <tr>\n      <th>min</th>\n      <td>143.669998</td>\n      <td>4266.839844</td>\n      <td>143.669998</td>\n      <td>4266.839844</td>\n      <td>154.970001</td>\n      <td>4293.220215</td>\n      <td>141.050003</td>\n      <td>4209.759766</td>\n      <td>142.320007</td>\n      <td>4218.810059</td>\n      <td>1.659500e+06</td>\n      <td>1.494100e+08</td>\n    </tr>\n    <tr>\n      <th>25%</th>\n      <td>225.119995</td>\n      <td>5437.160156</td>\n      <td>225.119995</td>\n      <td>5437.160156</td>\n      <td>228.889999</td>\n      <td>5462.689941</td>\n      <td>222.050003</td>\n      <td>5426.009766</td>\n      <td>226.000000</td>\n      <td>5440.169922</td>\n      <td>4.365800e+06</td>\n      <td>1.801790e+09</td>\n    </tr>\n    <tr>\n      <th>50%</th>\n      <td>278.299988</td>\n      <td>6775.370117</td>\n      <td>278.299988</td>\n      <td>6775.370117</td>\n      <td>282.239990</td>\n      <td>6795.830078</td>\n      <td>274.390015</td>\n      <td>6734.129883</td>\n      <td>278.399994</td>\n      <td>6763.299805</td>\n      <td>5.972000e+06</td>\n      <td>1.983340e+09</td>\n    </tr>\n    <tr>\n      <th>75%</th>\n      <td>322.470001</td>\n      <td>7615.549805</td>\n      <td>322.470001</td>\n      <td>7615.549805</td>\n      <td>327.100006</td>\n      <td>7653.100098</td>\n      <td>315.660004</td>\n      <td>7563.089844</td>\n      <td>321.000000</td>\n      <td>7621.359863</td>\n      <td>8.238000e+06</td>\n      <td>2.209400e+09</td>\n    </tr>\n    <tr>\n      <th>max</th>\n      <td>385.000000</td>\n      <td>8434.679688</td>\n      <td>385.000000</td>\n      <td>8434.679688</td>\n      <td>389.609985</td>\n      <td>8457.389648</td>\n      <td>379.350006</td>\n      <td>8421.299805</td>\n      <td>386.690002</td>\n      <td>8446.620117</td>\n      <td>3.364970e+07</td>\n      <td>4.534120e+09</td>\n    </tr>\n  </tbody>\n</table>\n</div>"
     },
     "metadata": {},
     "execution_count": 45
    }
   ],
   "source": [
    "df.describe()"
   ]
  },
  {
   "cell_type": "code",
   "execution_count": 46,
   "metadata": {},
   "outputs": [
    {
     "output_type": "stream",
     "name": "stdout",
     "text": "<class 'pandas.core.frame.DataFrame'>\nDatetimeIndex: 969 entries, 2016-01-04 to 2019-11-06\nData columns (total 12 columns):\n #   Column              Non-Null Count  Dtype  \n---  ------              --------------  -----  \n 0   (Adj Close, TSLA)   969 non-null    float64\n 1   (Adj Close, ^IXIC)  969 non-null    float64\n 2   (Close, TSLA)       969 non-null    float64\n 3   (Close, ^IXIC)      969 non-null    float64\n 4   (High, TSLA)        969 non-null    float64\n 5   (High, ^IXIC)       969 non-null    float64\n 6   (Low, TSLA)         969 non-null    float64\n 7   (Low, ^IXIC)        969 non-null    float64\n 8   (Open, TSLA)        969 non-null    float64\n 9   (Open, ^IXIC)       969 non-null    float64\n 10  (Volume, TSLA)      969 non-null    int64  \n 11  (Volume, ^IXIC)     969 non-null    int64  \ndtypes: float64(10), int64(2)\nmemory usage: 98.4 KB\n"
    }
   ],
   "source": [
    "df.info()"
   ]
  },
  {
   "cell_type": "code",
   "execution_count": null,
   "metadata": {},
   "outputs": [],
   "source": []
  },
  {
   "cell_type": "code",
   "execution_count": 47,
   "metadata": {},
   "outputs": [],
   "source": [
    "min_max_scaler = preprocessing.MinMaxScaler(feature_range=(-1, 1))"
   ]
  },
  {
   "cell_type": "code",
   "execution_count": 48,
   "metadata": {},
   "outputs": [],
   "source": [
    "x_scaled = min_max_scaler.fit_transform(df['Adj Close']['TSLA'].values.reshape(1,-1))"
   ]
  },
  {
   "cell_type": "code",
   "execution_count": 51,
   "metadata": {},
   "outputs": [],
   "source": [
    "df['TSLA_diff'] = df['Adj Close']['TSLA'].diff()\n",
    "df['NASDAQ_diff'] = df['Adj Close']['^IXIC'].diff()"
   ]
  },
  {
   "cell_type": "code",
   "execution_count": 52,
   "metadata": {},
   "outputs": [
    {
     "output_type": "execute_result",
     "data": {
      "text/plain": "             Adj Close                    Close                     High  \\\n                  TSLA        ^IXIC        TSLA        ^IXIC        TSLA   \nDate                                                                       \n2016-01-04  223.410004  4903.089844  223.410004  4903.089844  231.380005   \n2016-01-05  223.429993  4891.430176  223.429993  4891.430176  226.889999   \n2016-01-06  219.039993  4835.759766  219.039993  4835.759766  220.050003   \n2016-01-07  215.649994  4689.430176  215.649994  4689.430176  218.440002   \n2016-01-08  211.000000  4643.629883  211.000000  4643.629883  220.440002   \n...                ...          ...         ...          ...         ...   \n2019-10-31  314.920013  8292.360352  314.920013  8292.360352  319.000000   \n2019-11-01  313.309998  8386.400391  313.309998  8386.400391  316.480011   \n2019-11-04  317.470001  8433.200195  317.470001  8433.200195  321.940002   \n2019-11-05  317.220001  8434.679688  317.220001  8434.679688  323.510010   \n2019-11-06  326.579987  8410.629883  326.579987  8410.629883  326.720001   \n\n                                Low                     Open               \\\n                  ^IXIC        TSLA        ^IXIC        TSLA        ^IXIC   \nDate                                                                        \n2016-01-04  4903.089844  219.000000  4846.979980  230.720001  4897.649902   \n2016-01-05  4926.729980  220.000000  4872.740234  226.360001  4917.839844   \n2016-01-06  4866.040039  215.979996  4804.689941  220.000000  4813.759766   \n2016-01-07  4788.020020  213.669998  4688.169922  214.190002  4736.399902   \n2016-01-08  4742.569824  210.770004  4637.850098  217.860001  4722.020020   \n...                 ...         ...          ...         ...          ...   \n2019-10-31  8321.799805  313.000000  8248.809570  313.100006  8314.379883   \n2019-11-01  8386.750000  309.799988  8326.559570  316.320007  8335.049805   \n2019-11-04  8451.370117  309.260010  8421.299805  314.799988  8445.500000   \n2019-11-05  8457.389648  316.119995  8421.049805  319.619995  8446.620117   \n2019-11-06  8426.570312  314.500000  8379.330078  318.000000  8426.570312   \n\n             Volume             TSLA_diff NASDAQ_diff  \n               TSLA       ^IXIC                        \nDate                                                   \n2016-01-04  6827100  2218420000       NaN         NaN  \n2016-01-05  3186800  1927380000  0.019989  -11.659668  \n2016-01-06  3779100  2168620000 -4.389999  -55.670410  \n2016-01-07  3554300  2552590000 -3.389999 -146.329590  \n2016-01-08  3628100  2288750000 -4.649994  -45.800293  \n...             ...         ...       ...         ...  \n2019-10-31  5059900  2258270000 -0.089996  -11.620117  \n2019-11-01  6380900  2057310000 -1.610016   94.040039  \n2019-11-04  8787000  2149910000  4.160004   46.799805  \n2019-11-05  6943400  2316710000 -0.250000    1.479492  \n2019-11-06  7940900  2332650000  9.359985  -24.049805  \n\n[969 rows x 14 columns]",
      "text/html": "<div>\n<style scoped>\n    .dataframe tbody tr th:only-of-type {\n        vertical-align: middle;\n    }\n\n    .dataframe tbody tr th {\n        vertical-align: top;\n    }\n\n    .dataframe thead tr th {\n        text-align: left;\n    }\n\n    .dataframe thead tr:last-of-type th {\n        text-align: right;\n    }\n</style>\n<table border=\"1\" class=\"dataframe\">\n  <thead>\n    <tr>\n      <th></th>\n      <th colspan=\"2\" halign=\"left\">Adj Close</th>\n      <th colspan=\"2\" halign=\"left\">Close</th>\n      <th colspan=\"2\" halign=\"left\">High</th>\n      <th colspan=\"2\" halign=\"left\">Low</th>\n      <th colspan=\"2\" halign=\"left\">Open</th>\n      <th colspan=\"2\" halign=\"left\">Volume</th>\n      <th>TSLA_diff</th>\n      <th>NASDAQ_diff</th>\n    </tr>\n    <tr>\n      <th></th>\n      <th>TSLA</th>\n      <th>^IXIC</th>\n      <th>TSLA</th>\n      <th>^IXIC</th>\n      <th>TSLA</th>\n      <th>^IXIC</th>\n      <th>TSLA</th>\n      <th>^IXIC</th>\n      <th>TSLA</th>\n      <th>^IXIC</th>\n      <th>TSLA</th>\n      <th>^IXIC</th>\n      <th></th>\n      <th></th>\n    </tr>\n    <tr>\n      <th>Date</th>\n      <th></th>\n      <th></th>\n      <th></th>\n      <th></th>\n      <th></th>\n      <th></th>\n      <th></th>\n      <th></th>\n      <th></th>\n      <th></th>\n      <th></th>\n      <th></th>\n      <th></th>\n      <th></th>\n    </tr>\n  </thead>\n  <tbody>\n    <tr>\n      <th>2016-01-04</th>\n      <td>223.410004</td>\n      <td>4903.089844</td>\n      <td>223.410004</td>\n      <td>4903.089844</td>\n      <td>231.380005</td>\n      <td>4903.089844</td>\n      <td>219.000000</td>\n      <td>4846.979980</td>\n      <td>230.720001</td>\n      <td>4897.649902</td>\n      <td>6827100</td>\n      <td>2218420000</td>\n      <td>NaN</td>\n      <td>NaN</td>\n    </tr>\n    <tr>\n      <th>2016-01-05</th>\n      <td>223.429993</td>\n      <td>4891.430176</td>\n      <td>223.429993</td>\n      <td>4891.430176</td>\n      <td>226.889999</td>\n      <td>4926.729980</td>\n      <td>220.000000</td>\n      <td>4872.740234</td>\n      <td>226.360001</td>\n      <td>4917.839844</td>\n      <td>3186800</td>\n      <td>1927380000</td>\n      <td>0.019989</td>\n      <td>-11.659668</td>\n    </tr>\n    <tr>\n      <th>2016-01-06</th>\n      <td>219.039993</td>\n      <td>4835.759766</td>\n      <td>219.039993</td>\n      <td>4835.759766</td>\n      <td>220.050003</td>\n      <td>4866.040039</td>\n      <td>215.979996</td>\n      <td>4804.689941</td>\n      <td>220.000000</td>\n      <td>4813.759766</td>\n      <td>3779100</td>\n      <td>2168620000</td>\n      <td>-4.389999</td>\n      <td>-55.670410</td>\n    </tr>\n    <tr>\n      <th>2016-01-07</th>\n      <td>215.649994</td>\n      <td>4689.430176</td>\n      <td>215.649994</td>\n      <td>4689.430176</td>\n      <td>218.440002</td>\n      <td>4788.020020</td>\n      <td>213.669998</td>\n      <td>4688.169922</td>\n      <td>214.190002</td>\n      <td>4736.399902</td>\n      <td>3554300</td>\n      <td>2552590000</td>\n      <td>-3.389999</td>\n      <td>-146.329590</td>\n    </tr>\n    <tr>\n      <th>2016-01-08</th>\n      <td>211.000000</td>\n      <td>4643.629883</td>\n      <td>211.000000</td>\n      <td>4643.629883</td>\n      <td>220.440002</td>\n      <td>4742.569824</td>\n      <td>210.770004</td>\n      <td>4637.850098</td>\n      <td>217.860001</td>\n      <td>4722.020020</td>\n      <td>3628100</td>\n      <td>2288750000</td>\n      <td>-4.649994</td>\n      <td>-45.800293</td>\n    </tr>\n    <tr>\n      <th>...</th>\n      <td>...</td>\n      <td>...</td>\n      <td>...</td>\n      <td>...</td>\n      <td>...</td>\n      <td>...</td>\n      <td>...</td>\n      <td>...</td>\n      <td>...</td>\n      <td>...</td>\n      <td>...</td>\n      <td>...</td>\n      <td>...</td>\n      <td>...</td>\n    </tr>\n    <tr>\n      <th>2019-10-31</th>\n      <td>314.920013</td>\n      <td>8292.360352</td>\n      <td>314.920013</td>\n      <td>8292.360352</td>\n      <td>319.000000</td>\n      <td>8321.799805</td>\n      <td>313.000000</td>\n      <td>8248.809570</td>\n      <td>313.100006</td>\n      <td>8314.379883</td>\n      <td>5059900</td>\n      <td>2258270000</td>\n      <td>-0.089996</td>\n      <td>-11.620117</td>\n    </tr>\n    <tr>\n      <th>2019-11-01</th>\n      <td>313.309998</td>\n      <td>8386.400391</td>\n      <td>313.309998</td>\n      <td>8386.400391</td>\n      <td>316.480011</td>\n      <td>8386.750000</td>\n      <td>309.799988</td>\n      <td>8326.559570</td>\n      <td>316.320007</td>\n      <td>8335.049805</td>\n      <td>6380900</td>\n      <td>2057310000</td>\n      <td>-1.610016</td>\n      <td>94.040039</td>\n    </tr>\n    <tr>\n      <th>2019-11-04</th>\n      <td>317.470001</td>\n      <td>8433.200195</td>\n      <td>317.470001</td>\n      <td>8433.200195</td>\n      <td>321.940002</td>\n      <td>8451.370117</td>\n      <td>309.260010</td>\n      <td>8421.299805</td>\n      <td>314.799988</td>\n      <td>8445.500000</td>\n      <td>8787000</td>\n      <td>2149910000</td>\n      <td>4.160004</td>\n      <td>46.799805</td>\n    </tr>\n    <tr>\n      <th>2019-11-05</th>\n      <td>317.220001</td>\n      <td>8434.679688</td>\n      <td>317.220001</td>\n      <td>8434.679688</td>\n      <td>323.510010</td>\n      <td>8457.389648</td>\n      <td>316.119995</td>\n      <td>8421.049805</td>\n      <td>319.619995</td>\n      <td>8446.620117</td>\n      <td>6943400</td>\n      <td>2316710000</td>\n      <td>-0.250000</td>\n      <td>1.479492</td>\n    </tr>\n    <tr>\n      <th>2019-11-06</th>\n      <td>326.579987</td>\n      <td>8410.629883</td>\n      <td>326.579987</td>\n      <td>8410.629883</td>\n      <td>326.720001</td>\n      <td>8426.570312</td>\n      <td>314.500000</td>\n      <td>8379.330078</td>\n      <td>318.000000</td>\n      <td>8426.570312</td>\n      <td>7940900</td>\n      <td>2332650000</td>\n      <td>9.359985</td>\n      <td>-24.049805</td>\n    </tr>\n  </tbody>\n</table>\n<p>969 rows × 14 columns</p>\n</div>"
     },
     "metadata": {},
     "execution_count": 52
    }
   ],
   "source": [
    "df"
   ]
  },
  {
   "cell_type": "code",
   "execution_count": 55,
   "metadata": {},
   "outputs": [],
   "source": [
    "df.drop(['Adj Close', 'Close', 'High', 'Low', 'Open', 'Volume'], axis=1, inplace=True)"
   ]
  },
  {
   "cell_type": "code",
   "execution_count": 56,
   "metadata": {},
   "outputs": [
    {
     "output_type": "execute_result",
     "data": {
      "text/plain": "           TSLA_diff NASDAQ_diff\n                                \nDate                            \n2016-01-04       NaN         NaN\n2016-01-05  0.019989  -11.659668\n2016-01-06 -4.389999  -55.670410\n2016-01-07 -3.389999 -146.329590\n2016-01-08 -4.649994  -45.800293\n...              ...         ...\n2019-10-31 -0.089996  -11.620117\n2019-11-01 -1.610016   94.040039\n2019-11-04  4.160004   46.799805\n2019-11-05 -0.250000    1.479492\n2019-11-06  9.359985  -24.049805\n\n[969 rows x 2 columns]",
      "text/html": "<div>\n<style scoped>\n    .dataframe tbody tr th:only-of-type {\n        vertical-align: middle;\n    }\n\n    .dataframe tbody tr th {\n        vertical-align: top;\n    }\n\n    .dataframe thead tr th {\n        text-align: left;\n    }\n\n    .dataframe thead tr:last-of-type th {\n        text-align: right;\n    }\n</style>\n<table border=\"1\" class=\"dataframe\">\n  <thead>\n    <tr>\n      <th></th>\n      <th>TSLA_diff</th>\n      <th>NASDAQ_diff</th>\n    </tr>\n    <tr>\n      <th></th>\n      <th></th>\n      <th></th>\n    </tr>\n    <tr>\n      <th>Date</th>\n      <th></th>\n      <th></th>\n    </tr>\n  </thead>\n  <tbody>\n    <tr>\n      <th>2016-01-04</th>\n      <td>NaN</td>\n      <td>NaN</td>\n    </tr>\n    <tr>\n      <th>2016-01-05</th>\n      <td>0.019989</td>\n      <td>-11.659668</td>\n    </tr>\n    <tr>\n      <th>2016-01-06</th>\n      <td>-4.389999</td>\n      <td>-55.670410</td>\n    </tr>\n    <tr>\n      <th>2016-01-07</th>\n      <td>-3.389999</td>\n      <td>-146.329590</td>\n    </tr>\n    <tr>\n      <th>2016-01-08</th>\n      <td>-4.649994</td>\n      <td>-45.800293</td>\n    </tr>\n    <tr>\n      <th>...</th>\n      <td>...</td>\n      <td>...</td>\n    </tr>\n    <tr>\n      <th>2019-10-31</th>\n      <td>-0.089996</td>\n      <td>-11.620117</td>\n    </tr>\n    <tr>\n      <th>2019-11-01</th>\n      <td>-1.610016</td>\n      <td>94.040039</td>\n    </tr>\n    <tr>\n      <th>2019-11-04</th>\n      <td>4.160004</td>\n      <td>46.799805</td>\n    </tr>\n    <tr>\n      <th>2019-11-05</th>\n      <td>-0.250000</td>\n      <td>1.479492</td>\n    </tr>\n    <tr>\n      <th>2019-11-06</th>\n      <td>9.359985</td>\n      <td>-24.049805</td>\n    </tr>\n  </tbody>\n</table>\n<p>969 rows × 2 columns</p>\n</div>"
     },
     "metadata": {},
     "execution_count": 56
    }
   ],
   "source": [
    "df"
   ]
  }
 ],
 "metadata": {
  "language_info": {
   "codemirror_mode": {
    "name": "ipython",
    "version": 3
   },
   "file_extension": ".py",
   "mimetype": "text/x-python",
   "name": "python",
   "nbconvert_exporter": "python",
   "pygments_lexer": "ipython3",
   "version": "3.8.2-final"
  },
  "orig_nbformat": 2,
  "kernelspec": {
   "name": "python38264bitelonmusktweetsvsteslastockpipenvf8b8e951f16b4655a48ec4c89fae8154",
   "display_name": "Python 3.8.2 64-bit ('Elon-Musk-Tweets-VS-Tesla-Stock': pipenv)"
  }
 },
 "nbformat": 4,
 "nbformat_minor": 2
}