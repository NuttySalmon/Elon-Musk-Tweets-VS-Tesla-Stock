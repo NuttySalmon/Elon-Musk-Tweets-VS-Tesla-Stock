{
 "cells": [
  {
   "cell_type": "code",
   "execution_count": 58,
   "metadata": {},
   "outputs": [],
   "source": [
    "import pandas as pd\n",
    "from textblob import TextBlob"
   ]
  },
  {
   "cell_type": "code",
   "execution_count": 59,
   "metadata": {},
   "outputs": [],
   "source": [
    "df = pd.read_csv('tweets.csv', encoding=\"utf-8\")"
   ]
  },
  {
   "cell_type": "code",
   "execution_count": 60,
   "metadata": {},
   "outputs": [
    {
     "output_type": "execute_result",
     "data": {
      "text/plain": "username             0\nto                1587\ntext                71\nretweets             0\nfavorites            0\nreplies              0\nid                   0\npermalink            0\nauthor_id            0\ndate                 0\nformatted_date       0\nhashtags          6716\nmentions          6385\ngeo               6727\nurls              5894\ndtype: int64"
     },
     "metadata": {},
     "execution_count": 60
    }
   ],
   "source": [
    "df.isnull().sum()"
   ]
  },
  {
   "cell_type": "code",
   "execution_count": 61,
   "metadata": {},
   "outputs": [],
   "source": [
    "df.drop(['username', 'id', 'permalink', 'author_id', 'geo', 'hashtags', 'formatted_date'], axis=1, inplace=True)\n"
   ]
  },
  {
   "cell_type": "code",
   "execution_count": 75,
   "metadata": {},
   "outputs": [
    {
     "output_type": "execute_result",
     "data": {
      "text/plain": "0                          @TheEconomist Interesting name\n1       @Benzinga I didn't take anyone's car and never...\n2       My best guess for 2016: ~70% landing success r...\n3                          @JeffBezos @SpaceX Thanks Jeff\n4       Falcon lands on droneship, but the lockout col...\n                              ...                        \n6722    Bigger flaps/fins at rear also moves center of...\n6723                                             Haha yes\n6724    In solving for a good Mars climate, we will le...\n6725    Inside Starship cargo bay. Header tanks mounte...\n6726                                          Cool video!\nName: text, Length: 6727, dtype: object"
     },
     "metadata": {},
     "execution_count": 75
    }
   ],
   "source": [
    "df['text'].astype(str)"
   ]
  },
  {
   "cell_type": "code",
   "execution_count": 63,
   "metadata": {},
   "outputs": [
    {
     "output_type": "execute_result",
     "data": {
      "text/plain": "            retweets     favorites       replies\ncount    6727.000000  6.727000e+03   6727.000000\nmean     2109.339081  1.594951e+04    430.636093\nstd      9549.349735  4.605128e+04   1275.260397\nmin         0.000000  6.000000e+01      0.000000\n25%        36.000000  8.220000e+02     37.000000\n50%       114.000000  2.109000e+03     88.000000\n75%      1041.500000  1.172750e+04    373.500000\nmax    391865.000000  1.268498e+06  47848.000000",
      "text/html": "<div>\n<style scoped>\n    .dataframe tbody tr th:only-of-type {\n        vertical-align: middle;\n    }\n\n    .dataframe tbody tr th {\n        vertical-align: top;\n    }\n\n    .dataframe thead th {\n        text-align: right;\n    }\n</style>\n<table border=\"1\" class=\"dataframe\">\n  <thead>\n    <tr style=\"text-align: right;\">\n      <th></th>\n      <th>retweets</th>\n      <th>favorites</th>\n      <th>replies</th>\n    </tr>\n  </thead>\n  <tbody>\n    <tr>\n      <th>count</th>\n      <td>6727.000000</td>\n      <td>6.727000e+03</td>\n      <td>6727.000000</td>\n    </tr>\n    <tr>\n      <th>mean</th>\n      <td>2109.339081</td>\n      <td>1.594951e+04</td>\n      <td>430.636093</td>\n    </tr>\n    <tr>\n      <th>std</th>\n      <td>9549.349735</td>\n      <td>4.605128e+04</td>\n      <td>1275.260397</td>\n    </tr>\n    <tr>\n      <th>min</th>\n      <td>0.000000</td>\n      <td>6.000000e+01</td>\n      <td>0.000000</td>\n    </tr>\n    <tr>\n      <th>25%</th>\n      <td>36.000000</td>\n      <td>8.220000e+02</td>\n      <td>37.000000</td>\n    </tr>\n    <tr>\n      <th>50%</th>\n      <td>114.000000</td>\n      <td>2.109000e+03</td>\n      <td>88.000000</td>\n    </tr>\n    <tr>\n      <th>75%</th>\n      <td>1041.500000</td>\n      <td>1.172750e+04</td>\n      <td>373.500000</td>\n    </tr>\n    <tr>\n      <th>max</th>\n      <td>391865.000000</td>\n      <td>1.268498e+06</td>\n      <td>47848.000000</td>\n    </tr>\n  </tbody>\n</table>\n</div>"
     },
     "metadata": {},
     "execution_count": 63
    }
   ],
   "source": [
    "df.describe()"
   ]
  },
  {
   "cell_type": "code",
   "execution_count": 65,
   "metadata": {},
   "outputs": [
    {
     "output_type": "execute_result",
     "data": {
      "text/plain": "             to                                               text  retweets  \\\n0  TheEconomist                     @TheEconomist Interesting name       263   \n1      Benzinga  @Benzinga I didn't take anyone's car and never...        47   \n2           NaN  My best guess for 2016: ~70% landing success r...      1431   \n3     JeffBezos                     @JeffBezos @SpaceX Thanks Jeff       158   \n4           NaN  Falcon lands on droneship, but the lockout col...      8026   \n\n   favorites  replies                       date            mentions  \\\n0       1262       71  2016-01-23 19:43:17+00:00       @TheEconomist   \n1        242       53  2016-01-20 17:56:05+00:00           @Benzinga   \n2       5150      393  2016-01-19 04:11:54+00:00                 NaN   \n3       1068       50  2016-01-18 03:09:21+00:00  @JeffBezos @SpaceX   \n4       8693     1234  2016-01-18 03:07:21+00:00                 NaN   \n\n                                       urls  \n0                                       NaN  \n1                                       NaN  \n2                                       NaN  \n3                                       NaN  \n4  https://www.instagram.com/p/BAqirNbwEc0/  ",
      "text/html": "<div>\n<style scoped>\n    .dataframe tbody tr th:only-of-type {\n        vertical-align: middle;\n    }\n\n    .dataframe tbody tr th {\n        vertical-align: top;\n    }\n\n    .dataframe thead th {\n        text-align: right;\n    }\n</style>\n<table border=\"1\" class=\"dataframe\">\n  <thead>\n    <tr style=\"text-align: right;\">\n      <th></th>\n      <th>to</th>\n      <th>text</th>\n      <th>retweets</th>\n      <th>favorites</th>\n      <th>replies</th>\n      <th>date</th>\n      <th>mentions</th>\n      <th>urls</th>\n    </tr>\n  </thead>\n  <tbody>\n    <tr>\n      <th>0</th>\n      <td>TheEconomist</td>\n      <td>@TheEconomist Interesting name</td>\n      <td>263</td>\n      <td>1262</td>\n      <td>71</td>\n      <td>2016-01-23 19:43:17+00:00</td>\n      <td>@TheEconomist</td>\n      <td>NaN</td>\n    </tr>\n    <tr>\n      <th>1</th>\n      <td>Benzinga</td>\n      <td>@Benzinga I didn't take anyone's car and never...</td>\n      <td>47</td>\n      <td>242</td>\n      <td>53</td>\n      <td>2016-01-20 17:56:05+00:00</td>\n      <td>@Benzinga</td>\n      <td>NaN</td>\n    </tr>\n    <tr>\n      <th>2</th>\n      <td>NaN</td>\n      <td>My best guess for 2016: ~70% landing success r...</td>\n      <td>1431</td>\n      <td>5150</td>\n      <td>393</td>\n      <td>2016-01-19 04:11:54+00:00</td>\n      <td>NaN</td>\n      <td>NaN</td>\n    </tr>\n    <tr>\n      <th>3</th>\n      <td>JeffBezos</td>\n      <td>@JeffBezos @SpaceX Thanks Jeff</td>\n      <td>158</td>\n      <td>1068</td>\n      <td>50</td>\n      <td>2016-01-18 03:09:21+00:00</td>\n      <td>@JeffBezos @SpaceX</td>\n      <td>NaN</td>\n    </tr>\n    <tr>\n      <th>4</th>\n      <td>NaN</td>\n      <td>Falcon lands on droneship, but the lockout col...</td>\n      <td>8026</td>\n      <td>8693</td>\n      <td>1234</td>\n      <td>2016-01-18 03:07:21+00:00</td>\n      <td>NaN</td>\n      <td>https://www.instagram.com/p/BAqirNbwEc0/</td>\n    </tr>\n  </tbody>\n</table>\n</div>"
     },
     "metadata": {},
     "execution_count": 65
    }
   ],
   "source": [
    "df.head()"
   ]
  },
  {
   "cell_type": "code",
   "execution_count": 71,
   "metadata": {},
   "outputs": [],
   "source": [
    "df['date'] = pd.to_datetime( df['date'], format='%Y-%m-%d %H:%M:%S')"
   ]
  },
  {
   "cell_type": "code",
   "execution_count": 72,
   "metadata": {},
   "outputs": [
    {
     "output_type": "stream",
     "name": "stdout",
     "text": "<class 'pandas.core.frame.DataFrame'>\nRangeIndex: 6727 entries, 0 to 6726\nData columns (total 8 columns):\n #   Column     Non-Null Count  Dtype              \n---  ------     --------------  -----              \n 0   to         5140 non-null   object             \n 1   text       6656 non-null   object             \n 2   retweets   6727 non-null   int64              \n 3   favorites  6727 non-null   int64              \n 4   replies    6727 non-null   int64              \n 5   date       6727 non-null   datetime64[ns, UTC]\n 6   mentions   342 non-null    object             \n 7   urls       833 non-null    object             \ndtypes: datetime64[ns, UTC](1), int64(3), object(4)\nmemory usage: 420.6+ KB\n"
    }
   ],
   "source": [
    "df.info()"
   ]
  },
  {
   "cell_type": "code",
   "execution_count": 73,
   "metadata": {},
   "outputs": [
    {
     "output_type": "execute_result",
     "data": {
      "text/plain": "639"
     },
     "metadata": {},
     "execution_count": 73
    }
   ],
   "source": [
    "df['text'].str.contains('Tesla').sum()"
   ]
  },
  {
   "cell_type": "code",
   "execution_count": 79,
   "metadata": {},
   "outputs": [
    {
     "output_type": "execute_result",
     "data": {
      "text/plain": "to                        object\ntext                      object\nretweets                   int64\nfavorites                  int64\nreplies                    int64\ndate         datetime64[ns, UTC]\nmentions                  object\nurls                      object\nsentiment                 object\ndtype: object"
     },
     "metadata": {},
     "execution_count": 79
    }
   ],
   "source": [
    "df.dtypes"
   ]
  },
  {
   "cell_type": "code",
   "execution_count": 81,
   "metadata": {},
   "outputs": [],
   "source": [
    "def sentiment_calc(text):\n",
    "    try:\n",
    "        return TextBlob(text).sentiment\n",
    "    except:\n",
    "        return None\n",
    "\n",
    "def sentiment_calc(text):\n",
    "    try:\n",
    "        return TextBlob(text).sentiment\n",
    "    except:\n",
    "        return None\n",
    "\n",
    "df['sentiment'] = df['text'].apply(sentiment_calc)"
   ]
  },
  {
   "cell_type": "code",
   "execution_count": 82,
   "metadata": {},
   "outputs": [
    {
     "output_type": "execute_result",
     "data": {
      "text/plain": "                  to                                               text  \\\n0       TheEconomist                     @TheEconomist Interesting name   \n1           Benzinga  @Benzinga I didn't take anyone's car and never...   \n2                NaN  My best guess for 2016: ~70% landing success r...   \n3          JeffBezos                     @JeffBezos @SpaceX Thanks Jeff   \n4                NaN  Falcon lands on droneship, but the lockout col...   \n...              ...                                                ...   \n6722   ColinPearceUK  Bigger flaps/fins at rear also moves center of...   \n6723  TrevorMahlmann                                           Haha yes   \n6724    HarryStoltz1  In solving for a good Mars climate, we will le...   \n6725             NaN  Inside Starship cargo bay. Header tanks mounte...   \n6726         EvaFoxU                                        Cool video!   \n\n      retweets  favorites  replies                      date  \\\n0          263       1262       71 2016-01-23 19:43:17+00:00   \n1           47        242       53 2016-01-20 17:56:05+00:00   \n2         1431       5150      393 2016-01-19 04:11:54+00:00   \n3          158       1068       50 2016-01-18 03:09:21+00:00   \n4         8026       8693     1234 2016-01-18 03:07:21+00:00   \n...        ...        ...      ...                       ...   \n6722        42       1402       33 2019-10-01 07:29:38+00:00   \n6723        79       2498       50 2019-10-01 07:20:29+00:00   \n6724       120       2247       62 2019-10-01 07:18:01+00:00   \n6725      5982      68622     1404 2019-10-01 07:14:48+00:00   \n6726        20        596       22 2019-10-01 05:32:20+00:00   \n\n                mentions                                      urls  \\\n0          @TheEconomist                                       NaN   \n1              @Benzinga                                       NaN   \n2                    NaN                                       NaN   \n3     @JeffBezos @SpaceX                                       NaN   \n4                    NaN  https://www.instagram.com/p/BAqirNbwEc0/   \n...                  ...                                       ...   \n6722                 NaN                                       NaN   \n6723                 NaN                                       NaN   \n6724                 NaN                                       NaN   \n6725                 NaN                                       NaN   \n6726                 NaN                                       NaN   \n\n                                        sentiment  \n0                                      (0.5, 0.5)  \n1                                      (0.0, 0.1)  \n2                                    (0.4, 0.225)  \n3                                      (0.2, 0.2)  \n4                                      (0.0, 0.0)  \n...                                           ...  \n6722  (-0.03333333333333333, 0.19999999999999998)  \n6723                                   (0.2, 0.3)  \n6724                                (0.75, 0.675)  \n6725                                   (0.0, 0.0)  \n6726                               (0.4375, 0.65)  \n\n[6727 rows x 9 columns]",
      "text/html": "<div>\n<style scoped>\n    .dataframe tbody tr th:only-of-type {\n        vertical-align: middle;\n    }\n\n    .dataframe tbody tr th {\n        vertical-align: top;\n    }\n\n    .dataframe thead th {\n        text-align: right;\n    }\n</style>\n<table border=\"1\" class=\"dataframe\">\n  <thead>\n    <tr style=\"text-align: right;\">\n      <th></th>\n      <th>to</th>\n      <th>text</th>\n      <th>retweets</th>\n      <th>favorites</th>\n      <th>replies</th>\n      <th>date</th>\n      <th>mentions</th>\n      <th>urls</th>\n      <th>sentiment</th>\n    </tr>\n  </thead>\n  <tbody>\n    <tr>\n      <th>0</th>\n      <td>TheEconomist</td>\n      <td>@TheEconomist Interesting name</td>\n      <td>263</td>\n      <td>1262</td>\n      <td>71</td>\n      <td>2016-01-23 19:43:17+00:00</td>\n      <td>@TheEconomist</td>\n      <td>NaN</td>\n      <td>(0.5, 0.5)</td>\n    </tr>\n    <tr>\n      <th>1</th>\n      <td>Benzinga</td>\n      <td>@Benzinga I didn't take anyone's car and never...</td>\n      <td>47</td>\n      <td>242</td>\n      <td>53</td>\n      <td>2016-01-20 17:56:05+00:00</td>\n      <td>@Benzinga</td>\n      <td>NaN</td>\n      <td>(0.0, 0.1)</td>\n    </tr>\n    <tr>\n      <th>2</th>\n      <td>NaN</td>\n      <td>My best guess for 2016: ~70% landing success r...</td>\n      <td>1431</td>\n      <td>5150</td>\n      <td>393</td>\n      <td>2016-01-19 04:11:54+00:00</td>\n      <td>NaN</td>\n      <td>NaN</td>\n      <td>(0.4, 0.225)</td>\n    </tr>\n    <tr>\n      <th>3</th>\n      <td>JeffBezos</td>\n      <td>@JeffBezos @SpaceX Thanks Jeff</td>\n      <td>158</td>\n      <td>1068</td>\n      <td>50</td>\n      <td>2016-01-18 03:09:21+00:00</td>\n      <td>@JeffBezos @SpaceX</td>\n      <td>NaN</td>\n      <td>(0.2, 0.2)</td>\n    </tr>\n    <tr>\n      <th>4</th>\n      <td>NaN</td>\n      <td>Falcon lands on droneship, but the lockout col...</td>\n      <td>8026</td>\n      <td>8693</td>\n      <td>1234</td>\n      <td>2016-01-18 03:07:21+00:00</td>\n      <td>NaN</td>\n      <td>https://www.instagram.com/p/BAqirNbwEc0/</td>\n      <td>(0.0, 0.0)</td>\n    </tr>\n    <tr>\n      <th>...</th>\n      <td>...</td>\n      <td>...</td>\n      <td>...</td>\n      <td>...</td>\n      <td>...</td>\n      <td>...</td>\n      <td>...</td>\n      <td>...</td>\n      <td>...</td>\n    </tr>\n    <tr>\n      <th>6722</th>\n      <td>ColinPearceUK</td>\n      <td>Bigger flaps/fins at rear also moves center of...</td>\n      <td>42</td>\n      <td>1402</td>\n      <td>33</td>\n      <td>2019-10-01 07:29:38+00:00</td>\n      <td>NaN</td>\n      <td>NaN</td>\n      <td>(-0.03333333333333333, 0.19999999999999998)</td>\n    </tr>\n    <tr>\n      <th>6723</th>\n      <td>TrevorMahlmann</td>\n      <td>Haha yes</td>\n      <td>79</td>\n      <td>2498</td>\n      <td>50</td>\n      <td>2019-10-01 07:20:29+00:00</td>\n      <td>NaN</td>\n      <td>NaN</td>\n      <td>(0.2, 0.3)</td>\n    </tr>\n    <tr>\n      <th>6724</th>\n      <td>HarryStoltz1</td>\n      <td>In solving for a good Mars climate, we will le...</td>\n      <td>120</td>\n      <td>2247</td>\n      <td>62</td>\n      <td>2019-10-01 07:18:01+00:00</td>\n      <td>NaN</td>\n      <td>NaN</td>\n      <td>(0.75, 0.675)</td>\n    </tr>\n    <tr>\n      <th>6725</th>\n      <td>NaN</td>\n      <td>Inside Starship cargo bay. Header tanks mounte...</td>\n      <td>5982</td>\n      <td>68622</td>\n      <td>1404</td>\n      <td>2019-10-01 07:14:48+00:00</td>\n      <td>NaN</td>\n      <td>NaN</td>\n      <td>(0.0, 0.0)</td>\n    </tr>\n    <tr>\n      <th>6726</th>\n      <td>EvaFoxU</td>\n      <td>Cool video!</td>\n      <td>20</td>\n      <td>596</td>\n      <td>22</td>\n      <td>2019-10-01 05:32:20+00:00</td>\n      <td>NaN</td>\n      <td>NaN</td>\n      <td>(0.4375, 0.65)</td>\n    </tr>\n  </tbody>\n</table>\n<p>6727 rows × 9 columns</p>\n</div>"
     },
     "metadata": {},
     "execution_count": 82
    }
   ],
   "source": [
    "df"
   ]
  },
  {
   "cell_type": "code",
   "execution_count": 83,
   "metadata": {},
   "outputs": [
    {
     "output_type": "error",
     "ename": "TypeError",
     "evalue": "'NoneType' object is not subscriptable",
     "traceback": [
      "\u001b[1;31m---------------------------------------------------------------------------\u001b[0m",
      "\u001b[1;31mTypeError\u001b[0m                                 Traceback (most recent call last)",
      "\u001b[1;32m<ipython-input-83-7206ea166e99>\u001b[0m in \u001b[0;36m<module>\u001b[1;34m\u001b[0m\n\u001b[1;32m----> 1\u001b[1;33m \u001b[0mdf\u001b[0m\u001b[1;33m[\u001b[0m\u001b[1;34m'polarity'\u001b[0m\u001b[1;33m]\u001b[0m \u001b[1;33m=\u001b[0m \u001b[0mdf\u001b[0m\u001b[1;33m[\u001b[0m\u001b[1;34m'sentiment'\u001b[0m\u001b[1;33m]\u001b[0m\u001b[1;33m.\u001b[0m\u001b[0mapply\u001b[0m\u001b[1;33m(\u001b[0m\u001b[1;32mlambda\u001b[0m \u001b[0msen\u001b[0m\u001b[1;33m:\u001b[0m \u001b[0msen\u001b[0m\u001b[1;33m[\u001b[0m\u001b[1;36m0\u001b[0m\u001b[1;33m]\u001b[0m\u001b[1;33m)\u001b[0m\u001b[1;33m\u001b[0m\u001b[1;33m\u001b[0m\u001b[0m\n\u001b[0m",
      "\u001b[1;32m~\\.virtualenvs\\Elon-Musk-Tweets-VS-Tesla-Stock-jw7ogY61\\lib\\site-packages\\pandas\\core\\series.py\u001b[0m in \u001b[0;36mapply\u001b[1;34m(self, func, convert_dtype, args, **kwds)\u001b[0m\n\u001b[0;32m   3846\u001b[0m             \u001b[1;32melse\u001b[0m\u001b[1;33m:\u001b[0m\u001b[1;33m\u001b[0m\u001b[1;33m\u001b[0m\u001b[0m\n\u001b[0;32m   3847\u001b[0m                 \u001b[0mvalues\u001b[0m \u001b[1;33m=\u001b[0m \u001b[0mself\u001b[0m\u001b[1;33m.\u001b[0m\u001b[0mastype\u001b[0m\u001b[1;33m(\u001b[0m\u001b[0mobject\u001b[0m\u001b[1;33m)\u001b[0m\u001b[1;33m.\u001b[0m\u001b[0mvalues\u001b[0m\u001b[1;33m\u001b[0m\u001b[1;33m\u001b[0m\u001b[0m\n\u001b[1;32m-> 3848\u001b[1;33m                 \u001b[0mmapped\u001b[0m \u001b[1;33m=\u001b[0m \u001b[0mlib\u001b[0m\u001b[1;33m.\u001b[0m\u001b[0mmap_infer\u001b[0m\u001b[1;33m(\u001b[0m\u001b[0mvalues\u001b[0m\u001b[1;33m,\u001b[0m \u001b[0mf\u001b[0m\u001b[1;33m,\u001b[0m \u001b[0mconvert\u001b[0m\u001b[1;33m=\u001b[0m\u001b[0mconvert_dtype\u001b[0m\u001b[1;33m)\u001b[0m\u001b[1;33m\u001b[0m\u001b[1;33m\u001b[0m\u001b[0m\n\u001b[0m\u001b[0;32m   3849\u001b[0m \u001b[1;33m\u001b[0m\u001b[0m\n\u001b[0;32m   3850\u001b[0m         \u001b[1;32mif\u001b[0m \u001b[0mlen\u001b[0m\u001b[1;33m(\u001b[0m\u001b[0mmapped\u001b[0m\u001b[1;33m)\u001b[0m \u001b[1;32mand\u001b[0m \u001b[0misinstance\u001b[0m\u001b[1;33m(\u001b[0m\u001b[0mmapped\u001b[0m\u001b[1;33m[\u001b[0m\u001b[1;36m0\u001b[0m\u001b[1;33m]\u001b[0m\u001b[1;33m,\u001b[0m \u001b[0mSeries\u001b[0m\u001b[1;33m)\u001b[0m\u001b[1;33m:\u001b[0m\u001b[1;33m\u001b[0m\u001b[1;33m\u001b[0m\u001b[0m\n",
      "\u001b[1;32mpandas\\_libs\\lib.pyx\u001b[0m in \u001b[0;36mpandas._libs.lib.map_infer\u001b[1;34m()\u001b[0m\n",
      "\u001b[1;32m<ipython-input-83-7206ea166e99>\u001b[0m in \u001b[0;36m<lambda>\u001b[1;34m(sen)\u001b[0m\n\u001b[1;32m----> 1\u001b[1;33m \u001b[0mdf\u001b[0m\u001b[1;33m[\u001b[0m\u001b[1;34m'polarity'\u001b[0m\u001b[1;33m]\u001b[0m \u001b[1;33m=\u001b[0m \u001b[0mdf\u001b[0m\u001b[1;33m[\u001b[0m\u001b[1;34m'sentiment'\u001b[0m\u001b[1;33m]\u001b[0m\u001b[1;33m.\u001b[0m\u001b[0mapply\u001b[0m\u001b[1;33m(\u001b[0m\u001b[1;32mlambda\u001b[0m \u001b[0msen\u001b[0m\u001b[1;33m:\u001b[0m \u001b[0msen\u001b[0m\u001b[1;33m[\u001b[0m\u001b[1;36m0\u001b[0m\u001b[1;33m]\u001b[0m\u001b[1;33m)\u001b[0m\u001b[1;33m\u001b[0m\u001b[1;33m\u001b[0m\u001b[0m\n\u001b[0m",
      "\u001b[1;31mTypeError\u001b[0m: 'NoneType' object is not subscriptable"
     ]
    }
   ],
   "source": [
    "df['polarity'] = df['sentiment'].apply(lambda sen: sen[0])"
   ]
  }
 ],
 "metadata": {
  "language_info": {
   "codemirror_mode": {
    "name": "ipython",
    "version": 3
   },
   "file_extension": ".py",
   "mimetype": "text/x-python",
   "name": "python",
   "nbconvert_exporter": "python",
   "pygments_lexer": "ipython3",
   "version": "3.8.2-final"
  },
  "orig_nbformat": 2,
  "kernelspec": {
   "name": "python38264bitelonmusktweetsvsteslastockpipenvf8b8e951f16b4655a48ec4c89fae8154",
   "display_name": "Python 3.8.2 64-bit ('Elon-Musk-Tweets-VS-Tesla-Stock': pipenv)"
  }
 },
 "nbformat": 4,
 "nbformat_minor": 2
}