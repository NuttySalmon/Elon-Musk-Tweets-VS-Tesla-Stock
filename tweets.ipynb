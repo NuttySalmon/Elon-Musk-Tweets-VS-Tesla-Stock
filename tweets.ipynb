{
 "cells": [
  {
   "cell_type": "code",
   "execution_count": 117,
   "metadata": {},
   "outputs": [],
   "source": [
    "import pandas as pd\n",
    "from textblob import TextBlob"
   ]
  },
  {
   "cell_type": "code",
   "execution_count": 118,
   "metadata": {},
   "outputs": [],
   "source": [
    "df = pd.read_csv('tweets.csv', encoding=\"utf-8\")"
   ]
  },
  {
   "cell_type": "code",
   "execution_count": 119,
   "metadata": {},
   "outputs": [
    {
     "output_type": "execute_result",
     "data": {
      "text/plain": "username             0\nto                1874\ntext                93\nretweets             0\nfavorites            0\nreplies              0\nid                   0\npermalink            0\nauthor_id            0\ndate                 0\nformatted_date       0\nhashtags          8192\nmentions          7833\ngeo               8205\nurls              7272\ndtype: int64"
     },
     "metadata": {},
     "execution_count": 119
    }
   ],
   "source": [
    "df.isnull().sum()"
   ]
  },
  {
   "cell_type": "code",
   "execution_count": 120,
   "metadata": {},
   "outputs": [],
   "source": [
    "df.drop(['username', 'id', 'permalink', 'author_id', 'geo', 'hashtags', 'formatted_date'], axis=1, inplace=True)\n"
   ]
  },
  {
   "cell_type": "code",
   "execution_count": 121,
   "metadata": {},
   "outputs": [
    {
     "output_type": "execute_result",
     "data": {
      "text/plain": "0                          @TheEconomist Interesting name\n1       @Benzinga I didn't take anyone's car and never...\n2       My best guess for 2016: ~70% landing success r...\n3                          @JeffBezos @SpaceX Thanks Jeff\n4       Falcon lands on droneship, but the lockout col...\n                              ...                        \n8200    Yeah, very important to provide C/BiPAP device...\n8201    Invasive ventilators are for worst case patien...\n8202    Exactly. Moreover, all hospitals were given ex...\n8203                         Will call when we reach Mars\n8204                                              Exactly\nName: text, Length: 8205, dtype: object"
     },
     "metadata": {},
     "execution_count": 121
    }
   ],
   "source": [
    "df['text'].astype(str)"
   ]
  },
  {
   "cell_type": "code",
   "execution_count": 122,
   "metadata": {},
   "outputs": [
    {
     "output_type": "execute_result",
     "data": {
      "text/plain": "            retweets     favorites       replies\ncount    8205.000000  8.205000e+03   8205.000000\nmean     2252.576843  1.807881e+04    487.715661\nstd     10393.932164  5.455258e+04   1594.076078\nmin         0.000000  6.000000e+01      0.000000\n25%        41.000000  9.170000e+02     41.000000\n50%       122.000000  2.339000e+03     98.000000\n75%       982.000000  1.207400e+04    379.000000\nmax    391852.000000  1.712683e+06  51016.000000",
      "text/html": "<div>\n<style scoped>\n    .dataframe tbody tr th:only-of-type {\n        vertical-align: middle;\n    }\n\n    .dataframe tbody tr th {\n        vertical-align: top;\n    }\n\n    .dataframe thead th {\n        text-align: right;\n    }\n</style>\n<table border=\"1\" class=\"dataframe\">\n  <thead>\n    <tr style=\"text-align: right;\">\n      <th></th>\n      <th>retweets</th>\n      <th>favorites</th>\n      <th>replies</th>\n    </tr>\n  </thead>\n  <tbody>\n    <tr>\n      <th>count</th>\n      <td>8205.000000</td>\n      <td>8.205000e+03</td>\n      <td>8205.000000</td>\n    </tr>\n    <tr>\n      <th>mean</th>\n      <td>2252.576843</td>\n      <td>1.807881e+04</td>\n      <td>487.715661</td>\n    </tr>\n    <tr>\n      <th>std</th>\n      <td>10393.932164</td>\n      <td>5.455258e+04</td>\n      <td>1594.076078</td>\n    </tr>\n    <tr>\n      <th>min</th>\n      <td>0.000000</td>\n      <td>6.000000e+01</td>\n      <td>0.000000</td>\n    </tr>\n    <tr>\n      <th>25%</th>\n      <td>41.000000</td>\n      <td>9.170000e+02</td>\n      <td>41.000000</td>\n    </tr>\n    <tr>\n      <th>50%</th>\n      <td>122.000000</td>\n      <td>2.339000e+03</td>\n      <td>98.000000</td>\n    </tr>\n    <tr>\n      <th>75%</th>\n      <td>982.000000</td>\n      <td>1.207400e+04</td>\n      <td>379.000000</td>\n    </tr>\n    <tr>\n      <th>max</th>\n      <td>391852.000000</td>\n      <td>1.712683e+06</td>\n      <td>51016.000000</td>\n    </tr>\n  </tbody>\n</table>\n</div>"
     },
     "metadata": {},
     "execution_count": 122
    }
   ],
   "source": [
    "df.describe()"
   ]
  },
  {
   "cell_type": "code",
   "execution_count": 123,
   "metadata": {},
   "outputs": [
    {
     "output_type": "execute_result",
     "data": {
      "text/plain": "             to                                               text  retweets  \\\n0  TheEconomist                     @TheEconomist Interesting name       263   \n1      Benzinga  @Benzinga I didn't take anyone's car and never...        47   \n2           NaN  My best guess for 2016: ~70% landing success r...      1431   \n3     JeffBezos                     @JeffBezos @SpaceX Thanks Jeff       158   \n4           NaN  Falcon lands on droneship, but the lockout col...      8026   \n\n   favorites  replies                       date            mentions  \\\n0       1262       71  2016-01-23 19:43:17+00:00       @TheEconomist   \n1        242       53  2016-01-20 17:56:05+00:00           @Benzinga   \n2       5151      393  2016-01-19 04:11:54+00:00                 NaN   \n3       1068       50  2016-01-18 03:09:21+00:00  @JeffBezos @SpaceX   \n4       8693     1234  2016-01-18 03:07:21+00:00                 NaN   \n\n                                       urls  \n0                                       NaN  \n1                                       NaN  \n2                                       NaN  \n3                                       NaN  \n4  https://www.instagram.com/p/BAqirNbwEc0/  ",
      "text/html": "<div>\n<style scoped>\n    .dataframe tbody tr th:only-of-type {\n        vertical-align: middle;\n    }\n\n    .dataframe tbody tr th {\n        vertical-align: top;\n    }\n\n    .dataframe thead th {\n        text-align: right;\n    }\n</style>\n<table border=\"1\" class=\"dataframe\">\n  <thead>\n    <tr style=\"text-align: right;\">\n      <th></th>\n      <th>to</th>\n      <th>text</th>\n      <th>retweets</th>\n      <th>favorites</th>\n      <th>replies</th>\n      <th>date</th>\n      <th>mentions</th>\n      <th>urls</th>\n    </tr>\n  </thead>\n  <tbody>\n    <tr>\n      <th>0</th>\n      <td>TheEconomist</td>\n      <td>@TheEconomist Interesting name</td>\n      <td>263</td>\n      <td>1262</td>\n      <td>71</td>\n      <td>2016-01-23 19:43:17+00:00</td>\n      <td>@TheEconomist</td>\n      <td>NaN</td>\n    </tr>\n    <tr>\n      <th>1</th>\n      <td>Benzinga</td>\n      <td>@Benzinga I didn't take anyone's car and never...</td>\n      <td>47</td>\n      <td>242</td>\n      <td>53</td>\n      <td>2016-01-20 17:56:05+00:00</td>\n      <td>@Benzinga</td>\n      <td>NaN</td>\n    </tr>\n    <tr>\n      <th>2</th>\n      <td>NaN</td>\n      <td>My best guess for 2016: ~70% landing success r...</td>\n      <td>1431</td>\n      <td>5151</td>\n      <td>393</td>\n      <td>2016-01-19 04:11:54+00:00</td>\n      <td>NaN</td>\n      <td>NaN</td>\n    </tr>\n    <tr>\n      <th>3</th>\n      <td>JeffBezos</td>\n      <td>@JeffBezos @SpaceX Thanks Jeff</td>\n      <td>158</td>\n      <td>1068</td>\n      <td>50</td>\n      <td>2016-01-18 03:09:21+00:00</td>\n      <td>@JeffBezos @SpaceX</td>\n      <td>NaN</td>\n    </tr>\n    <tr>\n      <th>4</th>\n      <td>NaN</td>\n      <td>Falcon lands on droneship, but the lockout col...</td>\n      <td>8026</td>\n      <td>8693</td>\n      <td>1234</td>\n      <td>2016-01-18 03:07:21+00:00</td>\n      <td>NaN</td>\n      <td>https://www.instagram.com/p/BAqirNbwEc0/</td>\n    </tr>\n  </tbody>\n</table>\n</div>"
     },
     "metadata": {},
     "execution_count": 123
    }
   ],
   "source": [
    "df.head()"
   ]
  },
  {
   "cell_type": "code",
   "execution_count": 124,
   "metadata": {},
   "outputs": [],
   "source": [
    "df['date'] = pd.to_datetime( df['date'], format='%Y-%m-%d %H:%M:%S')\n",
    "df.set_index('date', inplace=True)"
   ]
  },
  {
   "cell_type": "code",
   "execution_count": 125,
   "metadata": {},
   "outputs": [
    {
     "output_type": "stream",
     "name": "stdout",
     "text": "<class 'pandas.core.frame.DataFrame'>\nDatetimeIndex: 8205 entries, 2016-01-23 19:43:17+00:00 to 2020-04-02 04:12:18+00:00\nData columns (total 7 columns):\n #   Column     Non-Null Count  Dtype \n---  ------     --------------  ----- \n 0   to         6331 non-null   object\n 1   text       8112 non-null   object\n 2   retweets   8205 non-null   int64 \n 3   favorites  8205 non-null   int64 \n 4   replies    8205 non-null   int64 \n 5   mentions   372 non-null    object\n 6   urls       933 non-null    object\ndtypes: int64(3), object(4)\nmemory usage: 512.8+ KB\n"
    }
   ],
   "source": [
    "df.info()"
   ]
  },
  {
   "cell_type": "code",
   "execution_count": 126,
   "metadata": {},
   "outputs": [
    {
     "output_type": "execute_result",
     "data": {
      "text/plain": "719"
     },
     "metadata": {},
     "execution_count": 126
    }
   ],
   "source": [
    "df['text'].str.contains('Tesla').sum()"
   ]
  },
  {
   "cell_type": "code",
   "execution_count": 127,
   "metadata": {},
   "outputs": [
    {
     "output_type": "execute_result",
     "data": {
      "text/plain": "to           object\ntext         object\nretweets      int64\nfavorites     int64\nreplies       int64\nmentions     object\nurls         object\ndtype: object"
     },
     "metadata": {},
     "execution_count": 127
    }
   ],
   "source": [
    "df.dtypes"
   ]
  },
  {
   "cell_type": "code",
   "execution_count": 128,
   "metadata": {},
   "outputs": [],
   "source": [
    "def sentiment_calc(text):\n",
    "    try:\n",
    "        return TextBlob(text).sentiment\n",
    "    except:\n",
    "        return None\n",
    "\n",
    "def sentiment_calc(text):\n",
    "    try:\n",
    "        return TextBlob(text).sentiment\n",
    "    except:\n",
    "        return None\n",
    "\n",
    "df['sentiment'] = df['text'].apply(sentiment_calc)"
   ]
  },
  {
   "cell_type": "code",
   "execution_count": 129,
   "metadata": {},
   "outputs": [
    {
     "output_type": "execute_result",
     "data": {
      "text/plain": "                                      to  \\\ndate                                       \n2016-01-23 19:43:17+00:00   TheEconomist   \n2016-01-20 17:56:05+00:00       Benzinga   \n2016-01-19 04:11:54+00:00            NaN   \n2016-01-18 03:09:21+00:00      JeffBezos   \n2016-01-18 03:07:21+00:00            NaN   \n...                                  ...   \n2020-04-02 20:11:50+00:00        flcnhvy   \n2020-04-02 19:51:50+00:00       elonmusk   \n2020-04-02 19:50:03+00:00  28delayslater   \n2020-04-02 08:54:06+00:00    NuovaRealta   \n2020-04-02 04:12:18+00:00  28delayslater   \n\n                                                                        text  \\\ndate                                                                           \n2016-01-23 19:43:17+00:00                     @TheEconomist Interesting name   \n2016-01-20 17:56:05+00:00  @Benzinga I didn't take anyone's car and never...   \n2016-01-19 04:11:54+00:00  My best guess for 2016: ~70% landing success r...   \n2016-01-18 03:09:21+00:00                     @JeffBezos @SpaceX Thanks Jeff   \n2016-01-18 03:07:21+00:00  Falcon lands on droneship, but the lockout col...   \n...                                                                      ...   \n2020-04-02 20:11:50+00:00  Yeah, very important to provide C/BiPAP device...   \n2020-04-02 19:51:50+00:00  Invasive ventilators are for worst case patien...   \n2020-04-02 19:50:03+00:00  Exactly. Moreover, all hospitals were given ex...   \n2020-04-02 08:54:06+00:00                       Will call when we reach Mars   \n2020-04-02 04:12:18+00:00                                            Exactly   \n\n                           retweets  favorites  replies            mentions  \\\ndate                                                                          \n2016-01-23 19:43:17+00:00       263       1262       71       @TheEconomist   \n2016-01-20 17:56:05+00:00        47        242       53           @Benzinga   \n2016-01-19 04:11:54+00:00      1431       5151      393                 NaN   \n2016-01-18 03:09:21+00:00       158       1068       50  @JeffBezos @SpaceX   \n2016-01-18 03:07:21+00:00      8026       8693     1234                 NaN   \n...                             ...        ...      ...                 ...   \n2020-04-02 20:11:50+00:00       137       1982       93                 NaN   \n2020-04-02 19:51:50+00:00       349       4884      127                 NaN   \n2020-04-02 19:50:03+00:00       417       7051      155                 NaN   \n2020-04-02 08:54:06+00:00       813      26415      363                 NaN   \n2020-04-02 04:12:18+00:00        96       2475      174                 NaN   \n\n                                                               urls  \\\ndate                                                                  \n2016-01-23 19:43:17+00:00                                       NaN   \n2016-01-20 17:56:05+00:00                                       NaN   \n2016-01-19 04:11:54+00:00                                       NaN   \n2016-01-18 03:09:21+00:00                                       NaN   \n2016-01-18 03:07:21+00:00  https://www.instagram.com/p/BAqirNbwEc0/   \n...                                                             ...   \n2020-04-02 20:11:50+00:00                                       NaN   \n2020-04-02 19:51:50+00:00                                       NaN   \n2020-04-02 19:50:03+00:00                                       NaN   \n2020-04-02 08:54:06+00:00                                       NaN   \n2020-04-02 04:12:18+00:00                                       NaN   \n\n                                                          sentiment  \ndate                                                                 \n2016-01-23 19:43:17+00:00                                (0.5, 0.5)  \n2016-01-20 17:56:05+00:00                                (0.0, 0.1)  \n2016-01-19 04:11:54+00:00                              (0.4, 0.225)  \n2016-01-18 03:09:21+00:00                                (0.2, 0.2)  \n2016-01-18 03:07:21+00:00                                (0.0, 0.0)  \n...                                                             ...  \n2020-04-02 20:11:50+00:00  (0.3233333333333333, 0.7166666666666667)  \n2020-04-02 19:51:50+00:00                              (-0.5, 0.65)  \n2020-04-02 19:50:03+00:00                            (0.225, 0.575)  \n2020-04-02 08:54:06+00:00                                (0.0, 0.0)  \n2020-04-02 04:12:18+00:00                              (0.25, 0.25)  \n\n[8205 rows x 8 columns]",
      "text/html": "<div>\n<style scoped>\n    .dataframe tbody tr th:only-of-type {\n        vertical-align: middle;\n    }\n\n    .dataframe tbody tr th {\n        vertical-align: top;\n    }\n\n    .dataframe thead th {\n        text-align: right;\n    }\n</style>\n<table border=\"1\" class=\"dataframe\">\n  <thead>\n    <tr style=\"text-align: right;\">\n      <th></th>\n      <th>to</th>\n      <th>text</th>\n      <th>retweets</th>\n      <th>favorites</th>\n      <th>replies</th>\n      <th>mentions</th>\n      <th>urls</th>\n      <th>sentiment</th>\n    </tr>\n    <tr>\n      <th>date</th>\n      <th></th>\n      <th></th>\n      <th></th>\n      <th></th>\n      <th></th>\n      <th></th>\n      <th></th>\n      <th></th>\n    </tr>\n  </thead>\n  <tbody>\n    <tr>\n      <th>2016-01-23 19:43:17+00:00</th>\n      <td>TheEconomist</td>\n      <td>@TheEconomist Interesting name</td>\n      <td>263</td>\n      <td>1262</td>\n      <td>71</td>\n      <td>@TheEconomist</td>\n      <td>NaN</td>\n      <td>(0.5, 0.5)</td>\n    </tr>\n    <tr>\n      <th>2016-01-20 17:56:05+00:00</th>\n      <td>Benzinga</td>\n      <td>@Benzinga I didn't take anyone's car and never...</td>\n      <td>47</td>\n      <td>242</td>\n      <td>53</td>\n      <td>@Benzinga</td>\n      <td>NaN</td>\n      <td>(0.0, 0.1)</td>\n    </tr>\n    <tr>\n      <th>2016-01-19 04:11:54+00:00</th>\n      <td>NaN</td>\n      <td>My best guess for 2016: ~70% landing success r...</td>\n      <td>1431</td>\n      <td>5151</td>\n      <td>393</td>\n      <td>NaN</td>\n      <td>NaN</td>\n      <td>(0.4, 0.225)</td>\n    </tr>\n    <tr>\n      <th>2016-01-18 03:09:21+00:00</th>\n      <td>JeffBezos</td>\n      <td>@JeffBezos @SpaceX Thanks Jeff</td>\n      <td>158</td>\n      <td>1068</td>\n      <td>50</td>\n      <td>@JeffBezos @SpaceX</td>\n      <td>NaN</td>\n      <td>(0.2, 0.2)</td>\n    </tr>\n    <tr>\n      <th>2016-01-18 03:07:21+00:00</th>\n      <td>NaN</td>\n      <td>Falcon lands on droneship, but the lockout col...</td>\n      <td>8026</td>\n      <td>8693</td>\n      <td>1234</td>\n      <td>NaN</td>\n      <td>https://www.instagram.com/p/BAqirNbwEc0/</td>\n      <td>(0.0, 0.0)</td>\n    </tr>\n    <tr>\n      <th>...</th>\n      <td>...</td>\n      <td>...</td>\n      <td>...</td>\n      <td>...</td>\n      <td>...</td>\n      <td>...</td>\n      <td>...</td>\n      <td>...</td>\n    </tr>\n    <tr>\n      <th>2020-04-02 20:11:50+00:00</th>\n      <td>flcnhvy</td>\n      <td>Yeah, very important to provide C/BiPAP device...</td>\n      <td>137</td>\n      <td>1982</td>\n      <td>93</td>\n      <td>NaN</td>\n      <td>NaN</td>\n      <td>(0.3233333333333333, 0.7166666666666667)</td>\n    </tr>\n    <tr>\n      <th>2020-04-02 19:51:50+00:00</th>\n      <td>elonmusk</td>\n      <td>Invasive ventilators are for worst case patien...</td>\n      <td>349</td>\n      <td>4884</td>\n      <td>127</td>\n      <td>NaN</td>\n      <td>NaN</td>\n      <td>(-0.5, 0.65)</td>\n    </tr>\n    <tr>\n      <th>2020-04-02 19:50:03+00:00</th>\n      <td>28delayslater</td>\n      <td>Exactly. Moreover, all hospitals were given ex...</td>\n      <td>417</td>\n      <td>7051</td>\n      <td>155</td>\n      <td>NaN</td>\n      <td>NaN</td>\n      <td>(0.225, 0.575)</td>\n    </tr>\n    <tr>\n      <th>2020-04-02 08:54:06+00:00</th>\n      <td>NuovaRealta</td>\n      <td>Will call when we reach Mars</td>\n      <td>813</td>\n      <td>26415</td>\n      <td>363</td>\n      <td>NaN</td>\n      <td>NaN</td>\n      <td>(0.0, 0.0)</td>\n    </tr>\n    <tr>\n      <th>2020-04-02 04:12:18+00:00</th>\n      <td>28delayslater</td>\n      <td>Exactly</td>\n      <td>96</td>\n      <td>2475</td>\n      <td>174</td>\n      <td>NaN</td>\n      <td>NaN</td>\n      <td>(0.25, 0.25)</td>\n    </tr>\n  </tbody>\n</table>\n<p>8205 rows × 8 columns</p>\n</div>"
     },
     "metadata": {},
     "execution_count": 129
    }
   ],
   "source": [
    "df"
   ]
  }
 ],
 "metadata": {
  "language_info": {
   "codemirror_mode": {
    "name": "ipython",
    "version": 3
   },
   "file_extension": ".py",
   "mimetype": "text/x-python",
   "name": "python",
   "nbconvert_exporter": "python",
   "pygments_lexer": "ipython3",
   "version": "3.8.2-final"
  },
  "orig_nbformat": 2,
  "kernelspec": {
   "name": "python38264bitelonmusktweetsvsteslastockpipenvf8b8e951f16b4655a48ec4c89fae8154",
   "display_name": "Python 3.8.2 64-bit ('Elon-Musk-Tweets-VS-Tesla-Stock': pipenv)"
  }
 },
 "nbformat": 4,
 "nbformat_minor": 2
}