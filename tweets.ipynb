{
 "cells": [
  {
   "cell_type": "code",
   "execution_count": 797,
   "metadata": {},
   "outputs": [],
   "source": [
    "import pandas as pd\n",
    "from textblob import TextBlob\n",
    "import re"
   ]
  },
  {
   "cell_type": "code",
   "execution_count": 815,
   "metadata": {},
   "outputs": [],
   "source": [
    "df = pd.read_csv('tweets.csv', encoding=\"utf-8\")"
   ]
  },
  {
   "cell_type": "code",
   "execution_count": 816,
   "metadata": {},
   "outputs": [
    {
     "output_type": "execute_result",
     "data": {
      "text/plain": "username             0\nto                1874\ntext                93\nretweets             0\nfavorites            0\nreplies              0\nid                   0\npermalink            0\nauthor_id            0\ndate                 0\nformatted_date       0\nhashtags          8192\nmentions          7833\ngeo               8205\nurls              7272\ndtype: int64"
     },
     "metadata": {},
     "execution_count": 816
    }
   ],
   "source": [
    "df.isnull().sum()"
   ]
  },
  {
   "cell_type": "code",
   "execution_count": 817,
   "metadata": {},
   "outputs": [],
   "source": [
    "# drop insignificant columns\n",
    "df.drop(['username', 'id', 'permalink', 'author_id', 'geo', 'hashtags', 'formatted_date', 'mentions'], axis=1, inplace=True)"
   ]
  },
  {
   "cell_type": "code",
   "execution_count": 818,
   "metadata": {},
   "outputs": [
    {
     "output_type": "execute_result",
     "data": {
      "text/plain": "0                          @TheEconomist Interesting name\n1       @Benzinga I didn't take anyone's car and never...\n2       My best guess for 2016: ~70% landing success r...\n3                          @JeffBezos @SpaceX Thanks Jeff\n4       Falcon lands on droneship, but the lockout col...\n                              ...                        \n8200    Yeah, very important to provide C/BiPAP device...\n8201    Invasive ventilators are for worst case patien...\n8202    Exactly. Moreover, all hospitals were given ex...\n8203                         Will call when we reach Mars\n8204                                              Exactly\nName: text, Length: 8205, dtype: object"
     },
     "metadata": {},
     "execution_count": 818
    }
   ],
   "source": [
    "df['text'].astype(str)"
   ]
  },
  {
   "cell_type": "code",
   "execution_count": 819,
   "metadata": {},
   "outputs": [
    {
     "output_type": "execute_result",
     "data": {
      "text/plain": "            retweets     favorites       replies\ncount    8205.000000  8.205000e+03   8205.000000\nmean     2252.576843  1.807881e+04    487.715661\nstd     10393.932164  5.455258e+04   1594.076078\nmin         0.000000  6.000000e+01      0.000000\n25%        41.000000  9.170000e+02     41.000000\n50%       122.000000  2.339000e+03     98.000000\n75%       982.000000  1.207400e+04    379.000000\nmax    391852.000000  1.712683e+06  51016.000000",
      "text/html": "<div>\n<style scoped>\n    .dataframe tbody tr th:only-of-type {\n        vertical-align: middle;\n    }\n\n    .dataframe tbody tr th {\n        vertical-align: top;\n    }\n\n    .dataframe thead th {\n        text-align: right;\n    }\n</style>\n<table border=\"1\" class=\"dataframe\">\n  <thead>\n    <tr style=\"text-align: right;\">\n      <th></th>\n      <th>retweets</th>\n      <th>favorites</th>\n      <th>replies</th>\n    </tr>\n  </thead>\n  <tbody>\n    <tr>\n      <th>count</th>\n      <td>8205.000000</td>\n      <td>8.205000e+03</td>\n      <td>8205.000000</td>\n    </tr>\n    <tr>\n      <th>mean</th>\n      <td>2252.576843</td>\n      <td>1.807881e+04</td>\n      <td>487.715661</td>\n    </tr>\n    <tr>\n      <th>std</th>\n      <td>10393.932164</td>\n      <td>5.455258e+04</td>\n      <td>1594.076078</td>\n    </tr>\n    <tr>\n      <th>min</th>\n      <td>0.000000</td>\n      <td>6.000000e+01</td>\n      <td>0.000000</td>\n    </tr>\n    <tr>\n      <th>25%</th>\n      <td>41.000000</td>\n      <td>9.170000e+02</td>\n      <td>41.000000</td>\n    </tr>\n    <tr>\n      <th>50%</th>\n      <td>122.000000</td>\n      <td>2.339000e+03</td>\n      <td>98.000000</td>\n    </tr>\n    <tr>\n      <th>75%</th>\n      <td>982.000000</td>\n      <td>1.207400e+04</td>\n      <td>379.000000</td>\n    </tr>\n    <tr>\n      <th>max</th>\n      <td>391852.000000</td>\n      <td>1.712683e+06</td>\n      <td>51016.000000</td>\n    </tr>\n  </tbody>\n</table>\n</div>"
     },
     "metadata": {},
     "execution_count": 819
    }
   ],
   "source": [
    "df.describe()"
   ]
  },
  {
   "cell_type": "code",
   "execution_count": 820,
   "metadata": {},
   "outputs": [
    {
     "output_type": "execute_result",
     "data": {
      "text/plain": "             to                                               text  retweets  \\\n0  TheEconomist                     @TheEconomist Interesting name       263   \n1      Benzinga  @Benzinga I didn't take anyone's car and never...        47   \n2           NaN  My best guess for 2016: ~70% landing success r...      1431   \n3     JeffBezos                     @JeffBezos @SpaceX Thanks Jeff       158   \n4           NaN  Falcon lands on droneship, but the lockout col...      8026   \n\n   favorites  replies                       date  \\\n0       1262       71  2016-01-23 19:43:17+00:00   \n1        242       53  2016-01-20 17:56:05+00:00   \n2       5151      393  2016-01-19 04:11:54+00:00   \n3       1068       50  2016-01-18 03:09:21+00:00   \n4       8693     1234  2016-01-18 03:07:21+00:00   \n\n                                       urls  \n0                                       NaN  \n1                                       NaN  \n2                                       NaN  \n3                                       NaN  \n4  https://www.instagram.com/p/BAqirNbwEc0/  ",
      "text/html": "<div>\n<style scoped>\n    .dataframe tbody tr th:only-of-type {\n        vertical-align: middle;\n    }\n\n    .dataframe tbody tr th {\n        vertical-align: top;\n    }\n\n    .dataframe thead th {\n        text-align: right;\n    }\n</style>\n<table border=\"1\" class=\"dataframe\">\n  <thead>\n    <tr style=\"text-align: right;\">\n      <th></th>\n      <th>to</th>\n      <th>text</th>\n      <th>retweets</th>\n      <th>favorites</th>\n      <th>replies</th>\n      <th>date</th>\n      <th>urls</th>\n    </tr>\n  </thead>\n  <tbody>\n    <tr>\n      <th>0</th>\n      <td>TheEconomist</td>\n      <td>@TheEconomist Interesting name</td>\n      <td>263</td>\n      <td>1262</td>\n      <td>71</td>\n      <td>2016-01-23 19:43:17+00:00</td>\n      <td>NaN</td>\n    </tr>\n    <tr>\n      <th>1</th>\n      <td>Benzinga</td>\n      <td>@Benzinga I didn't take anyone's car and never...</td>\n      <td>47</td>\n      <td>242</td>\n      <td>53</td>\n      <td>2016-01-20 17:56:05+00:00</td>\n      <td>NaN</td>\n    </tr>\n    <tr>\n      <th>2</th>\n      <td>NaN</td>\n      <td>My best guess for 2016: ~70% landing success r...</td>\n      <td>1431</td>\n      <td>5151</td>\n      <td>393</td>\n      <td>2016-01-19 04:11:54+00:00</td>\n      <td>NaN</td>\n    </tr>\n    <tr>\n      <th>3</th>\n      <td>JeffBezos</td>\n      <td>@JeffBezos @SpaceX Thanks Jeff</td>\n      <td>158</td>\n      <td>1068</td>\n      <td>50</td>\n      <td>2016-01-18 03:09:21+00:00</td>\n      <td>NaN</td>\n    </tr>\n    <tr>\n      <th>4</th>\n      <td>NaN</td>\n      <td>Falcon lands on droneship, but the lockout col...</td>\n      <td>8026</td>\n      <td>8693</td>\n      <td>1234</td>\n      <td>2016-01-18 03:07:21+00:00</td>\n      <td>https://www.instagram.com/p/BAqirNbwEc0/</td>\n    </tr>\n  </tbody>\n</table>\n</div>"
     },
     "metadata": {},
     "execution_count": 820
    }
   ],
   "source": [
    "df.head()"
   ]
  },
  {
   "cell_type": "code",
   "execution_count": 821,
   "metadata": {},
   "outputs": [],
   "source": [
    "# parse date as index and convert timezone to EST\n",
    "df['date'] = pd.to_datetime( df['date'], format='%Y-%m-%d %H:%M:%S')\n",
    "df.set_index('date', inplace=True)\n",
    "df.index = df.index.tz_convert('EST')"
   ]
  },
  {
   "cell_type": "code",
   "execution_count": 822,
   "metadata": {},
   "outputs": [
    {
     "output_type": "stream",
     "name": "stdout",
     "text": "<class 'pandas.core.frame.DataFrame'>\nDatetimeIndex: 8205 entries, 2016-01-23 14:43:17-05:00 to 2020-04-01 23:12:18-05:00\nData columns (total 6 columns):\n #   Column     Non-Null Count  Dtype \n---  ------     --------------  ----- \n 0   to         6331 non-null   object\n 1   text       8112 non-null   object\n 2   retweets   8205 non-null   int64 \n 3   favorites  8205 non-null   int64 \n 4   replies    8205 non-null   int64 \n 5   urls       933 non-null    object\ndtypes: int64(3), object(3)\nmemory usage: 448.7+ KB\n"
    }
   ],
   "source": [
    "df.info()"
   ]
  },
  {
   "cell_type": "code",
   "execution_count": 823,
   "metadata": {},
   "outputs": [],
   "source": [
    "# sentiment_analysis\n",
    "def sentiment_calc(text):\n",
    "    try:\n",
    "        return TextBlob(text).sentiment\n",
    "    except:\n",
    "        return (0, 0)\n",
    "\n",
    "df['sentiment'] = df['text'].apply(sentiment_calc)\n",
    "df['polarity'] = df['sentiment'].apply(lambda x: tuple(x)[0])\n",
    "df['subjectivity'] = df['sentiment'].apply(lambda x: tuple(x)[1])\n",
    "df.drop(['sentiment'], axis=1, inplace=True)"
   ]
  },
  {
   "cell_type": "code",
   "execution_count": 844,
   "metadata": {},
   "outputs": [],
   "source": [
    "# extract info of if url is news\n",
    "reg = r'https?:\\/\\/([\\w\\d.]+)\\/[\\w\\d\\/\\-\\?\\=]*'\n",
    "news_keywords = r'wsj|news|forbes|bloomberg|finance|money|investopedia|marketwatch|cnbc|times|fortune|nasdaq|cnn|huffpost|cnn|usatoday|npr'\n",
    "def get_domain(url):\n",
    "    url = str(url)\n",
    "    result =  re.search(reg, url)\n",
    "    if result:\n",
    "        return result.group(1)\n",
    "    return None\n",
    "\n",
    "df['url_domain'] = df['urls'].apply(get_domain)\n",
    "df['url_news'] = df['url_domain'].str.contains(news_keywords)\n",
    "df['url_news'].fillna(False, inplace=True)\n",
    "\n",
    "df.drop(['url_domain'], axis=1, inplace=True)"
   ]
  },
  {
   "cell_type": "code",
   "execution_count": 845,
   "metadata": {},
   "outputs": [],
   "source": [
    "# extract info of if url is video\n",
    "df['url_video'] = df['urls'].str.contains('video|youtube.com|watch')\n",
    "df['url_video'].fillna(False, inplace=True)\n",
    "df.drop(['urls'], axis=1, inplace=True)"
   ]
  },
  {
   "cell_type": "code",
   "execution_count": 846,
   "metadata": {},
   "outputs": [
    {
     "output_type": "error",
     "ename": "SyntaxError",
     "evalue": "invalid syntax (<ipython-input-846-1d4103202d57>, line 1)",
     "traceback": [
      "\u001b[1;36m  File \u001b[1;32m\"<ipython-input-846-1d4103202d57>\"\u001b[1;36m, line \u001b[1;32m1\u001b[0m\n\u001b[1;33m    df.drop(['urls', , 'url_domain', ''], axis=1, inplace=True)\u001b[0m\n\u001b[1;37m                     ^\u001b[0m\n\u001b[1;31mSyntaxError\u001b[0m\u001b[1;31m:\u001b[0m invalid syntax\n"
     ]
    }
   ],
   "source": [
    "df.drop(['urls', , 'url_domain', ''], axis=1, inplace=True)"
   ]
  },
  {
   "cell_type": "code",
   "execution_count": 847,
   "metadata": {},
   "outputs": [],
   "source": [
    "# find if tweet is a retweet\n",
    "df['is_retweet'] = df['to'].notnull()\n",
    "df.drop(['to'], axis=1, inplace=True)"
   ]
  },
  {
   "cell_type": "code",
   "execution_count": 848,
   "metadata": {},
   "outputs": [],
   "source": [
    "# extract keyword count\n",
    "tesla = '[Tt]esla'\n",
    "closely_related_keywords = r'Model [\\w\\d]|Cars? | cars? |[Tt]ruck|[Ee]lectric|[Ss]olar|[Rr]oof|Semi|[Aa]uto(nomous|pilot|steer(ing)?)?|[Pp]anel|[Ee]nergy|[Mm]egapack|drive(ing)|[Tt]axi? | acceleration|top speed|brak(e|ing)'\n",
    "money_related_keywords = r'[Aa]ffordable|[Cc]heap|[Ee]xpensive|[Pp]rice]|[Ss]tock'\n",
    "other_related_keywords = r'[Ss]pace|[Mm]ars|[Ll]aunch|AI|neural|Boring Company|Hyperloop|[Ii]terview|boringcompany'\n",
    "def word_match_count(text, pattern):\n",
    "    if text is None:\n",
    "        return 0\n",
    "    text = str(text)\n",
    "    return len(re.findall(pattern, text))\n",
    "\n",
    "df['closely_related'] = df['text'].apply(word_match_count, args=(closely_related_keywords,))\n",
    "df['money_related'] = df['text'].apply(word_match_count, args=(money_related_keywords,))\n",
    "df['other_related'] = df['text'].apply(word_match_count, args=(other_related_keywords,))\n",
    "df['tesla'] = df['text'].apply(word_match_count, args=(tesla,))\n",
    "df.drop(['text'], axis=1, inplace=True)"
   ]
  },
  {
   "cell_type": "code",
   "execution_count": 849,
   "metadata": {},
   "outputs": [],
   "source": [
    "# convert bool to int\n",
    "df[['is_retweet', 'url_news', 'url_video']] = df[['is_retweet', 'url_news', 'url_video']].astype(int)"
   ]
  },
  {
   "cell_type": "code",
   "execution_count": 850,
   "metadata": {},
   "outputs": [
    {
     "output_type": "execute_result",
     "data": {
      "text/plain": "            retweets     favorites       replies     polarity  subjectivity  \\\ncount    8205.000000  8.205000e+03   8205.000000  8205.000000   8205.000000   \nmean     2252.576843  1.807881e+04    487.715661     0.119454      0.334493   \nstd     10393.932164  5.455258e+04   1594.076078     0.266830      0.312552   \nmin         0.000000  6.000000e+01      0.000000    -1.000000      0.000000   \n25%        41.000000  9.170000e+02     41.000000     0.000000      0.000000   \n50%       122.000000  2.339000e+03     98.000000     0.000000      0.325000   \n75%       982.000000  1.207400e+04    379.000000     0.250000      0.566667   \nmax    391852.000000  1.712683e+06  51016.000000     1.000000      1.000000   \n\n          url_news    url_video   is_retweet  closely_related  money_related  \\\ncount  8205.000000  8205.000000  8205.000000      8205.000000    8205.000000   \nmean      0.007313     0.015235     0.771603         0.160024       0.006216   \nstd       0.085206     0.122492     0.419826         0.509405       0.083122   \nmin       0.000000     0.000000     0.000000         0.000000       0.000000   \n25%       0.000000     0.000000     1.000000         0.000000       0.000000   \n50%       0.000000     0.000000     1.000000         0.000000       0.000000   \n75%       0.000000     0.000000     1.000000         0.000000       0.000000   \nmax       1.000000     1.000000     1.000000         7.000000       2.000000   \n\n       other_related        tesla  \ncount    8205.000000  8205.000000  \nmean        0.090189     0.101523  \nstd         0.340157     0.343575  \nmin         0.000000     0.000000  \n25%         0.000000     0.000000  \n50%         0.000000     0.000000  \n75%         0.000000     0.000000  \nmax         4.000000     3.000000  ",
      "text/html": "<div>\n<style scoped>\n    .dataframe tbody tr th:only-of-type {\n        vertical-align: middle;\n    }\n\n    .dataframe tbody tr th {\n        vertical-align: top;\n    }\n\n    .dataframe thead th {\n        text-align: right;\n    }\n</style>\n<table border=\"1\" class=\"dataframe\">\n  <thead>\n    <tr style=\"text-align: right;\">\n      <th></th>\n      <th>retweets</th>\n      <th>favorites</th>\n      <th>replies</th>\n      <th>polarity</th>\n      <th>subjectivity</th>\n      <th>url_news</th>\n      <th>url_video</th>\n      <th>is_retweet</th>\n      <th>closely_related</th>\n      <th>money_related</th>\n      <th>other_related</th>\n      <th>tesla</th>\n    </tr>\n  </thead>\n  <tbody>\n    <tr>\n      <th>count</th>\n      <td>8205.000000</td>\n      <td>8.205000e+03</td>\n      <td>8205.000000</td>\n      <td>8205.000000</td>\n      <td>8205.000000</td>\n      <td>8205.000000</td>\n      <td>8205.000000</td>\n      <td>8205.000000</td>\n      <td>8205.000000</td>\n      <td>8205.000000</td>\n      <td>8205.000000</td>\n      <td>8205.000000</td>\n    </tr>\n    <tr>\n      <th>mean</th>\n      <td>2252.576843</td>\n      <td>1.807881e+04</td>\n      <td>487.715661</td>\n      <td>0.119454</td>\n      <td>0.334493</td>\n      <td>0.007313</td>\n      <td>0.015235</td>\n      <td>0.771603</td>\n      <td>0.160024</td>\n      <td>0.006216</td>\n      <td>0.090189</td>\n      <td>0.101523</td>\n    </tr>\n    <tr>\n      <th>std</th>\n      <td>10393.932164</td>\n      <td>5.455258e+04</td>\n      <td>1594.076078</td>\n      <td>0.266830</td>\n      <td>0.312552</td>\n      <td>0.085206</td>\n      <td>0.122492</td>\n      <td>0.419826</td>\n      <td>0.509405</td>\n      <td>0.083122</td>\n      <td>0.340157</td>\n      <td>0.343575</td>\n    </tr>\n    <tr>\n      <th>min</th>\n      <td>0.000000</td>\n      <td>6.000000e+01</td>\n      <td>0.000000</td>\n      <td>-1.000000</td>\n      <td>0.000000</td>\n      <td>0.000000</td>\n      <td>0.000000</td>\n      <td>0.000000</td>\n      <td>0.000000</td>\n      <td>0.000000</td>\n      <td>0.000000</td>\n      <td>0.000000</td>\n    </tr>\n    <tr>\n      <th>25%</th>\n      <td>41.000000</td>\n      <td>9.170000e+02</td>\n      <td>41.000000</td>\n      <td>0.000000</td>\n      <td>0.000000</td>\n      <td>0.000000</td>\n      <td>0.000000</td>\n      <td>1.000000</td>\n      <td>0.000000</td>\n      <td>0.000000</td>\n      <td>0.000000</td>\n      <td>0.000000</td>\n    </tr>\n    <tr>\n      <th>50%</th>\n      <td>122.000000</td>\n      <td>2.339000e+03</td>\n      <td>98.000000</td>\n      <td>0.000000</td>\n      <td>0.325000</td>\n      <td>0.000000</td>\n      <td>0.000000</td>\n      <td>1.000000</td>\n      <td>0.000000</td>\n      <td>0.000000</td>\n      <td>0.000000</td>\n      <td>0.000000</td>\n    </tr>\n    <tr>\n      <th>75%</th>\n      <td>982.000000</td>\n      <td>1.207400e+04</td>\n      <td>379.000000</td>\n      <td>0.250000</td>\n      <td>0.566667</td>\n      <td>0.000000</td>\n      <td>0.000000</td>\n      <td>1.000000</td>\n      <td>0.000000</td>\n      <td>0.000000</td>\n      <td>0.000000</td>\n      <td>0.000000</td>\n    </tr>\n    <tr>\n      <th>max</th>\n      <td>391852.000000</td>\n      <td>1.712683e+06</td>\n      <td>51016.000000</td>\n      <td>1.000000</td>\n      <td>1.000000</td>\n      <td>1.000000</td>\n      <td>1.000000</td>\n      <td>1.000000</td>\n      <td>7.000000</td>\n      <td>2.000000</td>\n      <td>4.000000</td>\n      <td>3.000000</td>\n    </tr>\n  </tbody>\n</table>\n</div>"
     },
     "metadata": {},
     "execution_count": 850
    }
   ],
   "source": [
    "df.describe()"
   ]
  }
 ],
 "metadata": {
  "language_info": {
   "codemirror_mode": {
    "name": "ipython",
    "version": 3
   },
   "file_extension": ".py",
   "mimetype": "text/x-python",
   "name": "python",
   "nbconvert_exporter": "python",
   "pygments_lexer": "ipython3",
   "version": "3.8.2-final"
  },
  "orig_nbformat": 2,
  "kernelspec": {
   "name": "python38264bitelonmusktweetsvsteslastockpipenvf8b8e951f16b4655a48ec4c89fae8154",
   "display_name": "Python 3.8.2 64-bit ('Elon-Musk-Tweets-VS-Tesla-Stock': pipenv)"
  }
 },
 "nbformat": 4,
 "nbformat_minor": 2
}