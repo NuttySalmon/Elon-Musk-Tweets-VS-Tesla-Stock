{
 "cells": [
  {
   "cell_type": "code",
   "execution_count": 639,
   "metadata": {},
   "outputs": [],
   "source": [
    "import pandas as pd\n",
    "from textblob import TextBlob\n",
    "from datetime import timedelta \n",
    "from datetime import datetime\n",
    "import re"
   ]
  },
  {
   "cell_type": "code",
   "execution_count": 640,
   "metadata": {},
   "outputs": [],
   "source": [
    "df = pd.read_csv('tweets.csv', encoding=\"utf-8\")"
   ]
  },
  {
   "cell_type": "code",
   "execution_count": 641,
   "metadata": {},
   "outputs": [
    {
     "output_type": "execute_result",
     "data": {
      "text/plain": "username             0\nto                2690\ntext                93\nretweets             0\nfavorites            0\nreplies              0\nid                   0\npermalink            0\nauthor_id            0\ndate                 0\nformatted_date       0\nhashtags          9365\nmentions          8599\ngeo               9407\nurls              8156\ndtype: int64"
     },
     "metadata": {},
     "execution_count": 641
    }
   ],
   "source": [
    "df.isnull().sum()"
   ]
  },
  {
   "cell_type": "code",
   "execution_count": 642,
   "metadata": {},
   "outputs": [],
   "source": [
    "# drop insignificant columns\n",
    "df.drop(['username', 'id', 'permalink', 'author_id', 'geo', 'hashtags', 'formatted_date', 'mentions'], axis=1, inplace=True)"
   ]
  },
  {
   "cell_type": "code",
   "execution_count": 643,
   "metadata": {},
   "outputs": [
    {
     "output_type": "execute_result",
     "data": {
      "text/plain": "0       Just test-fired the Superdraco rocket engine. ...\n1       Um, while awesome in its own way, that was not...\n2       The SpaceX theme song by Total Ghost is just t...\n3       The lady doth protest too little. http://finan...\n4       The Model X unveiling will be webcast live on ...\n                              ...                        \n9402    Yeah, very important to provide C/BiPAP device...\n9403    Invasive ventilators are for worst case patien...\n9404    Exactly. Moreover, all hospitals were given ex...\n9405                         Will call when we reach Mars\n9406                                              Exactly\nName: text, Length: 9407, dtype: object"
     },
     "metadata": {},
     "execution_count": 643
    }
   ],
   "source": [
    "df['text'].astype(str)"
   ]
  },
  {
   "cell_type": "code",
   "execution_count": 644,
   "metadata": {},
   "outputs": [
    {
     "output_type": "execute_result",
     "data": {
      "text/plain": "            retweets     favorites       replies\ncount    9407.000000  9.407000e+03   9407.000000\nmean     2036.466674  1.588151e+04    438.382162\nstd      9729.229462  5.129967e+04   1505.300534\nmin         0.000000  1.000000e+00      0.000000\n25%        41.000000  7.190000e+02     37.000000\n50%       129.000000  1.821000e+03     89.000000\n75%       880.500000  9.192500e+03    311.000000\nmax    391538.000000  1.711258e+06  51362.000000",
      "text/html": "<div>\n<style scoped>\n    .dataframe tbody tr th:only-of-type {\n        vertical-align: middle;\n    }\n\n    .dataframe tbody tr th {\n        vertical-align: top;\n    }\n\n    .dataframe thead th {\n        text-align: right;\n    }\n</style>\n<table border=\"1\" class=\"dataframe\">\n  <thead>\n    <tr style=\"text-align: right;\">\n      <th></th>\n      <th>retweets</th>\n      <th>favorites</th>\n      <th>replies</th>\n    </tr>\n  </thead>\n  <tbody>\n    <tr>\n      <th>count</th>\n      <td>9407.000000</td>\n      <td>9.407000e+03</td>\n      <td>9407.000000</td>\n    </tr>\n    <tr>\n      <th>mean</th>\n      <td>2036.466674</td>\n      <td>1.588151e+04</td>\n      <td>438.382162</td>\n    </tr>\n    <tr>\n      <th>std</th>\n      <td>9729.229462</td>\n      <td>5.129967e+04</td>\n      <td>1505.300534</td>\n    </tr>\n    <tr>\n      <th>min</th>\n      <td>0.000000</td>\n      <td>1.000000e+00</td>\n      <td>0.000000</td>\n    </tr>\n    <tr>\n      <th>25%</th>\n      <td>41.000000</td>\n      <td>7.190000e+02</td>\n      <td>37.000000</td>\n    </tr>\n    <tr>\n      <th>50%</th>\n      <td>129.000000</td>\n      <td>1.821000e+03</td>\n      <td>89.000000</td>\n    </tr>\n    <tr>\n      <th>75%</th>\n      <td>880.500000</td>\n      <td>9.192500e+03</td>\n      <td>311.000000</td>\n    </tr>\n    <tr>\n      <th>max</th>\n      <td>391538.000000</td>\n      <td>1.711258e+06</td>\n      <td>51362.000000</td>\n    </tr>\n  </tbody>\n</table>\n</div>"
     },
     "metadata": {},
     "execution_count": 644
    }
   ],
   "source": [
    "df.describe()"
   ]
  },
  {
   "cell_type": "code",
   "execution_count": 645,
   "metadata": {},
   "outputs": [
    {
     "output_type": "execute_result",
     "data": {
      "text/plain": "    to                                               text  retweets  \\\n0  NaN  Just test-fired the Superdraco rocket engine. ...        63   \n1  NaN  Um, while awesome in its own way, that was not...         5   \n2  NaN  The SpaceX theme song by Total Ghost is just t...        32   \n3  NaN  The lady doth protest too little. http://finan...         4   \n4  NaN  The Model X unveiling will be webcast live on ...       109   \n\n   favorites  replies                       date  \\\n0         67       13  2012-02-01 16:03:05+00:00   \n1         19       12  2012-02-01 09:12:24+00:00   \n2         79       14  2012-01-31 16:49:58+00:00   \n3          2        1  2012-01-28 19:54:40+00:00   \n4         23       18  2012-01-28 02:21:03+00:00   \n\n                                                urls  \n0                                                NaN  \n1                                                NaN  \n2         http://www.youtube.com/watch?v=MezkEiS-6jA  \n3  http://finance.yahoo.com/news/topless-proteste...  \n4                             http://teslamotors.com  ",
      "text/html": "<div>\n<style scoped>\n    .dataframe tbody tr th:only-of-type {\n        vertical-align: middle;\n    }\n\n    .dataframe tbody tr th {\n        vertical-align: top;\n    }\n\n    .dataframe thead th {\n        text-align: right;\n    }\n</style>\n<table border=\"1\" class=\"dataframe\">\n  <thead>\n    <tr style=\"text-align: right;\">\n      <th></th>\n      <th>to</th>\n      <th>text</th>\n      <th>retweets</th>\n      <th>favorites</th>\n      <th>replies</th>\n      <th>date</th>\n      <th>urls</th>\n    </tr>\n  </thead>\n  <tbody>\n    <tr>\n      <th>0</th>\n      <td>NaN</td>\n      <td>Just test-fired the Superdraco rocket engine. ...</td>\n      <td>63</td>\n      <td>67</td>\n      <td>13</td>\n      <td>2012-02-01 16:03:05+00:00</td>\n      <td>NaN</td>\n    </tr>\n    <tr>\n      <th>1</th>\n      <td>NaN</td>\n      <td>Um, while awesome in its own way, that was not...</td>\n      <td>5</td>\n      <td>19</td>\n      <td>12</td>\n      <td>2012-02-01 09:12:24+00:00</td>\n      <td>NaN</td>\n    </tr>\n    <tr>\n      <th>2</th>\n      <td>NaN</td>\n      <td>The SpaceX theme song by Total Ghost is just t...</td>\n      <td>32</td>\n      <td>79</td>\n      <td>14</td>\n      <td>2012-01-31 16:49:58+00:00</td>\n      <td>http://www.youtube.com/watch?v=MezkEiS-6jA</td>\n    </tr>\n    <tr>\n      <th>3</th>\n      <td>NaN</td>\n      <td>The lady doth protest too little. http://finan...</td>\n      <td>4</td>\n      <td>2</td>\n      <td>1</td>\n      <td>2012-01-28 19:54:40+00:00</td>\n      <td>http://finance.yahoo.com/news/topless-proteste...</td>\n    </tr>\n    <tr>\n      <th>4</th>\n      <td>NaN</td>\n      <td>The Model X unveiling will be webcast live on ...</td>\n      <td>109</td>\n      <td>23</td>\n      <td>18</td>\n      <td>2012-01-28 02:21:03+00:00</td>\n      <td>http://teslamotors.com</td>\n    </tr>\n  </tbody>\n</table>\n</div>"
     },
     "metadata": {},
     "execution_count": 645
    }
   ],
   "source": [
    "df.head()"
   ]
  },
  {
   "cell_type": "code",
   "execution_count": 646,
   "metadata": {},
   "outputs": [
    {
     "output_type": "execute_result",
     "data": {
      "text/plain": "                                   to  \\\nD                                       \n2012-01-03 01:58:13-05:00         NaN   \n2012-01-03 16:04:51-05:00          om   \n2012-01-03 16:28:25-05:00         NaN   \n2012-01-06 12:28:01-05:00         NaN   \n2012-01-06 12:30:01-05:00         NaN   \n...                               ...   \n2020-05-01 17:32:29-05:00  JohnCleese   \n2020-05-01 17:34:24-05:00     Bitcoin   \n2020-05-01 17:39:28-05:00    TheOnion   \n2020-05-01 17:44:56-05:00     Bitcoin   \n2020-05-01 17:46:42-05:00   Teslarati   \n\n                                                                        text  \\\nD                                                                              \n2012-01-03 01:58:13-05:00  What everyone really thinks ... RT “@jonlovett...   \n2012-01-03 16:04:51-05:00  @om Respectfully disagree. Larry made awesome ...   \n2012-01-03 16:28:25-05:00  Just finished Massie's book on Catherine. An a...   \n2012-01-06 12:28:01-05:00  Feb is huge month. Model X world premier and p...   \n2012-01-06 12:30:01-05:00  Next month is also when our Dragon spaceship d...   \n...                                                                      ...   \n2020-05-01 17:32:29-05:00                   Reality is its own parrot parody   \n2020-05-01 17:34:24-05:00                                                      \n2020-05-01 17:39:28-05:00                                                      \n2020-05-01 17:44:56-05:00                   How much for some anime Bitcoin?   \n2020-05-01 17:46:42-05:00  We’re going to try landing Starship on the moo...   \n\n                           retweets  favorites  replies  \\\nD                                                         \n2012-01-03 01:58:13-05:00        93         21        3   \n2012-01-03 16:04:51-05:00        10         11        6   \n2012-01-03 16:28:25-05:00         2         11        2   \n2012-01-06 12:28:01-05:00        26         16       11   \n2012-01-06 12:30:01-05:00        40         12        9   \n...                             ...        ...      ...   \n2020-05-01 17:32:29-05:00       176       3742      223   \n2020-05-01 17:34:24-05:00       192       5228      185   \n2020-05-01 17:39:28-05:00       157       3995      197   \n2020-05-01 17:44:56-05:00      2239      15905      729   \n2020-05-01 17:46:42-05:00      1716      25566     1354   \n\n                                               date urls  \nD                                                         \n2012-01-03 01:58:13-05:00 2012-01-03 01:58:13-05:00  NaN  \n2012-01-03 16:04:51-05:00 2012-01-03 16:04:51-05:00  NaN  \n2012-01-03 16:28:25-05:00 2012-01-03 16:28:25-05:00  NaN  \n2012-01-06 12:28:01-05:00 2012-01-06 12:28:01-05:00  NaN  \n2012-01-06 12:30:01-05:00 2012-01-06 12:30:01-05:00  NaN  \n...                                             ...  ...  \n2020-05-01 17:32:29-05:00 2020-05-01 17:32:29-05:00  NaN  \n2020-05-01 17:34:24-05:00 2020-05-01 17:34:24-05:00  NaN  \n2020-05-01 17:39:28-05:00 2020-05-01 17:39:28-05:00  NaN  \n2020-05-01 17:44:56-05:00 2020-05-01 17:44:56-05:00  NaN  \n2020-05-01 17:46:42-05:00 2020-05-01 17:46:42-05:00  NaN  \n\n[9407 rows x 7 columns]",
      "text/html": "<div>\n<style scoped>\n    .dataframe tbody tr th:only-of-type {\n        vertical-align: middle;\n    }\n\n    .dataframe tbody tr th {\n        vertical-align: top;\n    }\n\n    .dataframe thead th {\n        text-align: right;\n    }\n</style>\n<table border=\"1\" class=\"dataframe\">\n  <thead>\n    <tr style=\"text-align: right;\">\n      <th></th>\n      <th>to</th>\n      <th>text</th>\n      <th>retweets</th>\n      <th>favorites</th>\n      <th>replies</th>\n      <th>date</th>\n      <th>urls</th>\n    </tr>\n    <tr>\n      <th>D</th>\n      <th></th>\n      <th></th>\n      <th></th>\n      <th></th>\n      <th></th>\n      <th></th>\n      <th></th>\n    </tr>\n  </thead>\n  <tbody>\n    <tr>\n      <th>2012-01-03 01:58:13-05:00</th>\n      <td>NaN</td>\n      <td>What everyone really thinks ... RT “@jonlovett...</td>\n      <td>93</td>\n      <td>21</td>\n      <td>3</td>\n      <td>2012-01-03 01:58:13-05:00</td>\n      <td>NaN</td>\n    </tr>\n    <tr>\n      <th>2012-01-03 16:04:51-05:00</th>\n      <td>om</td>\n      <td>@om Respectfully disagree. Larry made awesome ...</td>\n      <td>10</td>\n      <td>11</td>\n      <td>6</td>\n      <td>2012-01-03 16:04:51-05:00</td>\n      <td>NaN</td>\n    </tr>\n    <tr>\n      <th>2012-01-03 16:28:25-05:00</th>\n      <td>NaN</td>\n      <td>Just finished Massie's book on Catherine. An a...</td>\n      <td>2</td>\n      <td>11</td>\n      <td>2</td>\n      <td>2012-01-03 16:28:25-05:00</td>\n      <td>NaN</td>\n    </tr>\n    <tr>\n      <th>2012-01-06 12:28:01-05:00</th>\n      <td>NaN</td>\n      <td>Feb is huge month. Model X world premier and p...</td>\n      <td>26</td>\n      <td>16</td>\n      <td>11</td>\n      <td>2012-01-06 12:28:01-05:00</td>\n      <td>NaN</td>\n    </tr>\n    <tr>\n      <th>2012-01-06 12:30:01-05:00</th>\n      <td>NaN</td>\n      <td>Next month is also when our Dragon spaceship d...</td>\n      <td>40</td>\n      <td>12</td>\n      <td>9</td>\n      <td>2012-01-06 12:30:01-05:00</td>\n      <td>NaN</td>\n    </tr>\n    <tr>\n      <th>...</th>\n      <td>...</td>\n      <td>...</td>\n      <td>...</td>\n      <td>...</td>\n      <td>...</td>\n      <td>...</td>\n      <td>...</td>\n    </tr>\n    <tr>\n      <th>2020-05-01 17:32:29-05:00</th>\n      <td>JohnCleese</td>\n      <td>Reality is its own parrot parody</td>\n      <td>176</td>\n      <td>3742</td>\n      <td>223</td>\n      <td>2020-05-01 17:32:29-05:00</td>\n      <td>NaN</td>\n    </tr>\n    <tr>\n      <th>2020-05-01 17:34:24-05:00</th>\n      <td>Bitcoin</td>\n      <td></td>\n      <td>192</td>\n      <td>5228</td>\n      <td>185</td>\n      <td>2020-05-01 17:34:24-05:00</td>\n      <td>NaN</td>\n    </tr>\n    <tr>\n      <th>2020-05-01 17:39:28-05:00</th>\n      <td>TheOnion</td>\n      <td></td>\n      <td>157</td>\n      <td>3995</td>\n      <td>197</td>\n      <td>2020-05-01 17:39:28-05:00</td>\n      <td>NaN</td>\n    </tr>\n    <tr>\n      <th>2020-05-01 17:44:56-05:00</th>\n      <td>Bitcoin</td>\n      <td>How much for some anime Bitcoin?</td>\n      <td>2239</td>\n      <td>15905</td>\n      <td>729</td>\n      <td>2020-05-01 17:44:56-05:00</td>\n      <td>NaN</td>\n    </tr>\n    <tr>\n      <th>2020-05-01 17:46:42-05:00</th>\n      <td>Teslarati</td>\n      <td>We’re going to try landing Starship on the moo...</td>\n      <td>1716</td>\n      <td>25566</td>\n      <td>1354</td>\n      <td>2020-05-01 17:46:42-05:00</td>\n      <td>NaN</td>\n    </tr>\n  </tbody>\n</table>\n<p>9407 rows × 7 columns</p>\n</div>"
     },
     "metadata": {},
     "execution_count": 646
    }
   ],
   "source": [
    "# # parse date as index and convert timezone to EST\n",
    "df['date'] = pd.to_datetime( df['date'], format='%Y-%m-%d %H:%M:%S')\n",
    "df['date'] = df['date'].dt.tz_convert('EST')\n",
    "df.index = df['date']\n",
    "df.index.rename('D', inplace=True)\n",
    "df.sort_index()"
   ]
  },
  {
   "cell_type": "code",
   "execution_count": 647,
   "metadata": {},
   "outputs": [
    {
     "output_type": "stream",
     "name": "stdout",
     "text": "<class 'pandas.core.frame.DataFrame'>\nDatetimeIndex: 9407 entries, 2012-02-01 11:03:05-05:00 to 2020-04-01 23:12:18-05:00\nData columns (total 7 columns):\n #   Column     Non-Null Count  Dtype              \n---  ------     --------------  -----              \n 0   to         6717 non-null   object             \n 1   text       9314 non-null   object             \n 2   retweets   9407 non-null   int64              \n 3   favorites  9407 non-null   int64              \n 4   replies    9407 non-null   int64              \n 5   date       9407 non-null   datetime64[ns, EST]\n 6   urls       1251 non-null   object             \ndtypes: datetime64[ns, EST](1), int64(3), object(3)\nmemory usage: 587.9+ KB\n"
    }
   ],
   "source": [
    "df.info()"
   ]
  },
  {
   "cell_type": "code",
   "execution_count": 648,
   "metadata": {},
   "outputs": [],
   "source": [
    "# sentiment_analysis\n",
    "def sentiment_calc(text):\n",
    "    try:\n",
    "        return TextBlob(text).sentiment\n",
    "    except:\n",
    "        return (0, 0)\n",
    "\n",
    "df['sentiment'] = df['text'].apply(sentiment_calc)\n",
    "df['polarity'] = df['sentiment'].apply(lambda x: tuple(x)[0])\n",
    "df['subjectivity'] = df['sentiment'].apply(lambda x: tuple(x)[1])\n",
    "df.drop(['sentiment'], axis=1, inplace=True)"
   ]
  },
  {
   "cell_type": "code",
   "execution_count": 649,
   "metadata": {},
   "outputs": [],
   "source": [
    "# extract info of if url is news\n",
    "reg = r'https?:\\/\\/([\\w\\d.]+)\\/[\\w\\d\\/\\-\\?\\=]*'\n",
    "news_keywords = r'wsj|news|forbes|bloomberg|finance|money|investopedia|marketwatch|cnbc|times|fortune|nasdaq|cnn|huffpost|cnn|usatoday|npr'\n",
    "def get_domain(url):\n",
    "    url = str(url)\n",
    "    result =  re.search(reg, url)\n",
    "    if result:\n",
    "        return result.group(1)\n",
    "    return None\n",
    "\n",
    "df['url_domain'] = df['urls'].apply(get_domain)\n",
    "df['url_news'] = df['url_domain'].str.contains(news_keywords)\n",
    "df['url_news'].fillna(False, inplace=True)\n",
    "\n",
    "df.drop(['url_domain'], axis=1, inplace=True)"
   ]
  },
  {
   "cell_type": "code",
   "execution_count": 650,
   "metadata": {},
   "outputs": [],
   "source": [
    "# extract info of if url is video\n",
    "df['url_video'] = df['urls'].str.contains('video|youtube.com|watch')\n",
    "df['url_video'].fillna(False, inplace=True)\n",
    "df.drop(['urls'], axis=1, inplace=True)"
   ]
  },
  {
   "cell_type": "code",
   "execution_count": 651,
   "metadata": {},
   "outputs": [],
   "source": [
    "# find if tweet is a retweet\n",
    "df['reply_count'] = df['to'].notnull()\n",
    "df.drop(['to'], axis=1, inplace=True)"
   ]
  },
  {
   "cell_type": "code",
   "execution_count": 652,
   "metadata": {},
   "outputs": [],
   "source": [
    "# extract keyword count\n",
    "tesla = '[Tt]esla'\n",
    "closely_related_keywords = r'Model [\\w\\d] | [Tt]ruck|[Ee]lectric|[Ss]olar|[Rr]oof|Semi|[Aa]uto(nomous|pilot|steer(ing)?)?|[Pp]anel|[Ee]nergy|[Mm]egapack | acceleration|top speed|brak(e|ing)'\n",
    "money_related_keywords = r'[Aa]ffordable|[Cc]heap|[Ee]xpensive|[Pp]rice]|[Ss]tock'\n",
    "other_related_keywords = r'[Ss]pace|[Mm]ars|[Ll]aunch|AI|neural|Boring Company|Hyperloop|[Ii]terview|boringcompany |drive(ing)|[Tt]axi | |Cars? | cars? |'\n",
    "def word_match_count(text, pattern):\n",
    "    if text is None:\n",
    "        return 0\n",
    "    text = str(text)\n",
    "    return len(re.findall(pattern, text))\n",
    "\n",
    "df['closely_related'] = df['text'].apply(word_match_count, args=(closely_related_keywords,))\n",
    "df['money_related'] = df['text'].apply(word_match_count, args=(money_related_keywords,))\n",
    "df['other_related'] = df['text'].apply(word_match_count, args=(other_related_keywords,))\n",
    "df['tesla'] = df['text'].apply(word_match_count, args=(tesla,))\n",
    "df.drop(['text'], axis=1, inplace=True)"
   ]
  },
  {
   "cell_type": "code",
   "execution_count": 653,
   "metadata": {},
   "outputs": [],
   "source": [
    "# convert bool to int\n",
    "df[['reply_count', 'url_news', 'url_video']] = df[['reply_count', 'url_news', 'url_video']].astype(int)"
   ]
  },
  {
   "cell_type": "code",
   "execution_count": 654,
   "metadata": {},
   "outputs": [
    {
     "output_type": "execute_result",
     "data": {
      "text/plain": "            retweets     favorites       replies     polarity  subjectivity  \\\ncount    9407.000000  9.407000e+03   9407.000000  9407.000000   9407.000000   \nmean     2036.466674  1.588151e+04    438.382162     0.123346      0.338795   \nstd      9729.229462  5.129967e+04   1505.300534     0.266251      0.311150   \nmin         0.000000  1.000000e+00      0.000000    -1.000000      0.000000   \n25%        41.000000  7.190000e+02     37.000000     0.000000      0.000000   \n50%       129.000000  1.821000e+03     89.000000     0.000000      0.333333   \n75%       880.500000  9.192500e+03    311.000000     0.250000      0.567354   \nmax    391538.000000  1.711258e+06  51362.000000     1.000000      1.000000   \n\n         url_news    url_video  reply_count  closely_related  money_related  \\\ncount  9407.00000  9407.000000  9407.000000      9407.000000    9407.000000   \nmean      0.01063     0.017965     0.714043         0.119485       0.006272   \nstd       0.10256     0.132832     0.451893         0.431792       0.084165   \nmin       0.00000     0.000000     0.000000         0.000000       0.000000   \n25%       0.00000     0.000000     0.000000         0.000000       0.000000   \n50%       0.00000     0.000000     1.000000         0.000000       0.000000   \n75%       0.00000     0.000000     1.000000         0.000000       0.000000   \nmax       1.00000     1.000000     1.000000         7.000000       2.000000   \n\n       other_related        tesla  \ncount    9407.000000  9407.000000  \nmean       73.913894     0.112576  \nstd        62.728419     0.360408  \nmin         2.000000     0.000000  \n25%        21.000000     0.000000  \n50%        60.000000     0.000000  \n75%       115.000000     0.000000  \nmax       445.000000     3.000000  ",
      "text/html": "<div>\n<style scoped>\n    .dataframe tbody tr th:only-of-type {\n        vertical-align: middle;\n    }\n\n    .dataframe tbody tr th {\n        vertical-align: top;\n    }\n\n    .dataframe thead th {\n        text-align: right;\n    }\n</style>\n<table border=\"1\" class=\"dataframe\">\n  <thead>\n    <tr style=\"text-align: right;\">\n      <th></th>\n      <th>retweets</th>\n      <th>favorites</th>\n      <th>replies</th>\n      <th>polarity</th>\n      <th>subjectivity</th>\n      <th>url_news</th>\n      <th>url_video</th>\n      <th>reply_count</th>\n      <th>closely_related</th>\n      <th>money_related</th>\n      <th>other_related</th>\n      <th>tesla</th>\n    </tr>\n  </thead>\n  <tbody>\n    <tr>\n      <th>count</th>\n      <td>9407.000000</td>\n      <td>9.407000e+03</td>\n      <td>9407.000000</td>\n      <td>9407.000000</td>\n      <td>9407.000000</td>\n      <td>9407.00000</td>\n      <td>9407.000000</td>\n      <td>9407.000000</td>\n      <td>9407.000000</td>\n      <td>9407.000000</td>\n      <td>9407.000000</td>\n      <td>9407.000000</td>\n    </tr>\n    <tr>\n      <th>mean</th>\n      <td>2036.466674</td>\n      <td>1.588151e+04</td>\n      <td>438.382162</td>\n      <td>0.123346</td>\n      <td>0.338795</td>\n      <td>0.01063</td>\n      <td>0.017965</td>\n      <td>0.714043</td>\n      <td>0.119485</td>\n      <td>0.006272</td>\n      <td>73.913894</td>\n      <td>0.112576</td>\n    </tr>\n    <tr>\n      <th>std</th>\n      <td>9729.229462</td>\n      <td>5.129967e+04</td>\n      <td>1505.300534</td>\n      <td>0.266251</td>\n      <td>0.311150</td>\n      <td>0.10256</td>\n      <td>0.132832</td>\n      <td>0.451893</td>\n      <td>0.431792</td>\n      <td>0.084165</td>\n      <td>62.728419</td>\n      <td>0.360408</td>\n    </tr>\n    <tr>\n      <th>min</th>\n      <td>0.000000</td>\n      <td>1.000000e+00</td>\n      <td>0.000000</td>\n      <td>-1.000000</td>\n      <td>0.000000</td>\n      <td>0.00000</td>\n      <td>0.000000</td>\n      <td>0.000000</td>\n      <td>0.000000</td>\n      <td>0.000000</td>\n      <td>2.000000</td>\n      <td>0.000000</td>\n    </tr>\n    <tr>\n      <th>25%</th>\n      <td>41.000000</td>\n      <td>7.190000e+02</td>\n      <td>37.000000</td>\n      <td>0.000000</td>\n      <td>0.000000</td>\n      <td>0.00000</td>\n      <td>0.000000</td>\n      <td>0.000000</td>\n      <td>0.000000</td>\n      <td>0.000000</td>\n      <td>21.000000</td>\n      <td>0.000000</td>\n    </tr>\n    <tr>\n      <th>50%</th>\n      <td>129.000000</td>\n      <td>1.821000e+03</td>\n      <td>89.000000</td>\n      <td>0.000000</td>\n      <td>0.333333</td>\n      <td>0.00000</td>\n      <td>0.000000</td>\n      <td>1.000000</td>\n      <td>0.000000</td>\n      <td>0.000000</td>\n      <td>60.000000</td>\n      <td>0.000000</td>\n    </tr>\n    <tr>\n      <th>75%</th>\n      <td>880.500000</td>\n      <td>9.192500e+03</td>\n      <td>311.000000</td>\n      <td>0.250000</td>\n      <td>0.567354</td>\n      <td>0.00000</td>\n      <td>0.000000</td>\n      <td>1.000000</td>\n      <td>0.000000</td>\n      <td>0.000000</td>\n      <td>115.000000</td>\n      <td>0.000000</td>\n    </tr>\n    <tr>\n      <th>max</th>\n      <td>391538.000000</td>\n      <td>1.711258e+06</td>\n      <td>51362.000000</td>\n      <td>1.000000</td>\n      <td>1.000000</td>\n      <td>1.00000</td>\n      <td>1.000000</td>\n      <td>1.000000</td>\n      <td>7.000000</td>\n      <td>2.000000</td>\n      <td>445.000000</td>\n      <td>3.000000</td>\n    </tr>\n  </tbody>\n</table>\n</div>"
     },
     "metadata": {},
     "execution_count": 654
    }
   ],
   "source": [
    "df.describe()"
   ]
  },
  {
   "cell_type": "code",
   "execution_count": 655,
   "metadata": {},
   "outputs": [],
   "source": [
    "df['day_of_week'] = df['date'].dt.dayofweek"
   ]
  },
  {
   "cell_type": "code",
   "execution_count": 656,
   "metadata": {},
   "outputs": [],
   "source": [
    "df['time_of_day'] = df['date'].apply(lambda x: int(x.hour))"
   ]
  },
  {
   "cell_type": "code",
   "execution_count": 657,
   "metadata": {},
   "outputs": [],
   "source": [
    "df_shift = df.copy()\n",
    "df_shift['date'] = df_shift['date'].apply(lambda x: datetime(x.year, x.month, x.day, tzinfo=x.tzinfo))\n",
    "for delta in range(1, 4):\n",
    "    df_shift['date'] = df_shift['date'].apply(lambda x: x + timedelta(days=1))\n",
    "    df_shift_x = df_shift.copy()\n",
    "    sums_by_date = df_shift_x[['date', 'retweets', 'favorites', 'replies', 'reply_count', 'closely_related',  'url_news', 'url_video', 'money_related', 'other_related', 'tesla']].groupby(['date']).sum()\n",
    "    means_by_date = df_shift_x[['date', 'polarity', 'subjectivity', 'time_of_day']].groupby(['date']).mean()\n",
    "    df_shift_x = pd.merge(sums_by_date, means_by_date, on='date')\n",
    "    df_shift_x['day_of_week'] = df_shift_x.index.dayofweek\n",
    "    df_shift_x.to_pickle('tweets_processed_shift_{}.pkl'.format(delta))\n",
    "    "
   ]
  },
  {
   "cell_type": "code",
   "execution_count": 658,
   "metadata": {},
   "outputs": [],
   "source": [
    "def shift_if_after_market(date):\n",
    "    closing_time = datetime(date.year, date.month, date.day, 16, 0, tzinfo=date.tzinfo)\n",
    "    if date >= closing_time:\n",
    "        return date + timedelta(days=1)\n",
    "    return date\n",
    "\n",
    "df['date'] = df['date'].apply(shift_if_after_market)\n",
    "df['date'] = df['date'].apply(lambda x: datetime(x.year, x.month, x.day, tzinfo=x.tzinfo))"
   ]
  },
  {
   "cell_type": "code",
   "execution_count": 659,
   "metadata": {},
   "outputs": [],
   "source": [
    "sums_by_date = df[['date', 'retweets', 'favorites', 'replies', 'reply_count', 'closely_related',  'url_news', 'url_video', 'money_related', 'other_related', 'tesla']].groupby(['date']).sum()\n",
    "means_by_date = df[['date', 'polarity', 'subjectivity', 'time_of_day']].groupby(['date']).mean()\n",
    "df2 = pd.merge(sums_by_date, means_by_date, on='date')"
   ]
  },
  {
   "cell_type": "code",
   "execution_count": 660,
   "metadata": {},
   "outputs": [
    {
     "output_type": "execute_result",
     "data": {
      "text/plain": "                           retweets  favorites  replies  reply_count  \\\ndate                                                                   \n2012-01-03 00:00:00-05:00        93         21        3            0   \n2012-01-04 00:00:00-05:00        12         22        8            1   \n2012-01-06 00:00:00-05:00       116         37       38            0   \n2012-01-11 00:00:00-05:00        68        325       28            0   \n2012-01-12 00:00:00-05:00       110         30       14            0   \n...                             ...        ...      ...          ...   \n2020-04-28 00:00:00-05:00     15660     157319     4715            4   \n2020-04-29 00:00:00-05:00     98006     581451    63213            3   \n2020-04-30 00:00:00-05:00     99374     510522    34649           14   \n2020-05-01 00:00:00-05:00    130810    1235995    97657           10   \n2020-05-02 00:00:00-05:00      5541      66980     4502            9   \n\n                           closely_related  url_news  url_video  \\\ndate                                                              \n2012-01-03 00:00:00-05:00                0         0          0   \n2012-01-04 00:00:00-05:00                0         0          0   \n2012-01-06 00:00:00-05:00                2         0          0   \n2012-01-11 00:00:00-05:00                0         0          0   \n2012-01-12 00:00:00-05:00                1         0          0   \n...                                    ...       ...        ...   \n2020-04-28 00:00:00-05:00                0         0          0   \n2020-04-29 00:00:00-05:00                0         1          0   \n2020-04-30 00:00:00-05:00                0         0          0   \n2020-05-01 00:00:00-05:00                1         0          0   \n2020-05-02 00:00:00-05:00                0         0          0   \n\n                           money_related  other_related  tesla  polarity  \\\ndate                                                                       \n2012-01-03 00:00:00-05:00              0            114      0  0.300000   \n2012-01-04 00:00:00-05:00              0            262      0  0.495000   \n2012-01-06 00:00:00-05:00              0            279      0  0.134722   \n2012-01-11 00:00:00-05:00              0            117      1  0.350000   \n2012-01-12 00:00:00-05:00              0            125      0  0.050000   \n...                                  ...            ...    ...       ...   \n2020-04-28 00:00:00-05:00              0            219      0  0.198611   \n2020-04-29 00:00:00-05:00              0            170      0  0.162500   \n2020-04-30 00:00:00-05:00              0            507      0  0.073173   \n2020-05-01 00:00:00-05:00              2            806      1  0.118046   \n2020-05-02 00:00:00-05:00              0            279      1  0.088889   \n\n                           subjectivity  time_of_day  day_of_week  \\\ndate                                                                \n2012-01-03 00:00:00-05:00      0.308333     1.000000            1   \n2012-01-04 00:00:00-05:00      0.661944    16.000000            2   \n2012-01-06 00:00:00-05:00      0.255556    13.000000            4   \n2012-01-11 00:00:00-05:00      0.650000    21.000000            2   \n2012-01-12 00:00:00-05:00      0.400000    21.000000            3   \n...                                 ...          ...          ...   \n2020-04-28 00:00:00-05:00      0.305556    17.833333            1   \n2020-04-29 00:00:00-05:00      0.283333     4.333333            2   \n2020-04-30 00:00:00-05:00      0.171984    14.842105            3   \n2020-05-01 00:00:00-05:00      0.329831    11.050000            4   \n2020-05-02 00:00:00-05:00      0.188889    16.777778            5   \n\n                                               date  \ndate                                                 \n2012-01-03 00:00:00-05:00 2012-01-03 00:00:00-05:00  \n2012-01-04 00:00:00-05:00 2012-01-04 00:00:00-05:00  \n2012-01-06 00:00:00-05:00 2012-01-06 00:00:00-05:00  \n2012-01-11 00:00:00-05:00 2012-01-11 00:00:00-05:00  \n2012-01-12 00:00:00-05:00 2012-01-12 00:00:00-05:00  \n...                                             ...  \n2020-04-28 00:00:00-05:00 2020-04-28 00:00:00-05:00  \n2020-04-29 00:00:00-05:00 2020-04-29 00:00:00-05:00  \n2020-04-30 00:00:00-05:00 2020-04-30 00:00:00-05:00  \n2020-05-01 00:00:00-05:00 2020-05-01 00:00:00-05:00  \n2020-05-02 00:00:00-05:00 2020-05-02 00:00:00-05:00  \n\n[1695 rows x 15 columns]",
      "text/html": "<div>\n<style scoped>\n    .dataframe tbody tr th:only-of-type {\n        vertical-align: middle;\n    }\n\n    .dataframe tbody tr th {\n        vertical-align: top;\n    }\n\n    .dataframe thead th {\n        text-align: right;\n    }\n</style>\n<table border=\"1\" class=\"dataframe\">\n  <thead>\n    <tr style=\"text-align: right;\">\n      <th></th>\n      <th>retweets</th>\n      <th>favorites</th>\n      <th>replies</th>\n      <th>reply_count</th>\n      <th>closely_related</th>\n      <th>url_news</th>\n      <th>url_video</th>\n      <th>money_related</th>\n      <th>other_related</th>\n      <th>tesla</th>\n      <th>polarity</th>\n      <th>subjectivity</th>\n      <th>time_of_day</th>\n      <th>day_of_week</th>\n      <th>date</th>\n    </tr>\n    <tr>\n      <th>date</th>\n      <th></th>\n      <th></th>\n      <th></th>\n      <th></th>\n      <th></th>\n      <th></th>\n      <th></th>\n      <th></th>\n      <th></th>\n      <th></th>\n      <th></th>\n      <th></th>\n      <th></th>\n      <th></th>\n      <th></th>\n    </tr>\n  </thead>\n  <tbody>\n    <tr>\n      <th>2012-01-03 00:00:00-05:00</th>\n      <td>93</td>\n      <td>21</td>\n      <td>3</td>\n      <td>0</td>\n      <td>0</td>\n      <td>0</td>\n      <td>0</td>\n      <td>0</td>\n      <td>114</td>\n      <td>0</td>\n      <td>0.300000</td>\n      <td>0.308333</td>\n      <td>1.000000</td>\n      <td>1</td>\n      <td>2012-01-03 00:00:00-05:00</td>\n    </tr>\n    <tr>\n      <th>2012-01-04 00:00:00-05:00</th>\n      <td>12</td>\n      <td>22</td>\n      <td>8</td>\n      <td>1</td>\n      <td>0</td>\n      <td>0</td>\n      <td>0</td>\n      <td>0</td>\n      <td>262</td>\n      <td>0</td>\n      <td>0.495000</td>\n      <td>0.661944</td>\n      <td>16.000000</td>\n      <td>2</td>\n      <td>2012-01-04 00:00:00-05:00</td>\n    </tr>\n    <tr>\n      <th>2012-01-06 00:00:00-05:00</th>\n      <td>116</td>\n      <td>37</td>\n      <td>38</td>\n      <td>0</td>\n      <td>2</td>\n      <td>0</td>\n      <td>0</td>\n      <td>0</td>\n      <td>279</td>\n      <td>0</td>\n      <td>0.134722</td>\n      <td>0.255556</td>\n      <td>13.000000</td>\n      <td>4</td>\n      <td>2012-01-06 00:00:00-05:00</td>\n    </tr>\n    <tr>\n      <th>2012-01-11 00:00:00-05:00</th>\n      <td>68</td>\n      <td>325</td>\n      <td>28</td>\n      <td>0</td>\n      <td>0</td>\n      <td>0</td>\n      <td>0</td>\n      <td>0</td>\n      <td>117</td>\n      <td>1</td>\n      <td>0.350000</td>\n      <td>0.650000</td>\n      <td>21.000000</td>\n      <td>2</td>\n      <td>2012-01-11 00:00:00-05:00</td>\n    </tr>\n    <tr>\n      <th>2012-01-12 00:00:00-05:00</th>\n      <td>110</td>\n      <td>30</td>\n      <td>14</td>\n      <td>0</td>\n      <td>1</td>\n      <td>0</td>\n      <td>0</td>\n      <td>0</td>\n      <td>125</td>\n      <td>0</td>\n      <td>0.050000</td>\n      <td>0.400000</td>\n      <td>21.000000</td>\n      <td>3</td>\n      <td>2012-01-12 00:00:00-05:00</td>\n    </tr>\n    <tr>\n      <th>...</th>\n      <td>...</td>\n      <td>...</td>\n      <td>...</td>\n      <td>...</td>\n      <td>...</td>\n      <td>...</td>\n      <td>...</td>\n      <td>...</td>\n      <td>...</td>\n      <td>...</td>\n      <td>...</td>\n      <td>...</td>\n      <td>...</td>\n      <td>...</td>\n      <td>...</td>\n    </tr>\n    <tr>\n      <th>2020-04-28 00:00:00-05:00</th>\n      <td>15660</td>\n      <td>157319</td>\n      <td>4715</td>\n      <td>4</td>\n      <td>0</td>\n      <td>0</td>\n      <td>0</td>\n      <td>0</td>\n      <td>219</td>\n      <td>0</td>\n      <td>0.198611</td>\n      <td>0.305556</td>\n      <td>17.833333</td>\n      <td>1</td>\n      <td>2020-04-28 00:00:00-05:00</td>\n    </tr>\n    <tr>\n      <th>2020-04-29 00:00:00-05:00</th>\n      <td>98006</td>\n      <td>581451</td>\n      <td>63213</td>\n      <td>3</td>\n      <td>0</td>\n      <td>1</td>\n      <td>0</td>\n      <td>0</td>\n      <td>170</td>\n      <td>0</td>\n      <td>0.162500</td>\n      <td>0.283333</td>\n      <td>4.333333</td>\n      <td>2</td>\n      <td>2020-04-29 00:00:00-05:00</td>\n    </tr>\n    <tr>\n      <th>2020-04-30 00:00:00-05:00</th>\n      <td>99374</td>\n      <td>510522</td>\n      <td>34649</td>\n      <td>14</td>\n      <td>0</td>\n      <td>0</td>\n      <td>0</td>\n      <td>0</td>\n      <td>507</td>\n      <td>0</td>\n      <td>0.073173</td>\n      <td>0.171984</td>\n      <td>14.842105</td>\n      <td>3</td>\n      <td>2020-04-30 00:00:00-05:00</td>\n    </tr>\n    <tr>\n      <th>2020-05-01 00:00:00-05:00</th>\n      <td>130810</td>\n      <td>1235995</td>\n      <td>97657</td>\n      <td>10</td>\n      <td>1</td>\n      <td>0</td>\n      <td>0</td>\n      <td>2</td>\n      <td>806</td>\n      <td>1</td>\n      <td>0.118046</td>\n      <td>0.329831</td>\n      <td>11.050000</td>\n      <td>4</td>\n      <td>2020-05-01 00:00:00-05:00</td>\n    </tr>\n    <tr>\n      <th>2020-05-02 00:00:00-05:00</th>\n      <td>5541</td>\n      <td>66980</td>\n      <td>4502</td>\n      <td>9</td>\n      <td>0</td>\n      <td>0</td>\n      <td>0</td>\n      <td>0</td>\n      <td>279</td>\n      <td>1</td>\n      <td>0.088889</td>\n      <td>0.188889</td>\n      <td>16.777778</td>\n      <td>5</td>\n      <td>2020-05-02 00:00:00-05:00</td>\n    </tr>\n  </tbody>\n</table>\n<p>1695 rows × 15 columns</p>\n</div>"
     },
     "metadata": {},
     "execution_count": 660
    }
   ],
   "source": [
    "df2['day_of_week'] = df2.index.dayofweek\n",
    "df2['date'] = df2.index\n",
    "df2"
   ]
  },
  {
   "cell_type": "code",
   "execution_count": 661,
   "metadata": {},
   "outputs": [],
   "source": [
    "def date_alt(df):\n",
    "    date = df['date']\n",
    "    dayofweek = df['day_of_week']\n",
    "    if (dayofweek == 6):\n",
    "        return date + timedelta(days=1)\n",
    "    if (dayofweek == 5):\n",
    "        return date + timedelta(days=2)\n",
    "    return date\n",
    "\n",
    "df2['date'] = df2[['date', 'day_of_week']].apply(date_alt, axis=1) \n",
    "df2.index = df2['date']"
   ]
  },
  {
   "cell_type": "code",
   "execution_count": 662,
   "metadata": {},
   "outputs": [],
   "source": [
    "sums_by_date = df[['date', 'retweets', 'favorites', 'replies', 'reply_count', 'closely_related',  'url_news', 'url_video', 'money_related', 'other_related', 'tesla']].groupby(['date']).max()\n",
    "means_by_date = df[['date', 'polarity', 'subjectivity', 'time_of_day']].groupby(['date']).mean()\n",
    "df2 = pd.merge(sums_by_date, means_by_date, on='date')"
   ]
  },
  {
   "cell_type": "code",
   "execution_count": 663,
   "metadata": {},
   "outputs": [
    {
     "output_type": "execute_result",
     "data": {
      "text/plain": "                           retweets  favorites  replies  reply_count  \\\ndate                                                                   \n2012-01-03 00:00:00-05:00        93         21        3            0   \n2012-01-04 00:00:00-05:00        10         11        6            1   \n2012-01-06 00:00:00-05:00        50         16       18            0   \n2012-01-11 00:00:00-05:00        68        325       28            0   \n2012-01-12 00:00:00-05:00       110         30       14            0   \n...                             ...        ...      ...          ...   \n2020-04-28 00:00:00-05:00     11782      99070     2953            1   \n2020-04-29 00:00:00-05:00     69890     375033    51362            1   \n2020-04-30 00:00:00-05:00     34932     142793    11017            1   \n2020-05-01 00:00:00-05:00     31413     276423    38624            1   \n2020-05-02 00:00:00-05:00      2239      25566     1354            1   \n\n                           closely_related  url_news  url_video  \\\ndate                                                              \n2012-01-03 00:00:00-05:00                0         0          0   \n2012-01-04 00:00:00-05:00                0         0          0   \n2012-01-06 00:00:00-05:00                1         0          0   \n2012-01-11 00:00:00-05:00                0         0          0   \n2012-01-12 00:00:00-05:00                1         0          0   \n...                                    ...       ...        ...   \n2020-04-28 00:00:00-05:00                0         0          0   \n2020-04-29 00:00:00-05:00                0         1          0   \n2020-04-30 00:00:00-05:00                0         0          0   \n2020-05-01 00:00:00-05:00                1         0          0   \n2020-05-02 00:00:00-05:00                0         0          0   \n\n                           money_related  other_related  tesla  polarity  \\\ndate                                                                       \n2012-01-03 00:00:00-05:00              0            114      0  0.300000   \n2012-01-04 00:00:00-05:00              0            131      0  0.495000   \n2012-01-06 00:00:00-05:00              0            124      0  0.134722   \n2012-01-11 00:00:00-05:00              0            117      1  0.350000   \n2012-01-12 00:00:00-05:00              0            125      0  0.050000   \n...                                  ...            ...    ...       ...   \n2020-04-28 00:00:00-05:00              0             65      0  0.198611   \n2020-04-29 00:00:00-05:00              0             99      0  0.162500   \n2020-04-30 00:00:00-05:00              0             87      0  0.073173   \n2020-05-01 00:00:00-05:00              1            106      1  0.118046   \n2020-05-02 00:00:00-05:00              0             90      1  0.088889   \n\n                           subjectivity  time_of_day  day_of_week  \ndate                                                               \n2012-01-03 00:00:00-05:00      0.308333     1.000000            1  \n2012-01-04 00:00:00-05:00      0.661944    16.000000            2  \n2012-01-06 00:00:00-05:00      0.255556    13.000000            4  \n2012-01-11 00:00:00-05:00      0.650000    21.000000            2  \n2012-01-12 00:00:00-05:00      0.400000    21.000000            3  \n...                                 ...          ...          ...  \n2020-04-28 00:00:00-05:00      0.305556    17.833333            1  \n2020-04-29 00:00:00-05:00      0.283333     4.333333            2  \n2020-04-30 00:00:00-05:00      0.171984    14.842105            3  \n2020-05-01 00:00:00-05:00      0.329831    11.050000            4  \n2020-05-02 00:00:00-05:00      0.188889    16.777778            5  \n\n[1695 rows x 14 columns]",
      "text/html": "<div>\n<style scoped>\n    .dataframe tbody tr th:only-of-type {\n        vertical-align: middle;\n    }\n\n    .dataframe tbody tr th {\n        vertical-align: top;\n    }\n\n    .dataframe thead th {\n        text-align: right;\n    }\n</style>\n<table border=\"1\" class=\"dataframe\">\n  <thead>\n    <tr style=\"text-align: right;\">\n      <th></th>\n      <th>retweets</th>\n      <th>favorites</th>\n      <th>replies</th>\n      <th>reply_count</th>\n      <th>closely_related</th>\n      <th>url_news</th>\n      <th>url_video</th>\n      <th>money_related</th>\n      <th>other_related</th>\n      <th>tesla</th>\n      <th>polarity</th>\n      <th>subjectivity</th>\n      <th>time_of_day</th>\n      <th>day_of_week</th>\n    </tr>\n    <tr>\n      <th>date</th>\n      <th></th>\n      <th></th>\n      <th></th>\n      <th></th>\n      <th></th>\n      <th></th>\n      <th></th>\n      <th></th>\n      <th></th>\n      <th></th>\n      <th></th>\n      <th></th>\n      <th></th>\n      <th></th>\n    </tr>\n  </thead>\n  <tbody>\n    <tr>\n      <th>2012-01-03 00:00:00-05:00</th>\n      <td>93</td>\n      <td>21</td>\n      <td>3</td>\n      <td>0</td>\n      <td>0</td>\n      <td>0</td>\n      <td>0</td>\n      <td>0</td>\n      <td>114</td>\n      <td>0</td>\n      <td>0.300000</td>\n      <td>0.308333</td>\n      <td>1.000000</td>\n      <td>1</td>\n    </tr>\n    <tr>\n      <th>2012-01-04 00:00:00-05:00</th>\n      <td>10</td>\n      <td>11</td>\n      <td>6</td>\n      <td>1</td>\n      <td>0</td>\n      <td>0</td>\n      <td>0</td>\n      <td>0</td>\n      <td>131</td>\n      <td>0</td>\n      <td>0.495000</td>\n      <td>0.661944</td>\n      <td>16.000000</td>\n      <td>2</td>\n    </tr>\n    <tr>\n      <th>2012-01-06 00:00:00-05:00</th>\n      <td>50</td>\n      <td>16</td>\n      <td>18</td>\n      <td>0</td>\n      <td>1</td>\n      <td>0</td>\n      <td>0</td>\n      <td>0</td>\n      <td>124</td>\n      <td>0</td>\n      <td>0.134722</td>\n      <td>0.255556</td>\n      <td>13.000000</td>\n      <td>4</td>\n    </tr>\n    <tr>\n      <th>2012-01-11 00:00:00-05:00</th>\n      <td>68</td>\n      <td>325</td>\n      <td>28</td>\n      <td>0</td>\n      <td>0</td>\n      <td>0</td>\n      <td>0</td>\n      <td>0</td>\n      <td>117</td>\n      <td>1</td>\n      <td>0.350000</td>\n      <td>0.650000</td>\n      <td>21.000000</td>\n      <td>2</td>\n    </tr>\n    <tr>\n      <th>2012-01-12 00:00:00-05:00</th>\n      <td>110</td>\n      <td>30</td>\n      <td>14</td>\n      <td>0</td>\n      <td>1</td>\n      <td>0</td>\n      <td>0</td>\n      <td>0</td>\n      <td>125</td>\n      <td>0</td>\n      <td>0.050000</td>\n      <td>0.400000</td>\n      <td>21.000000</td>\n      <td>3</td>\n    </tr>\n    <tr>\n      <th>...</th>\n      <td>...</td>\n      <td>...</td>\n      <td>...</td>\n      <td>...</td>\n      <td>...</td>\n      <td>...</td>\n      <td>...</td>\n      <td>...</td>\n      <td>...</td>\n      <td>...</td>\n      <td>...</td>\n      <td>...</td>\n      <td>...</td>\n      <td>...</td>\n    </tr>\n    <tr>\n      <th>2020-04-28 00:00:00-05:00</th>\n      <td>11782</td>\n      <td>99070</td>\n      <td>2953</td>\n      <td>1</td>\n      <td>0</td>\n      <td>0</td>\n      <td>0</td>\n      <td>0</td>\n      <td>65</td>\n      <td>0</td>\n      <td>0.198611</td>\n      <td>0.305556</td>\n      <td>17.833333</td>\n      <td>1</td>\n    </tr>\n    <tr>\n      <th>2020-04-29 00:00:00-05:00</th>\n      <td>69890</td>\n      <td>375033</td>\n      <td>51362</td>\n      <td>1</td>\n      <td>0</td>\n      <td>1</td>\n      <td>0</td>\n      <td>0</td>\n      <td>99</td>\n      <td>0</td>\n      <td>0.162500</td>\n      <td>0.283333</td>\n      <td>4.333333</td>\n      <td>2</td>\n    </tr>\n    <tr>\n      <th>2020-04-30 00:00:00-05:00</th>\n      <td>34932</td>\n      <td>142793</td>\n      <td>11017</td>\n      <td>1</td>\n      <td>0</td>\n      <td>0</td>\n      <td>0</td>\n      <td>0</td>\n      <td>87</td>\n      <td>0</td>\n      <td>0.073173</td>\n      <td>0.171984</td>\n      <td>14.842105</td>\n      <td>3</td>\n    </tr>\n    <tr>\n      <th>2020-05-01 00:00:00-05:00</th>\n      <td>31413</td>\n      <td>276423</td>\n      <td>38624</td>\n      <td>1</td>\n      <td>1</td>\n      <td>0</td>\n      <td>0</td>\n      <td>1</td>\n      <td>106</td>\n      <td>1</td>\n      <td>0.118046</td>\n      <td>0.329831</td>\n      <td>11.050000</td>\n      <td>4</td>\n    </tr>\n    <tr>\n      <th>2020-05-02 00:00:00-05:00</th>\n      <td>2239</td>\n      <td>25566</td>\n      <td>1354</td>\n      <td>1</td>\n      <td>0</td>\n      <td>0</td>\n      <td>0</td>\n      <td>0</td>\n      <td>90</td>\n      <td>1</td>\n      <td>0.088889</td>\n      <td>0.188889</td>\n      <td>16.777778</td>\n      <td>5</td>\n    </tr>\n  </tbody>\n</table>\n<p>1695 rows × 14 columns</p>\n</div>"
     },
     "metadata": {},
     "execution_count": 663
    }
   ],
   "source": [
    "df2['day_of_week'] = df2.index.dayofweek\n",
    "df2"
   ]
  },
  {
   "cell_type": "code",
   "execution_count": 664,
   "metadata": {},
   "outputs": [
    {
     "output_type": "execute_result",
     "data": {
      "text/plain": "            retweets     favorites       replies  reply_count  \\\ncount    1695.000000  1.695000e+03   1695.000000  1695.000000   \nmean     7704.011799  4.886037e+04   1318.374631     0.751032   \nstd     21353.469730  1.051993e+05   3183.498871     0.432543   \nmin         0.000000  1.000000e+00      0.000000     0.000000   \n25%       335.000000  9.005000e+02    105.000000     1.000000   \n50%      1646.000000  9.650000e+03    405.000000     1.000000   \n75%      5752.500000  4.770600e+04   1383.000000     1.000000   \nmax    391538.000000  1.711258e+06  51362.000000     1.000000   \n\n       closely_related     url_news    url_video  money_related  \\\ncount      1695.000000  1695.000000  1695.000000    1695.000000   \nmean          0.425959     0.057227     0.088496       0.031858   \nstd           0.776141     0.232345     0.284098       0.188638   \nmin           0.000000     0.000000     0.000000       0.000000   \n25%           0.000000     0.000000     0.000000       0.000000   \n50%           0.000000     0.000000     0.000000       0.000000   \n75%           1.000000     0.000000     0.000000       0.000000   \nmax           7.000000     1.000000     1.000000       2.000000   \n\n       other_related        tesla     polarity  subjectivity  time_of_day  \\\ncount    1695.000000  1695.000000  1695.000000   1695.000000  1695.000000   \nmean      126.112094     0.399410     0.134157      0.346711    13.209956   \nstd        66.622413     0.617819     0.193205      0.218366     5.304266   \nmin         2.000000     0.000000    -0.800000      0.000000     0.000000   \n25%        83.000000     0.000000     0.000000      0.204514    10.055556   \n50%       121.000000     0.000000     0.106647      0.336264    14.000000   \n75%       153.500000     1.000000     0.214352      0.475000    17.000000   \nmax       445.000000     3.000000     1.000000      1.000000    23.000000   \n\n       day_of_week  \ncount  1695.000000  \nmean      2.966962  \nstd       1.974177  \nmin       0.000000  \n25%       1.000000  \n50%       3.000000  \n75%       5.000000  \nmax       6.000000  ",
      "text/html": "<div>\n<style scoped>\n    .dataframe tbody tr th:only-of-type {\n        vertical-align: middle;\n    }\n\n    .dataframe tbody tr th {\n        vertical-align: top;\n    }\n\n    .dataframe thead th {\n        text-align: right;\n    }\n</style>\n<table border=\"1\" class=\"dataframe\">\n  <thead>\n    <tr style=\"text-align: right;\">\n      <th></th>\n      <th>retweets</th>\n      <th>favorites</th>\n      <th>replies</th>\n      <th>reply_count</th>\n      <th>closely_related</th>\n      <th>url_news</th>\n      <th>url_video</th>\n      <th>money_related</th>\n      <th>other_related</th>\n      <th>tesla</th>\n      <th>polarity</th>\n      <th>subjectivity</th>\n      <th>time_of_day</th>\n      <th>day_of_week</th>\n    </tr>\n  </thead>\n  <tbody>\n    <tr>\n      <th>count</th>\n      <td>1695.000000</td>\n      <td>1.695000e+03</td>\n      <td>1695.000000</td>\n      <td>1695.000000</td>\n      <td>1695.000000</td>\n      <td>1695.000000</td>\n      <td>1695.000000</td>\n      <td>1695.000000</td>\n      <td>1695.000000</td>\n      <td>1695.000000</td>\n      <td>1695.000000</td>\n      <td>1695.000000</td>\n      <td>1695.000000</td>\n      <td>1695.000000</td>\n    </tr>\n    <tr>\n      <th>mean</th>\n      <td>7704.011799</td>\n      <td>4.886037e+04</td>\n      <td>1318.374631</td>\n      <td>0.751032</td>\n      <td>0.425959</td>\n      <td>0.057227</td>\n      <td>0.088496</td>\n      <td>0.031858</td>\n      <td>126.112094</td>\n      <td>0.399410</td>\n      <td>0.134157</td>\n      <td>0.346711</td>\n      <td>13.209956</td>\n      <td>2.966962</td>\n    </tr>\n    <tr>\n      <th>std</th>\n      <td>21353.469730</td>\n      <td>1.051993e+05</td>\n      <td>3183.498871</td>\n      <td>0.432543</td>\n      <td>0.776141</td>\n      <td>0.232345</td>\n      <td>0.284098</td>\n      <td>0.188638</td>\n      <td>66.622413</td>\n      <td>0.617819</td>\n      <td>0.193205</td>\n      <td>0.218366</td>\n      <td>5.304266</td>\n      <td>1.974177</td>\n    </tr>\n    <tr>\n      <th>min</th>\n      <td>0.000000</td>\n      <td>1.000000e+00</td>\n      <td>0.000000</td>\n      <td>0.000000</td>\n      <td>0.000000</td>\n      <td>0.000000</td>\n      <td>0.000000</td>\n      <td>0.000000</td>\n      <td>2.000000</td>\n      <td>0.000000</td>\n      <td>-0.800000</td>\n      <td>0.000000</td>\n      <td>0.000000</td>\n      <td>0.000000</td>\n    </tr>\n    <tr>\n      <th>25%</th>\n      <td>335.000000</td>\n      <td>9.005000e+02</td>\n      <td>105.000000</td>\n      <td>1.000000</td>\n      <td>0.000000</td>\n      <td>0.000000</td>\n      <td>0.000000</td>\n      <td>0.000000</td>\n      <td>83.000000</td>\n      <td>0.000000</td>\n      <td>0.000000</td>\n      <td>0.204514</td>\n      <td>10.055556</td>\n      <td>1.000000</td>\n    </tr>\n    <tr>\n      <th>50%</th>\n      <td>1646.000000</td>\n      <td>9.650000e+03</td>\n      <td>405.000000</td>\n      <td>1.000000</td>\n      <td>0.000000</td>\n      <td>0.000000</td>\n      <td>0.000000</td>\n      <td>0.000000</td>\n      <td>121.000000</td>\n      <td>0.000000</td>\n      <td>0.106647</td>\n      <td>0.336264</td>\n      <td>14.000000</td>\n      <td>3.000000</td>\n    </tr>\n    <tr>\n      <th>75%</th>\n      <td>5752.500000</td>\n      <td>4.770600e+04</td>\n      <td>1383.000000</td>\n      <td>1.000000</td>\n      <td>1.000000</td>\n      <td>0.000000</td>\n      <td>0.000000</td>\n      <td>0.000000</td>\n      <td>153.500000</td>\n      <td>1.000000</td>\n      <td>0.214352</td>\n      <td>0.475000</td>\n      <td>17.000000</td>\n      <td>5.000000</td>\n    </tr>\n    <tr>\n      <th>max</th>\n      <td>391538.000000</td>\n      <td>1.711258e+06</td>\n      <td>51362.000000</td>\n      <td>1.000000</td>\n      <td>7.000000</td>\n      <td>1.000000</td>\n      <td>1.000000</td>\n      <td>2.000000</td>\n      <td>445.000000</td>\n      <td>3.000000</td>\n      <td>1.000000</td>\n      <td>1.000000</td>\n      <td>23.000000</td>\n      <td>6.000000</td>\n    </tr>\n  </tbody>\n</table>\n</div>"
     },
     "metadata": {},
     "execution_count": 664
    }
   ],
   "source": [
    "df2.describe()"
   ]
  },
  {
   "cell_type": "code",
   "execution_count": 665,
   "metadata": {},
   "outputs": [
    {
     "output_type": "execute_result",
     "data": {
      "text/plain": "retweets             int64\nfavorites            int64\nreplies              int64\nreply_count          int32\nclosely_related      int64\nurl_news             int32\nurl_video            int32\nmoney_related        int64\nother_related        int64\ntesla                int64\npolarity           float64\nsubjectivity       float64\ntime_of_day        float64\nday_of_week          int64\ndtype: object"
     },
     "metadata": {},
     "execution_count": 665
    }
   ],
   "source": [
    "# cat_col = df2[['retweets', 'favorites', 'replies', 'url_news', 'url_video', 'is_retweet', 'closely_related', 'money_related', 'other_related', 'tesla', 'day_of_week', 'time_of_day']]\n",
    "# cat_col = catcol.astype('category')\n",
    "# val_col = df2[['polarity', 'subjectivity']]\n",
    "# df3 = pd.merge(cat_col, val_col, on='date')\n",
    "df2.dtypes"
   ]
  },
  {
   "cell_type": "code",
   "execution_count": 666,
   "metadata": {},
   "outputs": [],
   "source": [
    "df2.to_pickle('tweets_processed.pkl')"
   ]
  }
 ],
 "metadata": {
  "language_info": {
   "codemirror_mode": {
    "name": "ipython",
    "version": 3
   },
   "file_extension": ".py",
   "mimetype": "text/x-python",
   "name": "python",
   "nbconvert_exporter": "python",
   "pygments_lexer": "ipython3",
   "version": "3.8.2-final"
  },
  "orig_nbformat": 2,
  "kernelspec": {
   "name": "python38264bitelonmusktweetsvsteslastockpipenvf8b8e951f16b4655a48ec4c89fae8154",
   "display_name": "Python 3.8.2 64-bit ('Elon-Musk-Tweets-VS-Tesla-Stock': pipenv)"
  }
 },
 "nbformat": 4,
 "nbformat_minor": 2
}