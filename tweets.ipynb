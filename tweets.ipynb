{
 "cells": [
  {
   "cell_type": "code",
   "execution_count": 314,
   "metadata": {},
   "outputs": [],
   "source": [
    "import pandas as pd\n",
    "from textblob import TextBlob\n",
    "import re"
   ]
  },
  {
   "cell_type": "code",
   "execution_count": 315,
   "metadata": {},
   "outputs": [],
   "source": [
    "df = pd.read_csv('tweets.csv', encoding=\"utf-8\")"
   ]
  },
  {
   "cell_type": "code",
   "execution_count": 316,
   "metadata": {},
   "outputs": [
    {
     "output_type": "execute_result",
     "data": {
      "text/plain": "username             0\nto                1874\ntext                93\nretweets             0\nfavorites            0\nreplies              0\nid                   0\npermalink            0\nauthor_id            0\ndate                 0\nformatted_date       0\nhashtags          8192\nmentions          7833\ngeo               8205\nurls              7272\ndtype: int64"
     },
     "metadata": {},
     "execution_count": 316
    }
   ],
   "source": [
    "df.isnull().sum()"
   ]
  },
  {
   "cell_type": "code",
   "execution_count": 317,
   "metadata": {},
   "outputs": [],
   "source": [
    "# drop insignificant columns\n",
    "df.drop(['username', 'id', 'permalink', 'author_id', 'geo', 'hashtags', 'formatted_date', 'mentions'], axis=1, inplace=True)"
   ]
  },
  {
   "cell_type": "code",
   "execution_count": 318,
   "metadata": {},
   "outputs": [
    {
     "output_type": "execute_result",
     "data": {
      "text/plain": "0                          @TheEconomist Interesting name\n1       @Benzinga I didn't take anyone's car and never...\n2       My best guess for 2016: ~70% landing success r...\n3                          @JeffBezos @SpaceX Thanks Jeff\n4       Falcon lands on droneship, but the lockout col...\n                              ...                        \n8200    Yeah, very important to provide C/BiPAP device...\n8201    Invasive ventilators are for worst case patien...\n8202    Exactly. Moreover, all hospitals were given ex...\n8203                         Will call when we reach Mars\n8204                                              Exactly\nName: text, Length: 8205, dtype: object"
     },
     "metadata": {},
     "execution_count": 318
    }
   ],
   "source": [
    "df['text'].astype(str)"
   ]
  },
  {
   "cell_type": "code",
   "execution_count": 319,
   "metadata": {},
   "outputs": [
    {
     "output_type": "execute_result",
     "data": {
      "text/plain": "            retweets     favorites       replies\ncount    8205.000000  8.205000e+03   8205.000000\nmean     2252.576843  1.807881e+04    487.715661\nstd     10393.932164  5.455258e+04   1594.076078\nmin         0.000000  6.000000e+01      0.000000\n25%        41.000000  9.170000e+02     41.000000\n50%       122.000000  2.339000e+03     98.000000\n75%       982.000000  1.207400e+04    379.000000\nmax    391852.000000  1.712683e+06  51016.000000",
      "text/html": "<div>\n<style scoped>\n    .dataframe tbody tr th:only-of-type {\n        vertical-align: middle;\n    }\n\n    .dataframe tbody tr th {\n        vertical-align: top;\n    }\n\n    .dataframe thead th {\n        text-align: right;\n    }\n</style>\n<table border=\"1\" class=\"dataframe\">\n  <thead>\n    <tr style=\"text-align: right;\">\n      <th></th>\n      <th>retweets</th>\n      <th>favorites</th>\n      <th>replies</th>\n    </tr>\n  </thead>\n  <tbody>\n    <tr>\n      <th>count</th>\n      <td>8205.000000</td>\n      <td>8.205000e+03</td>\n      <td>8205.000000</td>\n    </tr>\n    <tr>\n      <th>mean</th>\n      <td>2252.576843</td>\n      <td>1.807881e+04</td>\n      <td>487.715661</td>\n    </tr>\n    <tr>\n      <th>std</th>\n      <td>10393.932164</td>\n      <td>5.455258e+04</td>\n      <td>1594.076078</td>\n    </tr>\n    <tr>\n      <th>min</th>\n      <td>0.000000</td>\n      <td>6.000000e+01</td>\n      <td>0.000000</td>\n    </tr>\n    <tr>\n      <th>25%</th>\n      <td>41.000000</td>\n      <td>9.170000e+02</td>\n      <td>41.000000</td>\n    </tr>\n    <tr>\n      <th>50%</th>\n      <td>122.000000</td>\n      <td>2.339000e+03</td>\n      <td>98.000000</td>\n    </tr>\n    <tr>\n      <th>75%</th>\n      <td>982.000000</td>\n      <td>1.207400e+04</td>\n      <td>379.000000</td>\n    </tr>\n    <tr>\n      <th>max</th>\n      <td>391852.000000</td>\n      <td>1.712683e+06</td>\n      <td>51016.000000</td>\n    </tr>\n  </tbody>\n</table>\n</div>"
     },
     "metadata": {},
     "execution_count": 319
    }
   ],
   "source": [
    "df.describe()"
   ]
  },
  {
   "cell_type": "code",
   "execution_count": 320,
   "metadata": {},
   "outputs": [
    {
     "output_type": "execute_result",
     "data": {
      "text/plain": "             to                                               text  retweets  \\\n0  TheEconomist                     @TheEconomist Interesting name       263   \n1      Benzinga  @Benzinga I didn't take anyone's car and never...        47   \n2           NaN  My best guess for 2016: ~70% landing success r...      1431   \n3     JeffBezos                     @JeffBezos @SpaceX Thanks Jeff       158   \n4           NaN  Falcon lands on droneship, but the lockout col...      8026   \n\n   favorites  replies                       date  \\\n0       1262       71  2016-01-23 19:43:17+00:00   \n1        242       53  2016-01-20 17:56:05+00:00   \n2       5151      393  2016-01-19 04:11:54+00:00   \n3       1068       50  2016-01-18 03:09:21+00:00   \n4       8693     1234  2016-01-18 03:07:21+00:00   \n\n                                       urls  \n0                                       NaN  \n1                                       NaN  \n2                                       NaN  \n3                                       NaN  \n4  https://www.instagram.com/p/BAqirNbwEc0/  ",
      "text/html": "<div>\n<style scoped>\n    .dataframe tbody tr th:only-of-type {\n        vertical-align: middle;\n    }\n\n    .dataframe tbody tr th {\n        vertical-align: top;\n    }\n\n    .dataframe thead th {\n        text-align: right;\n    }\n</style>\n<table border=\"1\" class=\"dataframe\">\n  <thead>\n    <tr style=\"text-align: right;\">\n      <th></th>\n      <th>to</th>\n      <th>text</th>\n      <th>retweets</th>\n      <th>favorites</th>\n      <th>replies</th>\n      <th>date</th>\n      <th>urls</th>\n    </tr>\n  </thead>\n  <tbody>\n    <tr>\n      <th>0</th>\n      <td>TheEconomist</td>\n      <td>@TheEconomist Interesting name</td>\n      <td>263</td>\n      <td>1262</td>\n      <td>71</td>\n      <td>2016-01-23 19:43:17+00:00</td>\n      <td>NaN</td>\n    </tr>\n    <tr>\n      <th>1</th>\n      <td>Benzinga</td>\n      <td>@Benzinga I didn't take anyone's car and never...</td>\n      <td>47</td>\n      <td>242</td>\n      <td>53</td>\n      <td>2016-01-20 17:56:05+00:00</td>\n      <td>NaN</td>\n    </tr>\n    <tr>\n      <th>2</th>\n      <td>NaN</td>\n      <td>My best guess for 2016: ~70% landing success r...</td>\n      <td>1431</td>\n      <td>5151</td>\n      <td>393</td>\n      <td>2016-01-19 04:11:54+00:00</td>\n      <td>NaN</td>\n    </tr>\n    <tr>\n      <th>3</th>\n      <td>JeffBezos</td>\n      <td>@JeffBezos @SpaceX Thanks Jeff</td>\n      <td>158</td>\n      <td>1068</td>\n      <td>50</td>\n      <td>2016-01-18 03:09:21+00:00</td>\n      <td>NaN</td>\n    </tr>\n    <tr>\n      <th>4</th>\n      <td>NaN</td>\n      <td>Falcon lands on droneship, but the lockout col...</td>\n      <td>8026</td>\n      <td>8693</td>\n      <td>1234</td>\n      <td>2016-01-18 03:07:21+00:00</td>\n      <td>https://www.instagram.com/p/BAqirNbwEc0/</td>\n    </tr>\n  </tbody>\n</table>\n</div>"
     },
     "metadata": {},
     "execution_count": 320
    }
   ],
   "source": [
    "df.head()"
   ]
  },
  {
   "cell_type": "code",
   "execution_count": 321,
   "metadata": {},
   "outputs": [],
   "source": [
    "# # parse date as index and convert timezone to EST\n",
    "df['date'] = pd.to_datetime( df['date'], format='%Y-%m-%d %H:%M:%S')\n",
    "df['date'] = df['date'].dt.tz_convert('EST')"
   ]
  },
  {
   "cell_type": "code",
   "execution_count": 322,
   "metadata": {},
   "outputs": [
    {
     "output_type": "stream",
     "name": "stdout",
     "text": "<class 'pandas.core.frame.DataFrame'>\nRangeIndex: 8205 entries, 0 to 8204\nData columns (total 7 columns):\n #   Column     Non-Null Count  Dtype              \n---  ------     --------------  -----              \n 0   to         6331 non-null   object             \n 1   text       8112 non-null   object             \n 2   retweets   8205 non-null   int64              \n 3   favorites  8205 non-null   int64              \n 4   replies    8205 non-null   int64              \n 5   date       8205 non-null   datetime64[ns, EST]\n 6   urls       933 non-null    object             \ndtypes: datetime64[ns, EST](1), int64(3), object(3)\nmemory usage: 448.8+ KB\n"
    }
   ],
   "source": [
    "df.info()"
   ]
  },
  {
   "cell_type": "code",
   "execution_count": 323,
   "metadata": {},
   "outputs": [],
   "source": [
    "# sentiment_analysis\n",
    "def sentiment_calc(text):\n",
    "    try:\n",
    "        return TextBlob(text).sentiment\n",
    "    except:\n",
    "        return (0, 0)\n",
    "\n",
    "df['sentiment'] = df['text'].apply(sentiment_calc)\n",
    "df['polarity'] = df['sentiment'].apply(lambda x: tuple(x)[0])\n",
    "df['subjectivity'] = df['sentiment'].apply(lambda x: tuple(x)[1])\n",
    "df.drop(['sentiment'], axis=1, inplace=True)"
   ]
  },
  {
   "cell_type": "code",
   "execution_count": 324,
   "metadata": {},
   "outputs": [],
   "source": [
    "# extract info of if url is news\n",
    "reg = r'https?:\\/\\/([\\w\\d.]+)\\/[\\w\\d\\/\\-\\?\\=]*'\n",
    "news_keywords = r'wsj|news|forbes|bloomberg|finance|money|investopedia|marketwatch|cnbc|times|fortune|nasdaq|cnn|huffpost|cnn|usatoday|npr'\n",
    "def get_domain(url):\n",
    "    url = str(url)\n",
    "    result =  re.search(reg, url)\n",
    "    if result:\n",
    "        return result.group(1)\n",
    "    return None\n",
    "\n",
    "df['url_domain'] = df['urls'].apply(get_domain)\n",
    "df['url_news'] = df['url_domain'].str.contains(news_keywords)\n",
    "df['url_news'].fillna(False, inplace=True)\n",
    "\n",
    "df.drop(['url_domain'], axis=1, inplace=True)"
   ]
  },
  {
   "cell_type": "code",
   "execution_count": 325,
   "metadata": {},
   "outputs": [],
   "source": [
    "# extract info of if url is video\n",
    "df['url_video'] = df['urls'].str.contains('video|youtube.com|watch')\n",
    "df['url_video'].fillna(False, inplace=True)\n",
    "df.drop(['urls'], axis=1, inplace=True)"
   ]
  },
  {
   "cell_type": "code",
   "execution_count": 326,
   "metadata": {},
   "outputs": [],
   "source": [
    "# find if tweet is a retweet\n",
    "df['is_retweet'] = df['to'].notnull()\n",
    "df.drop(['to'], axis=1, inplace=True)"
   ]
  },
  {
   "cell_type": "code",
   "execution_count": 327,
   "metadata": {},
   "outputs": [],
   "source": [
    "# extract keyword count\n",
    "tesla = '[Tt]esla'\n",
    "closely_related_keywords = r'Model [\\w\\d]|Cars? | cars? |[Tt]ruck|[Ee]lectric|[Ss]olar|[Rr]oof|Semi|[Aa]uto(nomous|pilot|steer(ing)?)?|[Pp]anel|[Ee]nergy|[Mm]egapack|drive(ing)|[Tt]axi? | acceleration|top speed|brak(e|ing)'\n",
    "money_related_keywords = r'[Aa]ffordable|[Cc]heap|[Ee]xpensive|[Pp]rice]|[Ss]tock'\n",
    "other_related_keywords = r'[Ss]pace|[Mm]ars|[Ll]aunch|AI|neural|Boring Company|Hyperloop|[Ii]terview|boringcompany'\n",
    "def word_match_count(text, pattern):\n",
    "    if text is None:\n",
    "        return 0\n",
    "    text = str(text)\n",
    "    return len(re.findall(pattern, text))\n",
    "\n",
    "df['closely_related'] = df['text'].apply(word_match_count, args=(closely_related_keywords,))\n",
    "df['money_related'] = df['text'].apply(word_match_count, args=(money_related_keywords,))\n",
    "df['other_related'] = df['text'].apply(word_match_count, args=(other_related_keywords,))\n",
    "df['tesla'] = df['text'].apply(word_match_count, args=(tesla,))\n",
    "df.drop(['text'], axis=1, inplace=True)"
   ]
  },
  {
   "cell_type": "code",
   "execution_count": 328,
   "metadata": {},
   "outputs": [],
   "source": [
    "# convert bool to int\n",
    "df[['is_retweet', 'url_news', 'url_video']] = df[['is_retweet', 'url_news', 'url_video']].astype(int)"
   ]
  },
  {
   "cell_type": "code",
   "execution_count": 329,
   "metadata": {},
   "outputs": [
    {
     "output_type": "execute_result",
     "data": {
      "text/plain": "            retweets     favorites       replies     polarity  subjectivity  \\\ncount    8205.000000  8.205000e+03   8205.000000  8205.000000   8205.000000   \nmean     2252.576843  1.807881e+04    487.715661     0.119454      0.334493   \nstd     10393.932164  5.455258e+04   1594.076078     0.266830      0.312552   \nmin         0.000000  6.000000e+01      0.000000    -1.000000      0.000000   \n25%        41.000000  9.170000e+02     41.000000     0.000000      0.000000   \n50%       122.000000  2.339000e+03     98.000000     0.000000      0.325000   \n75%       982.000000  1.207400e+04    379.000000     0.250000      0.566667   \nmax    391852.000000  1.712683e+06  51016.000000     1.000000      1.000000   \n\n          url_news    url_video   is_retweet  closely_related  money_related  \\\ncount  8205.000000  8205.000000  8205.000000      8205.000000    8205.000000   \nmean      0.007313     0.015235     0.771603         0.160024       0.006216   \nstd       0.085206     0.122492     0.419826         0.509405       0.083122   \nmin       0.000000     0.000000     0.000000         0.000000       0.000000   \n25%       0.000000     0.000000     1.000000         0.000000       0.000000   \n50%       0.000000     0.000000     1.000000         0.000000       0.000000   \n75%       0.000000     0.000000     1.000000         0.000000       0.000000   \nmax       1.000000     1.000000     1.000000         7.000000       2.000000   \n\n       other_related        tesla  \ncount    8205.000000  8205.000000  \nmean        0.090189     0.101523  \nstd         0.340157     0.343575  \nmin         0.000000     0.000000  \n25%         0.000000     0.000000  \n50%         0.000000     0.000000  \n75%         0.000000     0.000000  \nmax         4.000000     3.000000  ",
      "text/html": "<div>\n<style scoped>\n    .dataframe tbody tr th:only-of-type {\n        vertical-align: middle;\n    }\n\n    .dataframe tbody tr th {\n        vertical-align: top;\n    }\n\n    .dataframe thead th {\n        text-align: right;\n    }\n</style>\n<table border=\"1\" class=\"dataframe\">\n  <thead>\n    <tr style=\"text-align: right;\">\n      <th></th>\n      <th>retweets</th>\n      <th>favorites</th>\n      <th>replies</th>\n      <th>polarity</th>\n      <th>subjectivity</th>\n      <th>url_news</th>\n      <th>url_video</th>\n      <th>is_retweet</th>\n      <th>closely_related</th>\n      <th>money_related</th>\n      <th>other_related</th>\n      <th>tesla</th>\n    </tr>\n  </thead>\n  <tbody>\n    <tr>\n      <th>count</th>\n      <td>8205.000000</td>\n      <td>8.205000e+03</td>\n      <td>8205.000000</td>\n      <td>8205.000000</td>\n      <td>8205.000000</td>\n      <td>8205.000000</td>\n      <td>8205.000000</td>\n      <td>8205.000000</td>\n      <td>8205.000000</td>\n      <td>8205.000000</td>\n      <td>8205.000000</td>\n      <td>8205.000000</td>\n    </tr>\n    <tr>\n      <th>mean</th>\n      <td>2252.576843</td>\n      <td>1.807881e+04</td>\n      <td>487.715661</td>\n      <td>0.119454</td>\n      <td>0.334493</td>\n      <td>0.007313</td>\n      <td>0.015235</td>\n      <td>0.771603</td>\n      <td>0.160024</td>\n      <td>0.006216</td>\n      <td>0.090189</td>\n      <td>0.101523</td>\n    </tr>\n    <tr>\n      <th>std</th>\n      <td>10393.932164</td>\n      <td>5.455258e+04</td>\n      <td>1594.076078</td>\n      <td>0.266830</td>\n      <td>0.312552</td>\n      <td>0.085206</td>\n      <td>0.122492</td>\n      <td>0.419826</td>\n      <td>0.509405</td>\n      <td>0.083122</td>\n      <td>0.340157</td>\n      <td>0.343575</td>\n    </tr>\n    <tr>\n      <th>min</th>\n      <td>0.000000</td>\n      <td>6.000000e+01</td>\n      <td>0.000000</td>\n      <td>-1.000000</td>\n      <td>0.000000</td>\n      <td>0.000000</td>\n      <td>0.000000</td>\n      <td>0.000000</td>\n      <td>0.000000</td>\n      <td>0.000000</td>\n      <td>0.000000</td>\n      <td>0.000000</td>\n    </tr>\n    <tr>\n      <th>25%</th>\n      <td>41.000000</td>\n      <td>9.170000e+02</td>\n      <td>41.000000</td>\n      <td>0.000000</td>\n      <td>0.000000</td>\n      <td>0.000000</td>\n      <td>0.000000</td>\n      <td>1.000000</td>\n      <td>0.000000</td>\n      <td>0.000000</td>\n      <td>0.000000</td>\n      <td>0.000000</td>\n    </tr>\n    <tr>\n      <th>50%</th>\n      <td>122.000000</td>\n      <td>2.339000e+03</td>\n      <td>98.000000</td>\n      <td>0.000000</td>\n      <td>0.325000</td>\n      <td>0.000000</td>\n      <td>0.000000</td>\n      <td>1.000000</td>\n      <td>0.000000</td>\n      <td>0.000000</td>\n      <td>0.000000</td>\n      <td>0.000000</td>\n    </tr>\n    <tr>\n      <th>75%</th>\n      <td>982.000000</td>\n      <td>1.207400e+04</td>\n      <td>379.000000</td>\n      <td>0.250000</td>\n      <td>0.566667</td>\n      <td>0.000000</td>\n      <td>0.000000</td>\n      <td>1.000000</td>\n      <td>0.000000</td>\n      <td>0.000000</td>\n      <td>0.000000</td>\n      <td>0.000000</td>\n    </tr>\n    <tr>\n      <th>max</th>\n      <td>391852.000000</td>\n      <td>1.712683e+06</td>\n      <td>51016.000000</td>\n      <td>1.000000</td>\n      <td>1.000000</td>\n      <td>1.000000</td>\n      <td>1.000000</td>\n      <td>1.000000</td>\n      <td>7.000000</td>\n      <td>2.000000</td>\n      <td>4.000000</td>\n      <td>3.000000</td>\n    </tr>\n  </tbody>\n</table>\n</div>"
     },
     "metadata": {},
     "execution_count": 329
    }
   ],
   "source": [
    "df.describe()"
   ]
  },
  {
   "cell_type": "code",
   "execution_count": 330,
   "metadata": {},
   "outputs": [],
   "source": [
    "df['day_of_week'] = df['date'].dt.dayofweek"
   ]
  },
  {
   "cell_type": "code",
   "execution_count": 331,
   "metadata": {},
   "outputs": [],
   "source": [
    "def check_if_during_market(date):\n",
    "    closing_time = dateteime(x.year, x.month, x.day, 16, 0, tzinfo=date.tzinfo)\n",
    "    if date >= closing_time:\n",
    "        date = date + timedelta(days=1)\n",
    "\n",
    "df['date'] = df['date'].apply(lambda x: datetime(x.year, x.month, x.day, tzinfo=x.tzinfo))"
   ]
  },
  {
   "cell_type": "code",
   "execution_count": 332,
   "metadata": {},
   "outputs": [],
   "source": [
    "from datetime import timedelta \n",
    "from datetime import datetime\n",
    "def date_alt(df):\n",
    "    date = df['date']\n",
    "    dayofweek = df['day_of_week']\n",
    "    if (dayofweek == 6):\n",
    "        return date + timedelta(days=1)\n",
    "    if (dayofweek == 5):\n",
    "        return date + timedelta(days=2)\n",
    "    return date\n",
    "\n",
    "df['date'] = df[['date', 'day_of_week']].apply(date_alt, axis=1) "
   ]
  },
  {
   "cell_type": "code",
   "execution_count": 333,
   "metadata": {},
   "outputs": [],
   "source": [
    "sums_by_date = df[['date', 'retweets', 'favorites', 'replies', 'is_retweet', 'closely_related', 'money_related', 'other_related', 'tesla']].groupby(['date']).sum()\n",
    "means_by_date = df[['date', 'polarity', 'subjectivity']].groupby(['date']).mean()\n",
    "df2 = pd.merge(sums_by_date, means_by_date, on='date')"
   ]
  },
  {
   "cell_type": "code",
   "execution_count": 334,
   "metadata": {},
   "outputs": [
    {
     "output_type": "execute_result",
     "data": {
      "text/plain": "                           retweets  favorites  replies  is_retweet  \\\ndate                                                                  \n2016-01-04 00:00:00-05:00       871       3013      261           0   \n2016-01-11 00:00:00-05:00     12040      23921     1333           2   \n2016-01-12 00:00:00-05:00       856       2098      124           1   \n2016-01-15 00:00:00-05:00      1559       5520      322           1   \n2016-01-18 00:00:00-05:00     22010      43225     3949           6   \n...                             ...        ...      ...         ...   \n2020-04-27 00:00:00-05:00     81131     738373    22426          43   \n2020-04-28 00:00:00-05:00      1119      21631      322           1   \n2020-04-29 00:00:00-05:00    137456     781791    77666           8   \n2020-04-30 00:00:00-05:00     57024     289003    20880          11   \n2020-05-01 00:00:00-05:00    124550    1156410    95075          16   \n\n                           closely_related  money_related  other_related  \\\ndate                                                                       \n2016-01-04 00:00:00-05:00                0              0              0   \n2016-01-11 00:00:00-05:00                2              0              1   \n2016-01-12 00:00:00-05:00                0              0              1   \n2016-01-15 00:00:00-05:00                0              0              0   \n2016-01-18 00:00:00-05:00                0              0              2   \n...                                    ...            ...            ...   \n2020-04-27 00:00:00-05:00                2              0              3   \n2020-04-28 00:00:00-05:00                0              0              0   \n2020-04-29 00:00:00-05:00                0              0              0   \n2020-04-30 00:00:00-05:00                0              0              2   \n2020-05-01 00:00:00-05:00                1              2              2   \n\n                           tesla  polarity  subjectivity  \ndate                                                      \n2016-01-04 00:00:00-05:00      0  0.200000      0.150000  \n2016-01-11 00:00:00-05:00      1  0.092000      0.473000  \n2016-01-12 00:00:00-05:00      0  0.000000      0.000000  \n2016-01-15 00:00:00-05:00      0  0.425000      0.400000  \n2016-01-18 00:00:00-05:00      0  0.130705      0.290235  \n...                          ...       ...           ...  \n2020-04-27 00:00:00-05:00      0  0.147439      0.298169  \n2020-04-28 00:00:00-05:00      0  0.000000      0.000000  \n2020-04-29 00:00:00-05:00      0  0.082341      0.175397  \n2020-04-30 00:00:00-05:00      0  0.112500      0.212473  \n2020-05-01 00:00:00-05:00      2  0.111959      0.309485  \n\n[892 rows x 10 columns]",
      "text/html": "<div>\n<style scoped>\n    .dataframe tbody tr th:only-of-type {\n        vertical-align: middle;\n    }\n\n    .dataframe tbody tr th {\n        vertical-align: top;\n    }\n\n    .dataframe thead th {\n        text-align: right;\n    }\n</style>\n<table border=\"1\" class=\"dataframe\">\n  <thead>\n    <tr style=\"text-align: right;\">\n      <th></th>\n      <th>retweets</th>\n      <th>favorites</th>\n      <th>replies</th>\n      <th>is_retweet</th>\n      <th>closely_related</th>\n      <th>money_related</th>\n      <th>other_related</th>\n      <th>tesla</th>\n      <th>polarity</th>\n      <th>subjectivity</th>\n    </tr>\n    <tr>\n      <th>date</th>\n      <th></th>\n      <th></th>\n      <th></th>\n      <th></th>\n      <th></th>\n      <th></th>\n      <th></th>\n      <th></th>\n      <th></th>\n      <th></th>\n    </tr>\n  </thead>\n  <tbody>\n    <tr>\n      <th>2016-01-04 00:00:00-05:00</th>\n      <td>871</td>\n      <td>3013</td>\n      <td>261</td>\n      <td>0</td>\n      <td>0</td>\n      <td>0</td>\n      <td>0</td>\n      <td>0</td>\n      <td>0.200000</td>\n      <td>0.150000</td>\n    </tr>\n    <tr>\n      <th>2016-01-11 00:00:00-05:00</th>\n      <td>12040</td>\n      <td>23921</td>\n      <td>1333</td>\n      <td>2</td>\n      <td>2</td>\n      <td>0</td>\n      <td>1</td>\n      <td>1</td>\n      <td>0.092000</td>\n      <td>0.473000</td>\n    </tr>\n    <tr>\n      <th>2016-01-12 00:00:00-05:00</th>\n      <td>856</td>\n      <td>2098</td>\n      <td>124</td>\n      <td>1</td>\n      <td>0</td>\n      <td>0</td>\n      <td>1</td>\n      <td>0</td>\n      <td>0.000000</td>\n      <td>0.000000</td>\n    </tr>\n    <tr>\n      <th>2016-01-15 00:00:00-05:00</th>\n      <td>1559</td>\n      <td>5520</td>\n      <td>322</td>\n      <td>1</td>\n      <td>0</td>\n      <td>0</td>\n      <td>0</td>\n      <td>0</td>\n      <td>0.425000</td>\n      <td>0.400000</td>\n    </tr>\n    <tr>\n      <th>2016-01-18 00:00:00-05:00</th>\n      <td>22010</td>\n      <td>43225</td>\n      <td>3949</td>\n      <td>6</td>\n      <td>0</td>\n      <td>0</td>\n      <td>2</td>\n      <td>0</td>\n      <td>0.130705</td>\n      <td>0.290235</td>\n    </tr>\n    <tr>\n      <th>...</th>\n      <td>...</td>\n      <td>...</td>\n      <td>...</td>\n      <td>...</td>\n      <td>...</td>\n      <td>...</td>\n      <td>...</td>\n      <td>...</td>\n      <td>...</td>\n      <td>...</td>\n    </tr>\n    <tr>\n      <th>2020-04-27 00:00:00-05:00</th>\n      <td>81131</td>\n      <td>738373</td>\n      <td>22426</td>\n      <td>43</td>\n      <td>2</td>\n      <td>0</td>\n      <td>3</td>\n      <td>0</td>\n      <td>0.147439</td>\n      <td>0.298169</td>\n    </tr>\n    <tr>\n      <th>2020-04-28 00:00:00-05:00</th>\n      <td>1119</td>\n      <td>21631</td>\n      <td>322</td>\n      <td>1</td>\n      <td>0</td>\n      <td>0</td>\n      <td>0</td>\n      <td>0</td>\n      <td>0.000000</td>\n      <td>0.000000</td>\n    </tr>\n    <tr>\n      <th>2020-04-29 00:00:00-05:00</th>\n      <td>137456</td>\n      <td>781791</td>\n      <td>77666</td>\n      <td>8</td>\n      <td>0</td>\n      <td>0</td>\n      <td>0</td>\n      <td>0</td>\n      <td>0.082341</td>\n      <td>0.175397</td>\n    </tr>\n    <tr>\n      <th>2020-04-30 00:00:00-05:00</th>\n      <td>57024</td>\n      <td>289003</td>\n      <td>20880</td>\n      <td>11</td>\n      <td>0</td>\n      <td>0</td>\n      <td>2</td>\n      <td>0</td>\n      <td>0.112500</td>\n      <td>0.212473</td>\n    </tr>\n    <tr>\n      <th>2020-05-01 00:00:00-05:00</th>\n      <td>124550</td>\n      <td>1156410</td>\n      <td>95075</td>\n      <td>16</td>\n      <td>1</td>\n      <td>2</td>\n      <td>2</td>\n      <td>2</td>\n      <td>0.111959</td>\n      <td>0.309485</td>\n    </tr>\n  </tbody>\n</table>\n<p>892 rows × 10 columns</p>\n</div>"
     },
     "metadata": {},
     "execution_count": 334
    }
   ],
   "source": [
    "df2"
   ]
  },
  {
   "cell_type": "code",
   "execution_count": 335,
   "metadata": {},
   "outputs": [],
   "source": [
    "df2.to_pickle('tweets_processed.pkl')"
   ]
  }
 ],
 "metadata": {
  "language_info": {
   "codemirror_mode": {
    "name": "ipython",
    "version": 3
   },
   "file_extension": ".py",
   "mimetype": "text/x-python",
   "name": "python",
   "nbconvert_exporter": "python",
   "pygments_lexer": "ipython3",
   "version": "3.8.2-final"
  },
  "orig_nbformat": 2,
  "kernelspec": {
   "name": "python38264bitelonmusktweetsvsteslastockpipenvf8b8e951f16b4655a48ec4c89fae8154",
   "display_name": "Python 3.8.2 64-bit ('Elon-Musk-Tweets-VS-Tesla-Stock': pipenv)"
  }
 },
 "nbformat": 4,
 "nbformat_minor": 2
}